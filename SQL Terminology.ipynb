{
 "cells": [
  {
   "cell_type": "markdown",
   "id": "bb8265d3",
   "metadata": {},
   "source": [
    "# SQL Terminology\n",
    "The Structured Query Language or SQL is all about executing certain commands against the database or creating it\n",
    "\n",
    "In SQL Server, all these commands are categorically organized into four categories, and they are **DML**, **DDL**, **DCL**, and **TCL** Commands."
   ]
  },
  {
   "cell_type": "markdown",
   "id": "0255e3bd",
   "metadata": {},
   "source": [
    "## DDL Commands"
   ]
  },
  {
   "cell_type": "markdown",
   "id": "fdbeb043",
   "metadata": {},
   "source": [
    "DDL stands for Data Descriptive Language, used to create and modify the structure of a database and database objects. \n",
    "** Don't have to use From.\n"
   ]
  },
  {
   "cell_type": "markdown",
   "id": "1bacfd76",
   "metadata": {},
   "source": [
    "#### Examples of DDL Commands"
   ]
  },
  {
   "cell_type": "markdown",
   "id": "d78bd2de",
   "metadata": {},
   "source": [
    "```\n",
    "CREATE – Create an object. I mean, create a database, table, triggers, index, functions, stored procedures, etc.\n",
    "DROP – This SQL DDL command helps to delete objects. For example, delete tables, delete a database, etc.\n",
    "ALTER – Used to alter the existing database or its object structures.\n",
    "TRUNCATE – This SQL DDL command removes records from tables\n",
    "RENAME – Renaming the database objects\n",
    "\n",
    "```"
   ]
  },
  {
   "cell_type": "markdown",
   "id": "996d61c2",
   "metadata": {},
   "source": [
    "## DML Commands"
   ]
  },
  {
   "cell_type": "markdown",
   "id": "f6ef9ae8",
   "metadata": {},
   "source": [
    "DML means Data Manipulation Language in Sql Server. As its name suggests, these Sql Server DML commands will perform data manipulation to manipulate data presented in the server.\n",
    "** Have to specify what table you are manipulation -> Using From."
   ]
  },
  {
   "cell_type": "markdown",
   "id": "74711e36",
   "metadata": {},
   "source": [
    "```\n",
    "SELECT – This SQL DML command select records or data from a table\n",
    "INSERT – Insert data into a database table.\n",
    "UPDATE – This SQL DML command will update existing records within a table\n",
    "DELETE – Delete unwanted records from a table\n",
    "```"
   ]
  },
  {
   "cell_type": "markdown",
   "id": "706161b9",
   "metadata": {},
   "source": [
    "## DCL Commands \n",
    "\n",
    "The Sql Server DCL means Data Control Language. These DCL commands in SQL Server will control the Data access permission."
   ]
  },
  {
   "cell_type": "markdown",
   "id": "4f9aeabd",
   "metadata": {},
   "source": [
    "```\n",
    "GRANT – It permits users to access the database.\n",
    "REVOKE – This SQL DCL command withdraws the permission given by GRANT to access the database.\n",
    "```"
   ]
  },
  {
   "cell_type": "markdown",
   "id": "582a0f2f",
   "metadata": {},
   "source": [
    "### Examples of DCL Code"
   ]
  },
  {
   "cell_type": "markdown",
   "id": "075ad794",
   "metadata": {},
   "source": [
    "\n",
    "**Definiton**\n",
    "```\n",
    "GRANT privilege [,privilege],.. \n",
    "ON privilege_level \n",
    "TO account_name;\n",
    "````\n",
    "**Example of granting SELECT to user**\n",
    "```\n",
    "GRANT SELECT\n",
    "ON employees\n",
    "TO bob@localhost;\n",
    "```\n",
    "**Example of granting INSERT to user**\n",
    "```\n",
    "GRANT INSERT \n",
    "ON classicmodels.* \n",
    "TO bob@localhost;\n",
    "```\n",
    "\n",
    "**Example of granting column privledges to user**\n",
    "```\n",
    "GRANT \n",
    "   SELECT (employeeNumner,lastName, firstName,email), \n",
    "   UPDATE(lastName) \n",
    "ON employees \n",
    "TO bob@localhost;\n",
    "\n",
    "```\n",
    "**Example of creating a user, granting all permissions and showing grants**\n",
    "\n",
    "```\n",
    "CREATE USER super@localhost \n",
    "IDENTIFIED BY 'Secure1Pass!'; \n",
    "\n",
    "\n",
    "GRANT ALL \n",
    "ON classicmodels.* \n",
    "TO super@localhost;\n",
    "\n",
    "\n",
    "SHOW GRANTS FOR super@localhost;\n",
    "```"
   ]
  },
  {
   "cell_type": "markdown",
   "id": "f46ab0cb",
   "metadata": {},
   "source": [
    "## TCL Commands \n",
    "TCL means Transaction Control Language"
   ]
  },
  {
   "cell_type": "markdown",
   "id": "edb08876",
   "metadata": {},
   "source": [
    "```\n",
    "COMMIT –  This SQL TCL command will commit the running transaction\n",
    "ROLLBACK – Rollback the current transaction \n",
    "SAVEPOINT – You can set a save point so that, next time it will start from here\n",
    "SET TRANSACTION – Specify the characteristics of the transactions \n",
    "```"
   ]
  },
  {
   "cell_type": "markdown",
   "id": "f1dbf86a",
   "metadata": {},
   "source": [
    "### Definition of a transaction (kind of like a fail safe for mysql operations) "
   ]
  },
  {
   "cell_type": "markdown",
   "id": "509e1e86",
   "metadata": {},
   "source": [
    "MySQL transaction allows you to execute a set of MySQL operations to ensure that the database never contains the result of partial operations. In a set of operations, if one of them fails, the rollback occurs to restore the database to its original state. If no error occurs, the entire set of statements is committed to the database."
   ]
  },
  {
   "cell_type": "markdown",
   "id": "fbabcbd1",
   "metadata": {},
   "source": [
    "### TCL (Continued What is a transaction?)"
   ]
  },
  {
   "cell_type": "markdown",
   "id": "fc541a8b",
   "metadata": {},
   "source": [
    "By default, MySQL automatically commits the changes permanently to the database. To force MySQL not to commit changes automatically, you use the following statements:\n",
    "\n",
    "```\n",
    "SET autocommit = 0;\n",
    "SET autocommit = OFF\n",
    "```\n",
    "\n",
    "Conversely you can explicitly by turning them on \n",
    "\n",
    "``` \n",
    "\n",
    "SET autocommit = 1;\n",
    "SET autocommit = ON;\n",
    "```"
   ]
  },
  {
   "cell_type": "markdown",
   "id": "dc69af0e",
   "metadata": {},
   "source": [
    "### Example of using a transaction"
   ]
  },
  {
   "cell_type": "markdown",
   "id": "6f4d965d",
   "metadata": {},
   "source": [
    "```\n",
    "-- 1. start a new transaction\n",
    "START TRANSACTION;\n",
    "\n",
    "-- 2. Get the latest order number\n",
    "SELECT \n",
    "    @orderNumber:=MAX(orderNUmber)+1\n",
    "FROM\n",
    "    orders;\n",
    "\n",
    "-- 3. insert a new order for customer 145\n",
    "INSERT INTO orders(orderNumber,\n",
    "                   orderDate,\n",
    "                   requiredDate,\n",
    "                   shippedDate,\n",
    "                   status,\n",
    "                   customerNumber)\n",
    "VALUES(@orderNumber,\n",
    "       '2005-05-31',\n",
    "       '2005-06-10',\n",
    "       '2005-06-11',\n",
    "       'In Process',\n",
    "        145);\n",
    "        \n",
    "-- 4. Insert order line items\n",
    "INSERT INTO orderdetails(orderNumber,\n",
    "                         productCode,\n",
    "                         quantityOrdered,\n",
    "                         priceEach,\n",
    "                         orderLineNumber)\n",
    "VALUES(@orderNumber,'S18_1749', 30, '136', 1),\n",
    "      (@orderNumber,'S18_2248', 50, '55.09', 2); \n",
    "      \n",
    "-- 5. commit changes    \n",
    "COMMIT;\n",
    "SELECT \n",
    "    a.orderNumber,\n",
    "    orderDate,\n",
    "    requiredDate,\n",
    "    shippedDate,\n",
    "    status,\n",
    "    comments,\n",
    "    customerNumber,\n",
    "    orderLineNumber,\n",
    "    productCode,\n",
    "    quantityOrdered,\n",
    "    priceEach\n",
    "FROM\n",
    "    orders a\n",
    "        INNER JOIN\n",
    "    orderdetails b USING (orderNumber)\n",
    "WHERE\n",
    "    a.ordernumber = 10426;\n",
    "\n",
    "COMMIT;\n",
    "```"
   ]
  },
  {
   "cell_type": "markdown",
   "id": "81608aeb",
   "metadata": {},
   "source": [
    "### As we've already seen sqlite when we call commit, it finalizes the transaction "
   ]
  },
  {
   "cell_type": "markdown",
   "id": "03807c12",
   "metadata": {},
   "source": [
    "```\n",
    "SELECT \n",
    "    a.orderNumber,\n",
    "    orderDate,\n",
    "    requiredDate,\n",
    "    shippedDate,\n",
    "    status,\n",
    "    comments,\n",
    "    customerNumber,\n",
    "    orderLineNumber,\n",
    "    productCode,\n",
    "    quantityOrdered,\n",
    "    priceEach\n",
    "FROM\n",
    "    orders a\n",
    "        INNER JOIN\n",
    "    orderdetails b USING (orderNumber)\n",
    "WHERE\n",
    "    a.ordernumber = 10426;\n",
    "```"
   ]
  },
  {
   "cell_type": "markdown",
   "id": "d0dd60ad",
   "metadata": {},
   "source": [
    "### Example of using Rollback"
   ]
  },
  {
   "cell_type": "markdown",
   "id": "91a4f456",
   "metadata": {},
   "source": [
    "**note**: we can use Rollback in place of COMMIT to nullify changes to a transaction"
   ]
  },
  {
   "cell_type": "markdown",
   "id": "ca6f3a20",
   "metadata": {},
   "source": [
    "```\n",
    "mysql> START TRANSACTION;\n",
    "Query OK, 0 rows affected (0.00 sec)\n",
    "\n",
    "mysql> DELETE FROM orders;\n",
    "Query OK, 327 rows affected (0.03 sec)\n",
    "mysql> SELECT COUNT(*) FROM orders;\n",
    "+----------+\n",
    "| COUNT(*) |\n",
    "+----------+\n",
    "|      327 |\n",
    "+----------+\n",
    "1 row in set (0.00 sec)\n",
    "mysql> ROLLBACK;\n",
    "Query OK, 0 rows affected (0.04 sec)\n",
    "mysql> SELECT COUNT(*) FROM orders;\n",
    "+----------+\n",
    "| COUNT(*) |\n",
    "+----------+\n",
    "|      327 |\n",
    "+----------+\n",
    "1 row in set (0.00 sec)\n",
    "```"
   ]
  },
  {
   "cell_type": "code",
   "execution_count": null,
   "id": "385a166e",
   "metadata": {},
   "outputs": [],
   "source": []
  }
 ],
 "metadata": {
  "kernelspec": {
   "display_name": "Python 3.9.5 64-bit",
   "language": "python",
   "name": "python395jvsc74a57bd0b0fa6594d8f4cbf19f97940f81e996739fb7646882a419484c72d19e05852a7e"
  },
  "language_info": {
   "codemirror_mode": {
    "name": "ipython",
    "version": 3
   },
   "file_extension": ".py",
   "mimetype": "text/x-python",
   "name": "python",
   "nbconvert_exporter": "python",
   "pygments_lexer": "ipython3",
   "version": "3.9.5"
  }
 },
 "nbformat": 4,
 "nbformat_minor": 5
}