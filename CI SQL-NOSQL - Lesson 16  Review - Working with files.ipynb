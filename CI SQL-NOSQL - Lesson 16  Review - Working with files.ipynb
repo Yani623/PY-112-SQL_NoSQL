{
 "cells": [
  {
   "cell_type": "markdown",
   "id": "c76a34c8",
   "metadata": {},
   "source": [
    "## warm up exercise  \n",
    "\n",
    "- write a query that inserts a time stamp every 30 seconds into a new table called log. Then write a trigger that runs after an insertion takes place into log and inserts "
   ]
  },
  {
   "cell_type": "markdown",
   "id": "bdedba79",
   "metadata": {},
   "source": [
    "## how to list files in a directory "
   ]
  },
  {
   "cell_type": "code",
   "execution_count": 6,
   "id": "22b65a05",
   "metadata": {},
   "outputs": [
    {
     "name": "stdout",
     "output_type": "stream",
     "text": [
      "['june_24th_hw.txt', 'CI SQL-NOSQL - Lesson 02.ipynb', 'find_most_common_word.py', 'solutions_first_10.sql', 'world_data_alt_solutions.py', 'hw_06_30_solutions.txt', 'hw_08_07_solutions.py', 'vowels2.py', 'count_most_common_letter_in_text_solution.py', 'hw_solutions_sql_27_questions.sql', 'countries_sql_queries.sql', 'max_common_letter_solutions.py', 'this_assignment.py', 'art_shop_example.sql', 'scraping_hw1.py', 'sql_generator.py', 'zipcodes.py', 'ascii_calculator_part1.py', 'exercise_practice.py', 'vowel_or_not_alt_solutions.py', 'country_scraper.py', 'test.json', 'ciphers_solution.py', 'vowels.py', 'pyramid_problem.py', 'exercise_practice2.py', 'dog_data.csv', 'ascii_calculator_part2.py', 'zipcodes_with_tables.py', 'books_scraper.py', 'char_sym_digit_count.py', 'intro_sql_exercise.txt', 'zipcodes_data.txt', 'hw_2_solution.py', 'advaned_sql_topics.txt', 'intro_sql_exercise2.txt', 'members_committees.sql', 'pythonic.py', '.ipynb_checkpoints', 'g7_hw_solution.py', 'in_class_assignment.py', 'pyramid_problem_alt.py', 'sql_practice_day2.py', 'hw_06_30.txt', 'testing_hw.py', 'Titanic.db', 'ip_addresses_alternate_solutions.py', 'hardware_store.db', 'double_letter.py']\n"
     ]
    },
    {
     "ename": "FileNotFoundError",
     "evalue": "[Errno 2] No such file or directory: '*.py'",
     "output_type": "error",
     "traceback": [
      "\u001b[0;31m---------------------------------------------------------------------------\u001b[0m",
      "\u001b[0;31mFileNotFoundError\u001b[0m                         Traceback (most recent call last)",
      "\u001b[0;32m<ipython-input-6-61d824508e82>\u001b[0m in \u001b[0;36m<module>\u001b[0;34m\u001b[0m\n\u001b[1;32m      5\u001b[0m \u001b[0;34m\u001b[0m\u001b[0m\n\u001b[1;32m      6\u001b[0m \u001b[0;31m#list only python files.\u001b[0m\u001b[0;34m\u001b[0m\u001b[0;34m\u001b[0m\u001b[0;34m\u001b[0m\u001b[0m\n\u001b[0;32m----> 7\u001b[0;31m \u001b[0mpy_files\u001b[0m \u001b[0;34m=\u001b[0m \u001b[0mos\u001b[0m\u001b[0;34m.\u001b[0m\u001b[0mlistdir\u001b[0m\u001b[0;34m(\u001b[0m\u001b[0;34m'*.py'\u001b[0m\u001b[0;34m)\u001b[0m\u001b[0;34m\u001b[0m\u001b[0;34m\u001b[0m\u001b[0m\n\u001b[0m\u001b[1;32m      8\u001b[0m \u001b[0mprint\u001b[0m\u001b[0;34m(\u001b[0m\u001b[0mpy_files\u001b[0m\u001b[0;34m)\u001b[0m\u001b[0;34m\u001b[0m\u001b[0;34m\u001b[0m\u001b[0m\n",
      "\u001b[0;31mFileNotFoundError\u001b[0m: [Errno 2] No such file or directory: '*.py'"
     ]
    }
   ],
   "source": [
    "import os \n",
    "os.chdir('/Users/andrewdoyle/Documents/code-immersives/py-112-code/exercises/')\n",
    "files = os.listdir('.')\n",
    "print(files)\n",
    "\n",
    "#list only python files. \n",
    "py_files = os.listdir('*.py')\n",
    "print(py_files)\n",
    "\n",
    "# listdir doesn't let us pass things like that, so we have to filter manually if we wanna use listdir \n",
    "py_files = [py_file for py_file in os.listdir('.') if py_file.endswith(\".py\")]\n",
    "\n"
   ]
  },
  {
   "cell_type": "markdown",
   "id": "00528a77",
   "metadata": {},
   "source": [
    "## Listing files with glob"
   ]
  },
  {
   "cell_type": "code",
   "execution_count": 30,
   "id": "92fff2b7",
   "metadata": {},
   "outputs": [
    {
     "name": "stdout",
     "output_type": "stream",
     "text": [
      "find_most_common_word.py\n",
      "world_data_alt_solutions.py\n",
      "hw_08_07_solutions.py\n",
      "vowels2.py\n",
      "count_most_common_letter_in_text_solution.py\n",
      "max_common_letter_solutions.py\n",
      "this_assignment.py\n",
      "123.py\n",
      "scraping_hw1.py\n",
      "sql_generator.py\n",
      "zipcodes.py\n",
      "ascii_calculator_part1.py\n",
      "exercise_practice.py\n",
      "vowel_or_not_alt_solutions.py\n",
      "country_scraper.py\n",
      "ciphers_solution.py\n",
      "vowels.py\n",
      "pyramid_problem.py\n",
      "exercise_practice2.py\n",
      "ascii_calculator_part2.py\n",
      "zipcodes_with_tables.py\n",
      "books_scraper.py\n",
      "char_sym_digit_count.py\n",
      "hw_2_solution.py\n",
      "1.py\n",
      "pythonic.py\n",
      "g7_hw_solution.py\n",
      "in_class_assignment.py\n",
      "pyramid_problem_alt.py\n",
      "sql_practice_day2.py\n",
      "testing_hw.py\n",
      "ip_addresses_alternate_solutions.py\n",
      "double_letter.py\n",
      "====================================\n",
      "1.py\n"
     ]
    }
   ],
   "source": [
    "import os \n",
    "from glob import glob\n",
    "file_path = \"/Users/andrewdoyle/Documents/code-immersives/py-112-code/exercises/\"\n",
    "os.chdir(file_path)\n",
    "\n",
    "\n",
    "# prints all files in working directory ending with .py\n",
    "for file in glob(\"*.py\"):\n",
    "    print(file)\n",
    "\n",
    "# finds one file with \n",
    "print(\"=\" * 36)    \n",
    "for file in glob('[0-9].py'):\n",
    "    print(file)"
   ]
  },
  {
   "cell_type": "markdown",
   "id": "34a03818",
   "metadata": {},
   "source": [
    "## Using truncate to clear out a table "
   ]
  },
  {
   "cell_type": "markdown",
   "id": "23fb5e90",
   "metadata": {},
   "source": [
    "```\n",
    "Truncate <table name>\n",
    "\n",
    "```"
   ]
  },
  {
   "cell_type": "code",
   "execution_count": null,
   "id": "3630f469",
   "metadata": {},
   "outputs": [],
   "source": []
  }
 ],
 "metadata": {
  "kernelspec": {
   "display_name": "Python 3.9.5 64-bit",
   "language": "python",
   "name": "python395jvsc74a57bd0b0fa6594d8f4cbf19f97940f81e996739fb7646882a419484c72d19e05852a7e"
  },
  "language_info": {
   "codemirror_mode": {
    "name": "ipython",
    "version": 3
   },
   "file_extension": ".py",
   "mimetype": "text/x-python",
   "name": "python",
   "nbconvert_exporter": "python",
   "pygments_lexer": "ipython3",
   "version": "3.9.5"
  }
 },
 "nbformat": 4,
 "nbformat_minor": 5
}
