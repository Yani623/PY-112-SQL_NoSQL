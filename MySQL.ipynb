{
 "metadata": {
  "language_info": {
   "codemirror_mode": {
    "name": "ipython",
    "version": 3
   },
   "file_extension": ".py",
   "mimetype": "text/x-python",
   "name": "python",
   "nbconvert_exporter": "python",
   "pygments_lexer": "ipython3",
   "version": 3
  },
  "orig_nbformat": 4
 },
 "nbformat": 4,
 "nbformat_minor": 2,
 "cells": [
  {
   "source": [
    "# Connecting to MySQL\n"
   ],
   "cell_type": "markdown",
   "metadata": {}
  },
  {
   "cell_type": "code",
   "execution_count": null,
   "metadata": {},
   "outputs": [],
   "source": [
    "\n",
    "\n",
    "import mysql.connector\n",
    "from dotenv import dotenv_values\n",
    "\n",
    "config = dotenv_values(\".env\")  \n",
    "\n",
    "mydb = mysql.connector.connect(\n",
    "  host=config['HOST'],\n",
    "  user=config['USER'],\n",
    "  password=config['PASSWORD'],\n",
    "  database=config['DATABASE'])\n",
    "\n",
    "mycursor = mydb.cursor()\n",
    "\n",
    "mycursor.execute()\n",
    "\n",
    "\n",
    "\n",
    "\n",
    "\n",
    "\n",
    "mydb.commit()\n",
    "# mycursor.executemany('Select * From \"list_name\"')\n",
    "# for x in mycursor:\n",
    "#   print(x)\n",
    "mydb.close()"
   ]
  }
 ]
}