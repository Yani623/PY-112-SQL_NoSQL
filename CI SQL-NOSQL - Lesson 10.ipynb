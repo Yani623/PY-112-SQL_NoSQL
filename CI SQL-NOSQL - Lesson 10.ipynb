{
 "cells": [
  {
   "cell_type": "markdown",
   "id": "6faffcce",
   "metadata": {},
   "source": [
    "# HW Review"
   ]
  },
  {
   "cell_type": "markdown",
   "id": "3859e4f8",
   "metadata": {},
   "source": []
  },
  {
   "cell_type": "markdown",
   "id": "4d84c1ee",
   "metadata": {},
   "source": [
    "# Warm-Up Exercise For Today"
   ]
  },
  {
   "cell_type": "markdown",
   "id": "c4670428",
   "metadata": {},
   "source": [
    "given the dataset provided MOCK_DATA.csv, find out the following: \n",
    "- sort the IP addresses by the first three digits (network identifier) \n",
    "- What are all the domains in the emails (domain i.e. : @engadget.com)\n",
    "- what is the most common domain name ? \n",
    "- Out of the emails create a dictionary of counts for the top level domain names (.com, .pl etc..)\n",
    "```\n",
    "{ '.com': 10, .... }\n",
    "```\n",
    "\n",
    "- Write a function called check_username that takes an email address and checks that the first letter matches the first letter of the name in the first name column and the rest of the string is from the last name \n",
    "\n",
    "```\n",
    "def check_username(email, firstname, lastname):\n",
    "    \n",
    "```\n"
   ]
  },
  {
   "cell_type": "markdown",
   "id": "33fdfd14",
   "metadata": {},
   "source": [
    "# IP Addresses"
   ]
  },
  {
   "cell_type": "markdown",
   "id": "68de885e",
   "metadata": {},
   "source": [
    "An IP address is a string of numbers separated by periods. IP addresses are expressed as a set of four numbers — an example address might be 192.158.1.38. Each number in the set can range from 0 to 255. So, the full IP addressing range goes from 0.0.0.0 to 255.255.255.255."
   ]
  },
  {
   "cell_type": "markdown",
   "id": "932ba271",
   "metadata": {},
   "source": [
    "# Domain Names"
   ]
  },
  {
   "cell_type": "markdown",
   "id": "edf189b5",
   "metadata": {},
   "source": [
    "https://en.wikipedia.org/wiki/List_of_Internet_top-level_domains#Types"
   ]
  },
  {
   "cell_type": "markdown",
   "id": "f78fdb3e",
   "metadata": {},
   "source": [
    "# Scraping XML"
   ]
  },
  {
   "attachments": {},
   "cell_type": "markdown",
   "id": "35a80dcb",
   "metadata": {},
   "source": [
    "\n",
    "\n",
    "\n",
    "\n"
   ]
  },
  {
   "attachments": {},
   "cell_type": "markdown",
   "id": "cb89770d",
   "metadata": {},
   "source": [
    "```\n",
    "<?xml version=\"1.0\" ?>\n",
    "<books>\n",
    "  <book>\n",
    "    <title>The Cat in the Hat</title>\n",
    "    <author>Dr. Seuss</author>\n",
    "    <price>6.99</price>\n",
    "  </book>\n",
    "  <book>\n",
    "    <title>Ender's Game</title>\n",
    "    <author>Orson Scott Card</author>\n",
    "    <price>8.99</price>\n",
    "  </book>\n",
    "  <book>\n",
    "    <title>Prey</title>\n",
    "    <author>Michael Crichton</author>\n",
    "    <price>9.35</price>\n",
    "  </book>\n",
    "</books>\n",
    "```\n"
   ]
  },
  {
   "cell_type": "code",
   "execution_count": 143,
   "id": "b42f76a0",
   "metadata": {},
   "outputs": [
    {
     "output_type": "stream",
     "name": "stdout",
     "text": [
      "The Cat in the Hat\nEnder's Game\nPrey\n"
     ]
    }
   ],
   "source": [
    "from bs4 import BeautifulSoup\n",
    "with open(\"books.xml\",\"r\") as infile:\n",
    "    contents = infile.read()\n",
    "soup = BeautifulSoup(contents, \"html.parser\")\n",
    "titles = soup.find_all('title')\n",
    "for title in titles:\n",
    "    print(title.get_text())"
   ]
  },
  {
   "cell_type": "markdown",
   "id": "b8c86587",
   "metadata": {},
   "source": [
    "## Exercise \n",
    "use find_all to get all the titles, authors and prices from books.xml"
   ]
  },
  {
   "cell_type": "code",
   "execution_count": 1,
   "id": "81a214f1",
   "metadata": {},
   "outputs": [
    {
     "output_type": "stream",
     "name": "stdout",
     "text": [
      "The Cat in the Hat\nEnder's Game\nPrey\nDr. Seuss\nOrson Scott Card\nMichael Crichton\n6.99\n8.99\n9.35\n"
     ]
    }
   ],
   "source": [
    "from bs4 import BeautifulSoup\n",
    "with open(\"books.xml\",\"r\") as infile:\n",
    "    contents = infile.read()\n",
    "soup = BeautifulSoup(contents,'html')\n",
    "titles = soup.find_all('title')\n",
    "for title in titles:\n",
    "    print(title.get_text())\n",
    "authors = soup.find_all('author')\n",
    "for author in authors:\n",
    "    print(author.get_text())\n",
    "    authors = soup.find_all('author')\n",
    "prices = soup.find_all('price')\n",
    "for price in prices:\n",
    "    print(price.get_text())"
   ]
  },
  {
   "cell_type": "markdown",
   "id": "2a6318e9",
   "metadata": {},
   "source": [
    "# Class selectors"
   ]
  },
  {
   "cell_type": "code",
   "execution_count": 20,
   "id": "cfe74a3c",
   "metadata": {},
   "outputs": [
    {
     "output_type": "stream",
     "name": "stdout",
     "text": [
      "Elsie\nLacie\nTillie\n"
     ]
    }
   ],
   "source": [
    "from bs4 import BeautifulSoup\n",
    "html_doc = \"\"\"\n",
    "<html><head><title>The Dormouse's story</title></head>\n",
    "<body>\n",
    "<p class=\"title\"><b>The Dormouse's story</b></p>\n",
    "\n",
    "<p class=\"story\">Once upon a time there were three little sisters; and their names were\n",
    "<a href=\"http://example.com/elsie\" class=\"sister\" id=\"link1\">Elsie</a>,\n",
    "<a href=\"http://example.com/lacie\" class=\"sister\" id=\"link2\">Lacie</a> and\n",
    "<a href=\"http://example.com/tillie\" class=\"sister\" id=\"link3\">Tillie</a>;\n",
    "and they lived at the bottom of a well.</p>\n",
    "\n",
    "<p class=\"story\">...</p>\n",
    "\"\"\"\n",
    "from bs4 import BeautifulSoup\n",
    "soup = BeautifulSoup(html_doc, 'html.parser')\n",
    "# print(soup.prettify())\n",
    "mydivs = soup.find_all(\"a\", {\"class\": \"sister\"})\n",
    "for x in mydivs:\n",
    "    print(x.get_text())\n"
   ]
  },
  {
   "cell_type": "markdown",
   "id": "0eba584e",
   "metadata": {},
   "source": [
    "## Exercise:  \n",
    "scrape out quotes from http://quotes.toscrape.com/ and save them in a new database called quotes with the fields, author, text and tags\n",
    "\n",
    "extra: How would you design the system differently if you wanted each entry to reflect the id of each individual tag?"
   ]
  },
  {
   "cell_type": "code",
   "execution_count": 92,
   "id": "674e7f43",
   "metadata": {
    "tags": [
     "outputPrepend"
    ]
   },
   "outputs": [
    {
     "output_type": "stream",
     "name": "stdout",
     "text": [
      "font-size: 8px\">friends</a>, <a class=\"tag\" href=\"/tag/truth/\" style=\"font-size: 8px\">truth</a>, <a class=\"tag\" href=\"/tag/simile/\" style=\"font-size: 6px\">simile</a>], [<a class=\"tag\" href=\"/tag/change/page/1/\">change</a>, <a class=\"tag\" href=\"/tag/deep-thoughts/page/1/\">deep-thoughts</a>, <a class=\"tag\" href=\"/tag/thinking/page/1/\">thinking</a>, <a class=\"tag\" href=\"/tag/world/page/1/\">world</a>, <a class=\"tag\" href=\"/tag/abilities/page/1/\">abilities</a>, <a class=\"tag\" href=\"/tag/choices/page/1/\">choices</a>, <a class=\"tag\" href=\"/tag/inspirational/page/1/\">inspirational</a>, <a class=\"tag\" href=\"/tag/life/page/1/\">life</a>, <a class=\"tag\" href=\"/tag/live/page/1/\">live</a>, <a class=\"tag\" href=\"/tag/miracle/page/1/\">miracle</a>, <a class=\"tag\" href=\"/tag/miracles/page/1/\">miracles</a>, <a class=\"tag\" href=\"/tag/aliteracy/page/1/\">aliteracy</a>, <a class=\"tag\" href=\"/tag/books/page/1/\">books</a>, <a class=\"tag\" href=\"/tag/classic/page/1/\">classic</a>, <a class=\"tag\" href=\"/tag/humor/page/1/\">humor</a>, <a class=\"tag\" href=\"/tag/be-yourself/page/1/\">be-yourself</a>, <a class=\"tag\" href=\"/tag/inspirational/page/1/\">inspirational</a>, <a class=\"tag\" href=\"/tag/adulthood/page/1/\">adulthood</a>, <a class=\"tag\" href=\"/tag/success/page/1/\">success</a>, <a class=\"tag\" href=\"/tag/value/page/1/\">value</a>, <a class=\"tag\" href=\"/tag/life/page/1/\">life</a>, <a class=\"tag\" href=\"/tag/love/page/1/\">love</a>, <a class=\"tag\" href=\"/tag/edison/page/1/\">edison</a>, <a class=\"tag\" href=\"/tag/failure/page/1/\">failure</a>, <a class=\"tag\" href=\"/tag/inspirational/page/1/\">inspirational</a>, <a class=\"tag\" href=\"/tag/paraphrased/page/1/\">paraphrased</a>, <a class=\"tag\" href=\"/tag/misattributed-eleanor-roosevelt/page/1/\">misattributed-eleanor-roosevelt</a>, <a class=\"tag\" href=\"/tag/humor/page/1/\">humor</a>, <a class=\"tag\" href=\"/tag/obvious/page/1/\">obvious</a>, <a class=\"tag\" href=\"/tag/simile/page/1/\">simile</a>, <a class=\"tag\" href=\"/tag/love/\" style=\"font-size: 28px\">love</a>, <a class=\"tag\" href=\"/tag/inspirational/\" style=\"font-size: 26px\">inspirational</a>, <a class=\"tag\" href=\"/tag/life/\" style=\"font-size: 26px\">life</a>, <a class=\"tag\" href=\"/tag/humor/\" style=\"font-size: 24px\">humor</a>, <a class=\"tag\" href=\"/tag/books/\" style=\"font-size: 22px\">books</a>, <a class=\"tag\" href=\"/tag/reading/\" style=\"font-size: 14px\">reading</a>, <a class=\"tag\" href=\"/tag/friendship/\" style=\"font-size: 10px\">friendship</a>, <a class=\"tag\" href=\"/tag/friends/\" style=\"font-size: 8px\">friends</a>, <a class=\"tag\" href=\"/tag/truth/\" style=\"font-size: 8px\">truth</a>, <a class=\"tag\" href=\"/tag/simile/\" style=\"font-size: 6px\">simile</a>], [<a class=\"tag\" href=\"/tag/change/page/1/\">change</a>, <a class=\"tag\" href=\"/tag/deep-thoughts/page/1/\">deep-thoughts</a>, <a class=\"tag\" href=\"/tag/thinking/page/1/\">thinking</a>, <a class=\"tag\" href=\"/tag/world/page/1/\">world</a>, <a class=\"tag\" href=\"/tag/abilities/page/1/\">abilities</a>, <a class=\"tag\" href=\"/tag/choices/page/1/\">choices</a>, <a class=\"tag\" href=\"/tag/inspirational/page/1/\">inspirational</a>, <a class=\"tag\" href=\"/tag/life/page/1/\">life</a>, <a class=\"tag\" href=\"/tag/live/page/1/\">live</a>, <a class=\"tag\" href=\"/tag/miracle/page/1/\">miracle</a>, <a class=\"tag\" href=\"/tag/miracles/page/1/\">miracles</a>, <a class=\"tag\" href=\"/tag/aliteracy/page/1/\">aliteracy</a>, <a class=\"tag\" href=\"/tag/books/page/1/\">books</a>, <a class=\"tag\" href=\"/tag/classic/page/1/\">classic</a>, <a class=\"tag\" href=\"/tag/humor/page/1/\">humor</a>, <a class=\"tag\" href=\"/tag/be-yourself/page/1/\">be-yourself</a>, <a class=\"tag\" href=\"/tag/inspirational/page/1/\">inspirational</a>, <a class=\"tag\" href=\"/tag/adulthood/page/1/\">adulthood</a>, <a class=\"tag\" href=\"/tag/success/page/1/\">success</a>, <a class=\"tag\" href=\"/tag/value/page/1/\">value</a>, <a class=\"tag\" href=\"/tag/life/page/1/\">life</a>, <a class=\"tag\" href=\"/tag/love/page/1/\">love</a>, <a class=\"tag\" href=\"/tag/edison/page/1/\">edison</a>, <a class=\"tag\" href=\"/tag/failure/page/1/\">failure</a>, <a class=\"tag\" href=\"/tag/inspirational/page/1/\">inspirational</a>, <a class=\"tag\" href=\"/tag/paraphrased/page/1/\">paraphrased</a>, <a class=\"tag\" href=\"/tag/misattributed-eleanor-roosevelt/page/1/\">misattributed-eleanor-roosevelt</a>, <a class=\"tag\" href=\"/tag/humor/page/1/\">humor</a>, <a class=\"tag\" href=\"/tag/obvious/page/1/\">obvious</a>, <a class=\"tag\" href=\"/tag/simile/page/1/\">simile</a>, <a class=\"tag\" href=\"/tag/love/\" style=\"font-size: 28px\">love</a>, <a class=\"tag\" href=\"/tag/inspirational/\" style=\"font-size: 26px\">inspirational</a>, <a class=\"tag\" href=\"/tag/life/\" style=\"font-size: 26px\">life</a>, <a class=\"tag\" href=\"/tag/humor/\" style=\"font-size: 24px\">humor</a>, <a class=\"tag\" href=\"/tag/books/\" style=\"font-size: 22px\">books</a>, <a class=\"tag\" href=\"/tag/reading/\" style=\"font-size: 14px\">reading</a>, <a class=\"tag\" href=\"/tag/friendship/\" style=\"font-size: 10px\">friendship</a>, <a class=\"tag\" href=\"/tag/friends/\" style=\"font-size: 8px\">friends</a>, <a class=\"tag\" href=\"/tag/truth/\" style=\"font-size: 8px\">truth</a>, <a class=\"tag\" href=\"/tag/simile/\" style=\"font-size: 6px\">simile</a>], [<a class=\"tag\" href=\"/tag/change/page/1/\">change</a>, <a class=\"tag\" href=\"/tag/deep-thoughts/page/1/\">deep-thoughts</a>, <a class=\"tag\" href=\"/tag/thinking/page/1/\">thinking</a>, <a class=\"tag\" href=\"/tag/world/page/1/\">world</a>, <a class=\"tag\" href=\"/tag/abilities/page/1/\">abilities</a>, <a class=\"tag\" href=\"/tag/choices/page/1/\">choices</a>, <a class=\"tag\" href=\"/tag/inspirational/page/1/\">inspirational</a>, <a class=\"tag\" href=\"/tag/life/page/1/\">life</a>, <a class=\"tag\" href=\"/tag/live/page/1/\">live</a>, <a class=\"tag\" href=\"/tag/miracle/page/1/\">miracle</a>, <a class=\"tag\" href=\"/tag/miracles/page/1/\">miracles</a>, <a class=\"tag\" href=\"/tag/aliteracy/page/1/\">aliteracy</a>, <a class=\"tag\" href=\"/tag/books/page/1/\">books</a>, <a class=\"tag\" href=\"/tag/classic/page/1/\">classic</a>, <a class=\"tag\" href=\"/tag/humor/page/1/\">humor</a>, <a class=\"tag\" href=\"/tag/be-yourself/page/1/\">be-yourself</a>, <a class=\"tag\" href=\"/tag/inspirational/page/1/\">inspirational</a>, <a class=\"tag\" href=\"/tag/adulthood/page/1/\">adulthood</a>, <a class=\"tag\" href=\"/tag/success/page/1/\">success</a>, <a class=\"tag\" href=\"/tag/value/page/1/\">value</a>, <a class=\"tag\" href=\"/tag/life/page/1/\">life</a>, <a class=\"tag\" href=\"/tag/love/page/1/\">love</a>, <a class=\"tag\" href=\"/tag/edison/page/1/\">edison</a>, <a class=\"tag\" href=\"/tag/failure/page/1/\">failure</a>, <a class=\"tag\" href=\"/tag/inspirational/page/1/\">inspirational</a>, <a class=\"tag\" href=\"/tag/paraphrased/page/1/\">paraphrased</a>, <a class=\"tag\" href=\"/tag/misattributed-eleanor-roosevelt/page/1/\">misattributed-eleanor-roosevelt</a>, <a class=\"tag\" href=\"/tag/humor/page/1/\">humor</a>, <a class=\"tag\" href=\"/tag/obvious/page/1/\">obvious</a>, <a class=\"tag\" href=\"/tag/simile/page/1/\">simile</a>, <a class=\"tag\" href=\"/tag/love/\" style=\"font-size: 28px\">love</a>, <a class=\"tag\" href=\"/tag/inspirational/\" style=\"font-size: 26px\">inspirational</a>, <a class=\"tag\" href=\"/tag/life/\" style=\"font-size: 26px\">life</a>, <a class=\"tag\" href=\"/tag/humor/\" style=\"font-size: 24px\">humor</a>, <a class=\"tag\" href=\"/tag/books/\" style=\"font-size: 22px\">books</a>, <a class=\"tag\" href=\"/tag/reading/\" style=\"font-size: 14px\">reading</a>, <a class=\"tag\" href=\"/tag/friendship/\" style=\"font-size: 10px\">friendship</a>, <a class=\"tag\" href=\"/tag/friends/\" style=\"font-size: 8px\">friends</a>, <a class=\"tag\" href=\"/tag/truth/\" style=\"font-size: 8px\">truth</a>, <a class=\"tag\" href=\"/tag/simile/\" style=\"font-size: 6px\">simile</a>], [<a class=\"tag\" href=\"/tag/change/page/1/\">change</a>, <a class=\"tag\" href=\"/tag/deep-thoughts/page/1/\">deep-thoughts</a>, <a class=\"tag\" href=\"/tag/thinking/page/1/\">thinking</a>, <a class=\"tag\" href=\"/tag/world/page/1/\">world</a>, <a class=\"tag\" href=\"/tag/abilities/page/1/\">abilities</a>, <a class=\"tag\" href=\"/tag/choices/page/1/\">choices</a>, <a class=\"tag\" href=\"/tag/inspirational/page/1/\">inspirational</a>, <a class=\"tag\" href=\"/tag/life/page/1/\">life</a>, <a class=\"tag\" href=\"/tag/live/page/1/\">live</a>, <a class=\"tag\" href=\"/tag/miracle/page/1/\">miracle</a>, <a class=\"tag\" href=\"/tag/miracles/page/1/\">miracles</a>, <a class=\"tag\" href=\"/tag/aliteracy/page/1/\">aliteracy</a>, <a class=\"tag\" href=\"/tag/books/page/1/\">books</a>, <a class=\"tag\" href=\"/tag/classic/page/1/\">classic</a>, <a class=\"tag\" href=\"/tag/humor/page/1/\">humor</a>, <a class=\"tag\" href=\"/tag/be-yourself/page/1/\">be-yourself</a>, <a class=\"tag\" href=\"/tag/inspirational/page/1/\">inspirational</a>, <a class=\"tag\" href=\"/tag/adulthood/page/1/\">adulthood</a>, <a class=\"tag\" href=\"/tag/success/page/1/\">success</a>, <a class=\"tag\" href=\"/tag/value/page/1/\">value</a>, <a class=\"tag\" href=\"/tag/life/page/1/\">life</a>, <a class=\"tag\" href=\"/tag/love/page/1/\">love</a>, <a class=\"tag\" href=\"/tag/edison/page/1/\">edison</a>, <a class=\"tag\" href=\"/tag/failure/page/1/\">failure</a>, <a class=\"tag\" href=\"/tag/inspirational/page/1/\">inspirational</a>, <a class=\"tag\" href=\"/tag/paraphrased/page/1/\">paraphrased</a>, <a class=\"tag\" href=\"/tag/misattributed-eleanor-roosevelt/page/1/\">misattributed-eleanor-roosevelt</a>, <a class=\"tag\" href=\"/tag/humor/page/1/\">humor</a>, <a class=\"tag\" href=\"/tag/obvious/page/1/\">obvious</a>, <a class=\"tag\" href=\"/tag/simile/page/1/\">simile</a>, <a class=\"tag\" href=\"/tag/love/\" style=\"font-size: 28px\">love</a>, <a class=\"tag\" href=\"/tag/inspirational/\" style=\"font-size: 26px\">inspirational</a>, <a class=\"tag\" href=\"/tag/life/\" style=\"font-size: 26px\">life</a>, <a class=\"tag\" href=\"/tag/humor/\" style=\"font-size: 24px\">humor</a>, <a class=\"tag\" href=\"/tag/books/\" style=\"font-size: 22px\">books</a>, <a class=\"tag\" href=\"/tag/reading/\" style=\"font-size: 14px\">reading</a>, <a class=\"tag\" href=\"/tag/friendship/\" style=\"font-size: 10px\">friendship</a>, <a class=\"tag\" href=\"/tag/friends/\" style=\"font-size: 8px\">friends</a>, <a class=\"tag\" href=\"/tag/truth/\" style=\"font-size: 8px\">truth</a>, <a class=\"tag\" href=\"/tag/simile/\" style=\"font-size: 6px\">simile</a>], [<a class=\"tag\" href=\"/tag/change/page/1/\">change</a>, <a class=\"tag\" href=\"/tag/deep-thoughts/page/1/\">deep-thoughts</a>, <a class=\"tag\" href=\"/tag/thinking/page/1/\">thinking</a>, <a class=\"tag\" href=\"/tag/world/page/1/\">world</a>, <a class=\"tag\" href=\"/tag/abilities/page/1/\">abilities</a>, <a class=\"tag\" href=\"/tag/choices/page/1/\">choices</a>, <a class=\"tag\" href=\"/tag/inspirational/page/1/\">inspirational</a>, <a class=\"tag\" href=\"/tag/life/page/1/\">life</a>, <a class=\"tag\" href=\"/tag/live/page/1/\">live</a>, <a class=\"tag\" href=\"/tag/miracle/page/1/\">miracle</a>, <a class=\"tag\" href=\"/tag/miracles/page/1/\">miracles</a>, <a class=\"tag\" href=\"/tag/aliteracy/page/1/\">aliteracy</a>, <a class=\"tag\" href=\"/tag/books/page/1/\">books</a>, <a class=\"tag\" href=\"/tag/classic/page/1/\">classic</a>, <a class=\"tag\" href=\"/tag/humor/page/1/\">humor</a>, <a class=\"tag\" href=\"/tag/be-yourself/page/1/\">be-yourself</a>, <a class=\"tag\" href=\"/tag/inspirational/page/1/\">inspirational</a>, <a class=\"tag\" href=\"/tag/adulthood/page/1/\">adulthood</a>, <a class=\"tag\" href=\"/tag/success/page/1/\">success</a>, <a class=\"tag\" href=\"/tag/value/page/1/\">value</a>, <a class=\"tag\" href=\"/tag/life/page/1/\">life</a>, <a class=\"tag\" href=\"/tag/love/page/1/\">love</a>, <a class=\"tag\" href=\"/tag/edison/page/1/\">edison</a>, <a class=\"tag\" href=\"/tag/failure/page/1/\">failure</a>, <a class=\"tag\" href=\"/tag/inspirational/page/1/\">inspirational</a>, <a class=\"tag\" href=\"/tag/paraphrased/page/1/\">paraphrased</a>, <a class=\"tag\" href=\"/tag/misattributed-eleanor-roosevelt/page/1/\">misattributed-eleanor-roosevelt</a>, <a class=\"tag\" href=\"/tag/humor/page/1/\">humor</a>, <a class=\"tag\" href=\"/tag/obvious/page/1/\">obvious</a>, <a class=\"tag\" href=\"/tag/simile/page/1/\">simile</a>, <a class=\"tag\" href=\"/tag/love/\" style=\"font-size: 28px\">love</a>, <a class=\"tag\" href=\"/tag/inspirational/\" style=\"font-size: 26px\">inspirational</a>, <a class=\"tag\" href=\"/tag/life/\" style=\"font-size: 26px\">life</a>, <a class=\"tag\" href=\"/tag/humor/\" style=\"font-size: 24px\">humor</a>, <a class=\"tag\" href=\"/tag/books/\" style=\"font-size: 22px\">books</a>, <a class=\"tag\" href=\"/tag/reading/\" style=\"font-size: 14px\">reading</a>, <a class=\"tag\" href=\"/tag/friendship/\" style=\"font-size: 10px\">friendship</a>, <a class=\"tag\" href=\"/tag/friends/\" style=\"font-size: 8px\">friends</a>, <a class=\"tag\" href=\"/tag/truth/\" style=\"font-size: 8px\">truth</a>, <a class=\"tag\" href=\"/tag/simile/\" style=\"font-size: 6px\">simile</a>], [<a class=\"tag\" href=\"/tag/change/page/1/\">change</a>, <a class=\"tag\" href=\"/tag/deep-thoughts/page/1/\">deep-thoughts</a>, <a class=\"tag\" href=\"/tag/thinking/page/1/\">thinking</a>, <a class=\"tag\" href=\"/tag/world/page/1/\">world</a>, <a class=\"tag\" href=\"/tag/abilities/page/1/\">abilities</a>, <a class=\"tag\" href=\"/tag/choices/page/1/\">choices</a>, <a class=\"tag\" href=\"/tag/inspirational/page/1/\">inspirational</a>, <a class=\"tag\" href=\"/tag/life/page/1/\">life</a>, <a class=\"tag\" href=\"/tag/live/page/1/\">live</a>, <a class=\"tag\" href=\"/tag/miracle/page/1/\">miracle</a>, <a class=\"tag\" href=\"/tag/miracles/page/1/\">miracles</a>, <a class=\"tag\" href=\"/tag/aliteracy/page/1/\">aliteracy</a>, <a class=\"tag\" href=\"/tag/books/page/1/\">books</a>, <a class=\"tag\" href=\"/tag/classic/page/1/\">classic</a>, <a class=\"tag\" href=\"/tag/humor/page/1/\">humor</a>, <a class=\"tag\" href=\"/tag/be-yourself/page/1/\">be-yourself</a>, <a class=\"tag\" href=\"/tag/inspirational/page/1/\">inspirational</a>, <a class=\"tag\" href=\"/tag/adulthood/page/1/\">adulthood</a>, <a class=\"tag\" href=\"/tag/success/page/1/\">success</a>, <a class=\"tag\" href=\"/tag/value/page/1/\">value</a>, <a class=\"tag\" href=\"/tag/life/page/1/\">life</a>, <a class=\"tag\" href=\"/tag/love/page/1/\">love</a>, <a class=\"tag\" href=\"/tag/edison/page/1/\">edison</a>, <a class=\"tag\" href=\"/tag/failure/page/1/\">failure</a>, <a class=\"tag\" href=\"/tag/inspirational/page/1/\">inspirational</a>, <a class=\"tag\" href=\"/tag/paraphrased/page/1/\">paraphrased</a>, <a class=\"tag\" href=\"/tag/misattributed-eleanor-roosevelt/page/1/\">misattributed-eleanor-roosevelt</a>, <a class=\"tag\" href=\"/tag/humor/page/1/\">humor</a>, <a class=\"tag\" href=\"/tag/obvious/page/1/\">obvious</a>, <a class=\"tag\" href=\"/tag/simile/page/1/\">simile</a>, <a class=\"tag\" href=\"/tag/love/\" style=\"font-size: 28px\">love</a>, <a class=\"tag\" href=\"/tag/inspirational/\" style=\"font-size: 26px\">inspirational</a>, <a class=\"tag\" href=\"/tag/life/\" style=\"font-size: 26px\">life</a>, <a class=\"tag\" href=\"/tag/humor/\" style=\"font-size: 24px\">humor</a>, <a class=\"tag\" href=\"/tag/books/\" style=\"font-size: 22px\">books</a>, <a class=\"tag\" href=\"/tag/reading/\" style=\"font-size: 14px\">reading</a>, <a class=\"tag\" href=\"/tag/friendship/\" style=\"font-size: 10px\">friendship</a>, <a class=\"tag\" href=\"/tag/friends/\" style=\"font-size: 8px\">friends</a>, <a class=\"tag\" href=\"/tag/truth/\" style=\"font-size: 8px\">truth</a>, <a class=\"tag\" href=\"/tag/simile/\" style=\"font-size: 6px\">simile</a>], [<a class=\"tag\" href=\"/tag/change/page/1/\">change</a>, <a class=\"tag\" href=\"/tag/deep-thoughts/page/1/\">deep-thoughts</a>, <a class=\"tag\" href=\"/tag/thinking/page/1/\">thinking</a>, <a class=\"tag\" href=\"/tag/world/page/1/\">world</a>, <a class=\"tag\" href=\"/tag/abilities/page/1/\">abilities</a>, <a class=\"tag\" href=\"/tag/choices/page/1/\">choices</a>, <a class=\"tag\" href=\"/tag/inspirational/page/1/\">inspirational</a>, <a class=\"tag\" href=\"/tag/life/page/1/\">life</a>, <a class=\"tag\" href=\"/tag/live/page/1/\">live</a>, <a class=\"tag\" href=\"/tag/miracle/page/1/\">miracle</a>, <a class=\"tag\" href=\"/tag/miracles/page/1/\">miracles</a>, <a class=\"tag\" href=\"/tag/aliteracy/page/1/\">aliteracy</a>, <a class=\"tag\" href=\"/tag/books/page/1/\">books</a>, <a class=\"tag\" href=\"/tag/classic/page/1/\">classic</a>, <a class=\"tag\" href=\"/tag/humor/page/1/\">humor</a>, <a class=\"tag\" href=\"/tag/be-yourself/page/1/\">be-yourself</a>, <a class=\"tag\" href=\"/tag/inspirational/page/1/\">inspirational</a>, <a class=\"tag\" href=\"/tag/adulthood/page/1/\">adulthood</a>, <a class=\"tag\" href=\"/tag/success/page/1/\">success</a>, <a class=\"tag\" href=\"/tag/value/page/1/\">value</a>, <a class=\"tag\" href=\"/tag/life/page/1/\">life</a>, <a class=\"tag\" href=\"/tag/love/page/1/\">love</a>, <a class=\"tag\" href=\"/tag/edison/page/1/\">edison</a>, <a class=\"tag\" href=\"/tag/failure/page/1/\">failure</a>, <a class=\"tag\" href=\"/tag/inspirational/page/1/\">inspirational</a>, <a class=\"tag\" href=\"/tag/paraphrased/page/1/\">paraphrased</a>, <a class=\"tag\" href=\"/tag/misattributed-eleanor-roosevelt/page/1/\">misattributed-eleanor-roosevelt</a>, <a class=\"tag\" href=\"/tag/humor/page/1/\">humor</a>, <a class=\"tag\" href=\"/tag/obvious/page/1/\">obvious</a>, <a class=\"tag\" href=\"/tag/simile/page/1/\">simile</a>, <a class=\"tag\" href=\"/tag/love/\" style=\"font-size: 28px\">love</a>, <a class=\"tag\" href=\"/tag/inspirational/\" style=\"font-size: 26px\">inspirational</a>, <a class=\"tag\" href=\"/tag/life/\" style=\"font-size: 26px\">life</a>, <a class=\"tag\" href=\"/tag/humor/\" style=\"font-size: 24px\">humor</a>, <a class=\"tag\" href=\"/tag/books/\" style=\"font-size: 22px\">books</a>, <a class=\"tag\" href=\"/tag/reading/\" style=\"font-size: 14px\">reading</a>, <a class=\"tag\" href=\"/tag/friendship/\" style=\"font-size: 10px\">friendship</a>, <a class=\"tag\" href=\"/tag/friends/\" style=\"font-size: 8px\">friends</a>, <a class=\"tag\" href=\"/tag/truth/\" style=\"font-size: 8px\">truth</a>, <a class=\"tag\" href=\"/tag/simile/\" style=\"font-size: 6px\">simile</a>], [<a class=\"tag\" href=\"/tag/change/page/1/\">change</a>, <a class=\"tag\" href=\"/tag/deep-thoughts/page/1/\">deep-thoughts</a>, <a class=\"tag\" href=\"/tag/thinking/page/1/\">thinking</a>, <a class=\"tag\" href=\"/tag/world/page/1/\">world</a>, <a class=\"tag\" href=\"/tag/abilities/page/1/\">abilities</a>, <a class=\"tag\" href=\"/tag/choices/page/1/\">choices</a>, <a class=\"tag\" href=\"/tag/inspirational/page/1/\">inspirational</a>, <a class=\"tag\" href=\"/tag/life/page/1/\">life</a>, <a class=\"tag\" href=\"/tag/live/page/1/\">live</a>, <a class=\"tag\" href=\"/tag/miracle/page/1/\">miracle</a>, <a class=\"tag\" href=\"/tag/miracles/page/1/\">miracles</a>, <a class=\"tag\" href=\"/tag/aliteracy/page/1/\">aliteracy</a>, <a class=\"tag\" href=\"/tag/books/page/1/\">books</a>, <a class=\"tag\" href=\"/tag/classic/page/1/\">classic</a>, <a class=\"tag\" href=\"/tag/humor/page/1/\">humor</a>, <a class=\"tag\" href=\"/tag/be-yourself/page/1/\">be-yourself</a>, <a class=\"tag\" href=\"/tag/inspirational/page/1/\">inspirational</a>, <a class=\"tag\" href=\"/tag/adulthood/page/1/\">adulthood</a>, <a class=\"tag\" href=\"/tag/success/page/1/\">success</a>, <a class=\"tag\" href=\"/tag/value/page/1/\">value</a>, <a class=\"tag\" href=\"/tag/life/page/1/\">life</a>, <a class=\"tag\" href=\"/tag/love/page/1/\">love</a>, <a class=\"tag\" href=\"/tag/edison/page/1/\">edison</a>, <a class=\"tag\" href=\"/tag/failure/page/1/\">failure</a>, <a class=\"tag\" href=\"/tag/inspirational/page/1/\">inspirational</a>, <a class=\"tag\" href=\"/tag/paraphrased/page/1/\">paraphrased</a>, <a class=\"tag\" href=\"/tag/misattributed-eleanor-roosevelt/page/1/\">misattributed-eleanor-roosevelt</a>, <a class=\"tag\" href=\"/tag/humor/page/1/\">humor</a>, <a class=\"tag\" href=\"/tag/obvious/page/1/\">obvious</a>, <a class=\"tag\" href=\"/tag/simile/page/1/\">simile</a>, <a class=\"tag\" href=\"/tag/love/\" style=\"font-size: 28px\">love</a>, <a class=\"tag\" href=\"/tag/inspirational/\" style=\"font-size: 26px\">inspirational</a>, <a class=\"tag\" href=\"/tag/life/\" style=\"font-size: 26px\">life</a>, <a class=\"tag\" href=\"/tag/humor/\" style=\"font-size: 24px\">humor</a>, <a class=\"tag\" href=\"/tag/books/\" style=\"font-size: 22px\">books</a>, <a class=\"tag\" href=\"/tag/reading/\" style=\"font-size: 14px\">reading</a>, <a class=\"tag\" href=\"/tag/friendship/\" style=\"font-size: 10px\">friendship</a>, <a class=\"tag\" href=\"/tag/friends/\" style=\"font-size: 8px\">friends</a>, <a class=\"tag\" href=\"/tag/truth/\" style=\"font-size: 8px\">truth</a>, <a class=\"tag\" href=\"/tag/simile/\" style=\"font-size: 6px\">simile</a>]]\n"
     ]
    }
   ],
   "source": [
    "import re\n",
    "import requests\n",
    "from bs4 import BeautifulSoup\n",
    "\n",
    "'''Importing and Formating Data From URL'''\n",
    "\n",
    "url = 'http://quotes.toscrape.com/'\n",
    "result = requests.get(url)\n",
    "soup = BeautifulSoup(result.content, 'html.parser')\n",
    "\n",
    "\n",
    "\n",
    "# li = []\n",
    "# tags = soup.find_all(\"div\", {\"class\": \"tags\"})\n",
    "# for entry in tags:\n",
    "#     tag = soup.find_all(\"a\", {\"class\": \"tag\"})\n",
    "#     li.append(tag)\n",
    "\n",
    "# print(li)\n",
    "        \n",
    "\n",
    "text = soup.find_all(\"span\", {\"class\": \"text\"})\n",
    "textLi = []\n",
    "for x in text:\n",
    "    textLi.append(x.get_text())\n",
    "# print(textLi)\n",
    "\n",
    "author = soup.find_all(\"small\", {\"class\": \"author\"})\n",
    "authorLi = []\n",
    "for x in author:\n",
    "     authorLi.append(x.get_text())\n",
    "# print(authorLi)\n",
    "\n",
    "# tags = soup.find_all(\"a\", {\"class\": \"tag\"})\n",
    "# tagLi = []\n",
    "# for x in tags:\n",
    "#      tagLi.append(x.get_text())\n",
    "# print(tagLi)\n",
    "\n",
    "\n",
    "\n",
    "'''Connecting to MySQL'''\n",
    "\n",
    "import mysql.connector\n",
    "from dotenv import dotenv_values\n",
    "\n",
    "config = dotenv_values(\".env\")  \n",
    "\n",
    "mydb = mysql.connector.connect(\n",
    "  host=config['HOST'],\n",
    "  user=config['USER'],\n",
    "  password=config['PASSWORD'],\n",
    "  database=config['DATABASE'])\n",
    "\n",
    "\n",
    "mycursor = mydb.cursor()\n",
    "mycursor.execute('Create Database If Not Exists Quotes;')\n",
    "\n",
    "mycursor.execute('Use Quotes;')\n",
    "mycursor.execute('Drop Table if Exists Text;')\n",
    "\n",
    "mycursor.execute('''Create Table If Not Exists Text\n",
    "(\n",
    "TextID      INT     Not Null    Auto_Increment    Primary Key,\n",
    "Text        Varchar(250)    Not Null,\n",
    "Author      Varchar(250)    Not Null,\n",
    "Tags        Varchar(350) \n",
    ");''')\n",
    "\n",
    "\n",
    "\n",
    "\n",
    "mycursor.executemany('''INSERT Into Film (FilmName) VALUES (%s)''', titleLi)\n",
    "\n",
    "# mycursor.execute('Drop Table if Exists Ranking;')\n",
    "mycursor.execute('''Create Table If Not Exists Ranking\n",
    "(\n",
    "Ranking    INT     Not Null,\n",
    "FilmID      INT     Not Null    Auto_Increment,\n",
    "Constraint  fk_FilmID\n",
    "Foreign Key (FilmID)\n",
    "    References Film(FilmID)\n",
    "        On Update Cascade\n",
    "        On Delete Cascade);\n",
    "''') \n",
    "\n",
    "\n",
    "mycursor.executemany('''INSERT Into Ranking (Ranking) VALUES (%s)''', rankLi)\n",
    "\n",
    "mydb.commit()\n",
    "# mycursor.executemany('Select * From Ranking')\n",
    "# for x in mycursor:\n",
    "#   print(x)\n",
    "mydb.close()\n"
   ]
  },
  {
   "cell_type": "code",
   "execution_count": 138,
   "metadata": {
    "tags": []
   },
   "outputs": [
    {
     "output_type": "stream",
     "name": "stdout",
     "text": [
      "[['change', 'deep-thoughts', 'thinking', 'world'], ['abilities', 'choices'], ['inspirational', 'life', 'live', 'miracle', 'miracles'], ['aliteracy', 'books', 'classic', 'humor'], ['be-yourself', 'inspirational'], ['adulthood', 'success', 'value'], ['life', 'love'], ['edison', 'failure', 'inspirational', 'paraphrased'], ['misattributed-eleanor-roosevelt'], ['humor', 'obvious', 'simile']]\n[]\n"
     ]
    }
   ],
   "source": [
    "'''Attempts to get data in correct format'''\n",
    "\n",
    "import re\n",
    "import requests\n",
    "from bs4 import BeautifulSoup\n",
    "\n",
    "'''Importing and Formating Data From URL'''\n",
    "\n",
    "url = 'http://quotes.toscrape.com/'\n",
    "result = requests.get(url)\n",
    "soup = BeautifulSoup(result.content, 'html.parser')\n",
    "\n",
    "# print(soup.prettify())\n",
    "# li = []\n",
    "# for entry in soup.find_all(\"a\", {\"class\": \"tag\"}):\n",
    "#         if entry:\n",
    "#             li.append(str(entry.get_text()))\n",
    "        \n",
    "# print(li)\n",
    "\n",
    "li = []\n",
    "tags = soup.find_all(\"div\", {\"class\": \"tags\"}, \"a\")\n",
    "for entry in tags:\n",
    "    li.append(entry.get_text())\n",
    "li = [(x.split()) for x in li]\n",
    "for x in li:\n",
    "    x = (x.remove('Tags:'))\n",
    "\n",
    "print(li)\n",
    "\n",
    "\n",
    "# for entry in soup.findAll('table')[0].findAll('a'):\n",
    "#     if entry:\n",
    "#         movieLi.append(str(entry.get_text()))\n",
    "        \n",
    "\n",
    "text = soup.find_all(\"span\", {\"class\": \"text\"})\n",
    "textLi = []\n",
    "for x in text:\n",
    "    textLi.append(x.get_text())\n",
    "# print(textLi)\n",
    "\n",
    "author = soup.find_all(\"small\", {\"class\": \"author\"})\n",
    "authorLi = []\n",
    "for x in author:\n",
    "     authorLi.append(x.get_text())\n",
    "# print(authorLi)\n",
    "\n",
    "tags = soup.find_all(\"div\", {\"class\": \"tag\"})\n",
    "tagLi = []\n",
    "for x in tags:\n",
    "     tagLi.append(x.get_text())\n",
    "print(tagLi)"
   ]
  },
  {
   "cell_type": "code",
   "execution_count": null,
   "metadata": {},
   "outputs": [],
   "source": []
  },
  {
   "cell_type": "code",
   "execution_count": null,
   "metadata": {},
   "outputs": [],
   "source": []
  },
  {
   "cell_type": "code",
   "execution_count": null,
   "metadata": {},
   "outputs": [],
   "source": []
  }
 ],
 "metadata": {
  "kernelspec": {
   "name": "python3",
   "display_name": "Python 3.8.2 64-bit ('usr')"
  },
  "language_info": {
   "codemirror_mode": {
    "name": "ipython",
    "version": 3
   },
   "file_extension": ".py",
   "mimetype": "text/x-python",
   "name": "python",
   "nbconvert_exporter": "python",
   "pygments_lexer": "ipython3",
   "version": "3.8.2"
  },
  "interpreter": {
   "hash": "5edc29c2ed010d6458d71a83433b383a96a8cbd3efe8531bc90c4b8a5b8bcec9"
  }
 },
 "nbformat": 4,
 "nbformat_minor": 5
}