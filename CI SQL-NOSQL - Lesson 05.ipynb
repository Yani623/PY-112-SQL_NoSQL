{
 "cells": [
  {
   "cell_type": "markdown",
   "source": [
    "<a href=\"https://codeimmersives.com\"><img src = \"https://www.codeimmersives.com/wp-content/uploads/2019/09/CodeImmersives_Logo_RGB_NYC_BW.png\" width = 400> </a>\n",
    "\n",
    "\n",
    "<h1 align=center><font size = 5>Agenda</font></h1>"
   ],
   "metadata": {}
  },
  {
   "cell_type": "markdown",
   "source": [
    "## SQL Operations using Python\n",
    "\n",
    "### Agenda\n",
    "<div class=\"alert alert-block alert-info\" style=\"margin-top: 20px\">\n",
    "\n",
    "1.  [Review](#0)<br>\n",
    "2.  [Base Python Exercise 1](#1)<br>\n",
    "3.  [Base Python Exercise 2](#2)<br>\n",
    "4.  [Base Python Exercise 3](#3)<br>\n",
    "5.  [SQLite Exercises 1](#10)<br>    \n",
    "6.  [SQLite Exercises 2](#12)<br>\n",
    "7.  [Exercises](#14)<br>\n",
    "</div>\n",
    "<hr>"
   ],
   "metadata": {}
  },
  {
   "cell_type": "markdown",
   "source": [
    "<h2>Base Python Exercise 1</h2>\n",
    "Calculate the mean, median, and mode of the following data set:<br>\n",
    "<code>\n",
    "numList = [88,89,90,93,84,86,88,91,88,87]\n",
    "\n",
    "def calcMean(numList):\n",
    "    pass\n",
    "def calcMode(numList):\n",
    "    pass\n",
    "def calcMedian(numList):\n",
    "    pass\n",
    "\"\"\"\n",
    "Call all of the functions below\n",
    "\"\"\"\n",
    "</code>"
   ],
   "metadata": {}
  },
  {
   "cell_type": "markdown",
   "source": [
    "<h4>Solution</h4>"
   ],
   "metadata": {}
  },
  {
   "cell_type": "code",
   "execution_count": null,
   "source": [
    "import math\n",
    "\n",
    "numList = [88,89,90,93,84,86,88,91,88,87]\n",
    "\n",
    "def calcMean(li = []):\n",
    "    sum = 0\n",
    "    for x in li:\n",
    "        sum += x\n",
    "    mean = sum / len(li)\n",
    "\n",
    "    print(mean)\n",
    "\n",
    "\n",
    "def calcMedian(li=[]):\n",
    "    li.sort()\n",
    "    middleTwo = []\n",
    "    if len(li)%2 == 0:\n",
    "        for x in range(len(li)):\n",
    "            if x == len(li)/2:\n",
    "                middleTwo.append(li[x])\n",
    "\n",
    "            elif x == ((len(li)/2) + 1):\n",
    "                middleTwo.append(li[x])\n",
    "                \n",
    "        median = (middleTwo[0] + middleTwo[1]) / 2\n",
    "\n",
    "    elif len(li) % 2 != 0:\n",
    "        middle =int((len(li)/2) - .5)\n",
    "        median = li[middle]\n",
    "\n",
    "    print(median)\n",
    "        \n",
    "\n",
    "def calcMode(li=[]):\n",
    "    setli = set(li)\n",
    "    print(setli)\n",
    "    mode = 1\n",
    "    for x in setli:\n",
    "        if li.count(x) > mode:\n",
    "            mode = x\n",
    "        elif li.count(x) = mode:\n",
    "            mode = mode, \",\", x\n",
    "        else:\n",
    "            mode = mode\n",
    "    \n",
    "    print(mode)\n",
    "\n",
    "calcMean(numList)\n",
    "calcMedian(numList)\n",
    "calcMode(numList)\n"
   ],
   "outputs": [],
   "metadata": {}
  },
  {
   "cell_type": "markdown",
   "source": [
    "<h2>Base Python Exercise 2</h2>\n",
    "Write code to identify all prime numbers from 1000 through 1100"
   ],
   "metadata": {}
  },
  {
   "cell_type": "code",
   "execution_count": 74,
   "source": [
    "\n",
    "numList2 = range(1000,1101)\n",
    "\n",
    "\n",
    "def primeNums(li=[]):\n",
    "    prime_nums = []\n",
    "    for num in li:\n",
    "        prime = True\n",
    "        for x in range(2, num):\n",
    "            if num % x == 0:\n",
    "                prime = False\n",
    "                break\n",
    "        if prime == True:\n",
    "            prime_nums.append(num)\n",
    "    print(prime_nums)\n",
    "\n",
    "\n",
    "primeNums(numList2)\n"
   ],
   "outputs": [
    {
     "output_type": "stream",
     "name": "stdout",
     "text": [
      "[1009, 1013, 1019, 1021, 1031, 1033, 1039, 1049, 1051, 1061, 1063, 1069, 1087, 1091, 1093, 1097]\n"
     ]
    }
   ],
   "metadata": {
    "tags": []
   }
  },
  {
   "cell_type": "markdown",
   "source": [
    "<h2>Base Python Exercise 3</h2>\n",
    "Using the code from above determine which prime numbers from above where the sum<br>\n",
    "of their digits is also prime?<br>"
   ],
   "metadata": {}
  },
  {
   "cell_type": "code",
   "execution_count": 117,
   "source": [
    "\n",
    "def primeNum_digitsum_prime(li = []):\n",
    "    prime_nums = []\n",
    "    sum_prime = []\n",
    "    for num in li:\n",
    "        prime = True\n",
    "        for x in range(2, num):\n",
    "            if num % x == 0:\n",
    "                prime = False\n",
    "                break\n",
    "        if prime == True:\n",
    "            prime_nums.append(num)\n",
    "            sum = 0\n",
    "            for i in str(num):\n",
    "                sum += int(i)\n",
    "            # print(num)\n",
    "            # print(sum)                \n",
    "            for x in range(2, sum):\n",
    "                if sum % x == 0:\n",
    "                    prime = False\n",
    "            if prime == False:\n",
    "                continue\n",
    "            if prime == True:\n",
    "                sum_prime.append(num)\n",
    "    print(prime_nums)\n",
    "    print(sum_prime)\n",
    "\n",
    "primeNum_digitsum_prime(numList2)"
   ],
   "outputs": [
    {
     "output_type": "stream",
     "name": "stdout",
     "text": [
      "[1009, 1013, 1019, 1021, 1031, 1033, 1039, 1049, 1051, 1061, 1063, 1069, 1087, 1091, 1093, 1097]\n",
      "[1013, 1019, 1031, 1033, 1039, 1051, 1091, 1093, 1097]\n"
     ]
    }
   ],
   "metadata": {}
  },
  {
   "cell_type": "markdown",
   "source": [
    "<h2>Base Python Exercise 4</h2>\n",
    "How do you select 5 volunteers from a list of students?<br>\n",
    "students = ['Renee','Julia','Warren','Stacey','Charles','Linda','Dwight','Ann','Franklin','George','Walter','Susan']\n",
    "<br>\n",
    "Which students remained?"
   ],
   "metadata": {}
  },
  {
   "cell_type": "markdown",
   "source": [
    "<h4>Solution</h4>"
   ],
   "metadata": {}
  },
  {
   "cell_type": "code",
   "execution_count": 123,
   "source": [
    "import random\n",
    "\n",
    "students = ['Renee','Julia','Warren','Stacey','Charles','Linda','Dwight','Ann','Franklin','George','Walter','Susan']\n",
    "\n",
    "def choose_random_volunteers(li = []):\n",
    "    import random\n",
    "    for x in range(1, 6):\n",
    "        volunteer = random.choice(li)\n",
    "        print(f'Volunteer #{x} is {volunteer}')\n",
    "        li.remove(volunteer)\n",
    "    print(f'The remaining students are: {li}')\n",
    "\n",
    "choose_random_volunteers(students)"
   ],
   "outputs": [
    {
     "output_type": "stream",
     "name": "stdout",
     "text": [
      "Volunteer #1 is Franklin\n",
      "Volunteer #2 is Charles\n",
      "Volunteer #3 is Warren\n",
      "Volunteer #4 is George\n",
      "Volunteer #5 is Dwight\n",
      "The remaining students are: ['Renee', 'Julia', 'Stacey', 'Linda', 'Ann', 'Walter', 'Susan']\n"
     ]
    }
   ],
   "metadata": {}
  },
  {
   "cell_type": "markdown",
   "source": [
    "<h2>Exercise</h2>\n",
    "Open the file World_country_populations<br>\n",
    "And answer the following questions:<br>\n",
    "1 - Print the top 20 countries by population - Output in millions.<br>\n",
    "2 - What is the total world population<br>\n",
    "3 - Top 10 countries by median age<br>\n",
    "4 - Top 10 countries where people left<br>\n",
    "5 - Top 10 countries who took in migrants<br>\n",
    "6 - Which countries with a population less than 10 million had the largest year_change pct<br>"
   ],
   "metadata": {}
  },
  {
   "cell_type": "code",
   "execution_count": null,
   "source": [
    "import os\n",
    "import sqlite3\n",
    "import csv\n",
    "\n",
    "work_dir = \"/Users/yani/Desktop/PY-112-MySQL/\"\n",
    "db_name =  \"world_populations.db\"\n",
    "\n",
    "print(work_dir + db_name)\n",
    "conn = sqlite3.connect(work_dir + db_name)\n",
    "c = conn.cursor()\n",
    "c.execute('''Drop Table if Exists pop_data''')\n",
    "c.executescript('''\n",
    "    create table IF NOT EXISTS pop_data(\n",
    "        num INTEGER,\n",
    "        country TEXT,\n",
    "        population INTEGER,\n",
    "        year_change REAL,\n",
    "        net_change INTEGER,\n",
    "        density INTEGER,\n",
    "        land_area_km INTEGER,\n",
    "        migrants INTEGER,\n",
    "        fert_rate REAL,\n",
    "        median_age INTEGER,\n",
    "        urban_pop_pct REAL,\n",
    "        world_share REAL\n",
    "    );\n",
    "    DELETE FROM pop_data;    \n",
    "''')\n",
    "conn.commit()\n",
    "# num\tCountry\tpopulation\tyear_change\tnet_change\tdensity\tland_area_km2\tmigrants\t\n",
    "# fertility_rate\tMedian_age\tUrban_pop_pct\tWorld_share\n",
    "print(work_dir + \"World_country_populations.csv\")\n",
    "with open(work_dir + \"World_country_populations.csv\",'r') as fh:\n",
    "    line = fh.readline()\n",
    "    i = 0\n",
    "    while line:\n",
    "        if i > 0:\n",
    "            num,country,population,year_change,net_change,density,land_area_km,migrants,fert_rate,median_age,\\\n",
    "            urban_pop_pct,world_share = line.split(',')\n",
    "            # print(f\"\"\"{num} {country} {population} {year_change} {net_change} {density} {land_area_km}\n",
    "            # {migrants} {fert_rate} {median_age} {urban_pop_pct} {world_share}\"\"\")\n",
    "            num = int(num)\n",
    "            country = country.strip().replace(\"'\",\" \")\n",
    "            population = int(population)\n",
    "            year_change = float(year_change)\n",
    "            net_change = int(net_change)\n",
    "            density = int(density)\n",
    "            land_area_km = int(land_area_km)\n",
    "            migrants = float(migrants) if migrants else 0\n",
    "            fert_rate = 0 if fert_rate.strip() == 'N.A.' else float(fert_rate)\n",
    "            median_age =  0 if median_age.strip() == 'N.A.' else float(median_age)\n",
    "            urban_pop_pct =  0 if urban_pop_pct.strip() == 'N.A.' else float(urban_pop_pct)\n",
    "            world_share = float(world_share)\n",
    "            # Store the data\n",
    "            sql = f\"\"\"INSERT INTO pop_data (num,country,population,year_change,net_change,density,land_area_km,\n",
    "            migrants,fert_rate,median_age,urban_pop_pct,world_share) \n",
    "            VALUES ({num},'{country}',{population},{year_change},{net_change},{density},{land_area_km},{migrants},\n",
    "            {fert_rate},{median_age},{urban_pop_pct},{world_share});\"\"\"\n",
    "            print(sql)\n",
    "            c.execute(sql)\n",
    "            conn.commit()\n",
    "        line = fh.readline()\n",
    "        i += 1"
   ],
   "outputs": [],
   "metadata": {
    "tags": [
     "outputPrepend"
    ]
   }
  },
  {
   "cell_type": "code",
   "execution_count": 30,
   "source": [
    "\n",
    "import os\n",
    "import sqlite3\n",
    "\n",
    "work_dir = \"/Users/yani/Desktop/PY-112-MySQL/\"\n",
    "db_name =  \"world_populations.db\"\n",
    "\n",
    "# print(work_dir + db_name)\n",
    "conn = sqlite3.connect(work_dir + db_name)\n",
    "c = conn.cursor()\n",
    "c.execute('''SELECT country, migrants FROM pop_data WHERE migrants > 0 ORDER BY migrants DESC LIMIT 10''')\n",
    "rows = c.fetchall()\n",
    "for row in rows:\n",
    "    print(f'{row[0]} - migrants {row[1]}') \n",
    "conn.close()\n"
   ],
   "outputs": [
    {
     "output_type": "stream",
     "name": "stdout",
     "text": [
      "United States - population 954806\n",
      "Germany - population 543822\n",
      "Turkey - population 283922\n",
      "United Kingdom - population 260650\n",
      "Canada - population 242032\n",
      "Colombia - population 204796\n",
      "Russia - population 182456\n",
      "Uganda - population 168694\n",
      "Australia - population 158246\n",
      "Italy - population 148943\n"
     ]
    }
   ],
   "metadata": {}
  },
  {
   "cell_type": "markdown",
   "source": [
    "1 - Print the top 20 countries by population - Output in millions."
   ],
   "metadata": {}
  },
  {
   "cell_type": "code",
   "execution_count": 33,
   "source": [
    "import sqlite3\n",
    "\n",
    "work_dir = \"/Users/yani/Desktop/PY-112-MySQL/\"\n",
    "db_name =  \"world_populations.db\"\n",
    "\n",
    "# print(work_dir + db_name)\n",
    "conn = sqlite3.connect(work_dir + db_name)\n",
    "c = conn.cursor()\n",
    "c.execute('''Select country, population From pop_data Order By population Desc Limit 20;''')\n",
    "\n",
    "rows = c.fetchall()\n",
    "for row in rows:\n",
    "    print(f'{row[0]} - population {row[1]}') \n",
    "    \n",
    "conn.close()"
   ],
   "outputs": [
    {
     "output_type": "stream",
     "name": "stdout",
     "text": [
      "China - population 1439323776\n",
      "India - population 1380004385\n",
      "United States - population 331002651\n",
      "Indonesia - population 273523615\n",
      "Pakistan - population 220892340\n",
      "Brazil - population 212559417\n",
      "Nigeria - population 206139589\n",
      "Bangladesh - population 164689383\n",
      "Russia - population 145934462\n",
      "Mexico - population 128932753\n",
      "Japan - population 126476461\n",
      "Ethiopia - population 114963588\n",
      "Philippines - population 109581078\n",
      "Egypt - population 102334404\n",
      "Vietnam - population 97338579\n",
      "DR Congo - population 89561403\n",
      "Turkey - population 84339067\n",
      "Iran - population 83992949\n",
      "Germany - population 83783942\n",
      "Thailand - population 69799978\n"
     ]
    }
   ],
   "metadata": {}
  },
  {
   "cell_type": "markdown",
   "source": [
    "2 - What is the total world population<br>"
   ],
   "metadata": {}
  },
  {
   "cell_type": "code",
   "execution_count": 47,
   "source": [
    "import os\n",
    "import sqlite3\n",
    "\n",
    "work_dir = \"/Users/yani/Desktop/PY-112-MySQL/\"\n",
    "db_name =  \"world_populations.db\"\n",
    "\n",
    "# print(work_dir + db_name)\n",
    "conn = sqlite3.connect(work_dir + db_name)\n",
    "c = conn.cursor()\n",
    "c.execute('''Select sum(population) \n",
    "From pop_data;\n",
    "''')\n",
    "\n",
    "total_pop = c.fetchall()\n",
    "# print(total_pop)\n",
    "total_pop = str(total_pop)[2:-3]\n",
    "print('Total Wold Population =', total_pop)\n",
    "\n",
    "conn.close()"
   ],
   "outputs": [
    {
     "output_type": "stream",
     "name": "stdout",
     "text": [
      "Total Wold Population = 7795232630\n"
     ]
    }
   ],
   "metadata": {}
  },
  {
   "cell_type": "markdown",
   "source": [
    "3 - Top 10 countries by median age<br>"
   ],
   "metadata": {}
  },
  {
   "cell_type": "code",
   "execution_count": 50,
   "source": [
    "import os\n",
    "import sqlite3\n",
    "\n",
    "work_dir = \"/Users/yani/Desktop/PY-112-MySQL/\"\n",
    "db_name =  \"world_populations.db\"\n",
    "\n",
    "# print(work_dir + db_name)\n",
    "conn = sqlite3.connect(work_dir + db_name)\n",
    "c = conn.cursor()\n",
    "c.execute('''Select country, median_age From pop_data Order by median_age Desc Limit 10;''')\n",
    "\n",
    "rows = c.fetchall()\n",
    "for row in rows:\n",
    "    print(row[0], f'- median age is {row[1]}')\n",
    "\n",
    "\n",
    "conn.close()"
   ],
   "outputs": [
    {
     "output_type": "stream",
     "name": "stdout",
     "text": [
      "Japan - median age is 48\n",
      "Martinique - median age is 47\n",
      "Italy - median age is 47\n",
      "Portugal - median age is 46\n",
      "Greece - median age is 46\n",
      "Germany - median age is 46\n",
      "Slovenia - median age is 45\n",
      "Lithuania - median age is 45\n",
      "Bulgaria - median age is 45\n",
      "Hong Kong - median age is 45\n"
     ]
    }
   ],
   "metadata": {}
  },
  {
   "cell_type": "markdown",
   "source": [
    "4 - Top 10 countries where people left<br>"
   ],
   "metadata": {}
  },
  {
   "cell_type": "code",
   "execution_count": 57,
   "source": [
    "import os\n",
    "import sqlite3\n",
    "\n",
    "work_dir = \"/Users/yani/Desktop/PY-112-MySQL/\"\n",
    "db_name =  \"world_populations.db\"\n",
    "\n",
    "# print(work_dir + db_name)\n",
    "conn = sqlite3.connect(work_dir + db_name)\n",
    "c = conn.cursor()\n",
    "c.execute('''Select country, migrants From Pop_Data Where migrants < 0 Order By migrants Limit 10;''')\n",
    "\n",
    "rows = c.fetchall()\n",
    "for row in rows:\n",
    "    print(f'{str(row[1]).replace(\"-\", \"\")} people left {row[0]} ')\n",
    "\n",
    "\n",
    "conn.close()"
   ],
   "outputs": [
    {
     "output_type": "stream",
     "name": "stdout",
     "text": [
      "653249 people left Venezuela \n",
      "532687 people left India \n",
      "427391 people left Syria \n",
      "369501 people left Bangladesh \n",
      "348399 people left China \n",
      "233379 people left Pakistan \n",
      "174200 people left South Sudan \n",
      "163313 people left Myanmar \n",
      "116858 people left Zimbabwe \n",
      "98955 people left Indonesia \n"
     ]
    }
   ],
   "metadata": {}
  },
  {
   "cell_type": "markdown",
   "source": [
    "5 - Top 10 countries who took in migrants<br>"
   ],
   "metadata": {}
  },
  {
   "cell_type": "code",
   "execution_count": 55,
   "source": [
    "import os\n",
    "import sqlite3\n",
    "\n",
    "work_dir = \"/Users/yani/Desktop/PY-112-MySQL/\"\n",
    "db_name =  \"world_populations.db\"\n",
    "\n",
    "# print(work_dir + db_name)\n",
    "conn = sqlite3.connect(work_dir + db_name)\n",
    "c = conn.cursor()\n",
    "c.execute('''Select country, migrants From Pop_Data Where migrants > 0 Order By migrants DESC Limit 10;''')\n",
    "\n",
    "rows = c.fetchall()\n",
    "for row in rows:\n",
    "    print(f'{row[0]} took in {row[1]} migrants')\n",
    "conn.close()"
   ],
   "outputs": [
    {
     "output_type": "stream",
     "name": "stdout",
     "text": [
      "United States took in 954806 migrants\n",
      "Germany took in 543822 migrants\n",
      "Turkey took in 283922 migrants\n",
      "United Kingdom took in 260650 migrants\n",
      "Canada took in 242032 migrants\n",
      "Colombia took in 204796 migrants\n",
      "Russia took in 182456 migrants\n",
      "Uganda took in 168694 migrants\n",
      "Australia took in 158246 migrants\n",
      "Italy took in 148943 migrants\n"
     ]
    }
   ],
   "metadata": {}
  },
  {
   "cell_type": "markdown",
   "source": [
    "6 - Which countries with a population less than 10 million had the largest year_change pct<br>"
   ],
   "metadata": {}
  },
  {
   "cell_type": "code",
   "execution_count": 59,
   "source": [
    "import os\n",
    "import sqlite3\n",
    "\n",
    "work_dir = \"/Users/yani/Desktop/PY-112-MySQL/\"\n",
    "db_name =  \"world_populations.db\"\n",
    "\n",
    "# print(work_dir + db_name)\n",
    "conn = sqlite3.connect(work_dir + db_name)\n",
    "c = conn.cursor()\n",
    "c.execute('''Select country, year_change From pop_data Where population < 10000000 Order By year_change Desc Limit 5;''')\n",
    "\n",
    "rows = c.fetchall()\n",
    "for row in rows:\n",
    "    print(f'{row[0]} - year_change {row[1]}')\n",
    "\n",
    "conn.close()"
   ],
   "outputs": [
    {
     "output_type": "stream",
     "name": "stdout",
     "text": [
      "Bahrain - year_change 0.0368\n",
      "Equatorial Guinea - year_change 0.0347\n",
      "Falkland Islands - year_change 0.0305\n",
      "Gambia - year_change 0.0294\n",
      "Mauritania - year_change 0.0274\n"
     ]
    }
   ],
   "metadata": {}
  },
  {
   "cell_type": "markdown",
   "source": [
    "<h2>Exercise</h2>\n",
    "Find the position of the 2 character string '20' \n",
    "in the following:\n",
    "<br>\n",
    "<code>\n",
    "stringOfNumbers = '32040230213340205020112'\n",
    "</code>"
   ],
   "metadata": {}
  },
  {
   "cell_type": "markdown",
   "source": [
    "<h4>Solution</h4>"
   ],
   "metadata": {}
  },
  {
   "cell_type": "code",
   "execution_count": 136,
   "source": [
    "stringOfNumbers = '32040230213340205020112'\n",
    "\n",
    "stringOfNumbers_li = list((stringOfNumbers))\n",
    "print(stringOfNumbers_li)\n",
    "\n",
    "for x in range(len(stringOfNumbers_li)-1):\n",
    "    if int(stringOfNumbers_li[x]) == 2 and int(stringOfNumbers_li[x + 1]) == 0:\n",
    "        print(x)"
   ],
   "outputs": [
    {
     "output_type": "stream",
     "name": "stdout",
     "text": [
      "['3', '2', '0', '4', '0', '2', '3', '0', '2', '1', '3', '3', '4', '0', '2', '0', '5', '0', '2', '0', '1', '1', '2']\n",
      "1\n",
      "14\n",
      "18\n"
     ]
    }
   ],
   "metadata": {}
  },
  {
   "cell_type": "markdown",
   "source": [
    "This notebook is part of a course at www.codeimmersives.com called SQL-NOSQL. If you accessed this notebook outside the course, you can get more information about this course online by clicking here."
   ],
   "metadata": {}
  },
  {
   "cell_type": "markdown",
   "source": [
    "<hr>\n",
    "\n",
    "Copyright &copy; 2021  Code Immersives"
   ],
   "metadata": {}
  }
 ],
 "metadata": {
  "kernelspec": {
   "name": "python3",
   "display_name": "Python 3.8.2 64-bit"
  },
  "language_info": {
   "codemirror_mode": {
    "name": "ipython",
    "version": 3
   },
   "file_extension": ".py",
   "mimetype": "text/x-python",
   "name": "python",
   "nbconvert_exporter": "python",
   "pygments_lexer": "ipython3",
   "version": "3.8.2"
  },
  "interpreter": {
   "hash": "31f2aee4e71d21fbe5cf8b01ff0e069b9275f58929596ceb00d14d90e3e16cd6"
  }
 },
 "nbformat": 4,
 "nbformat_minor": 4
}