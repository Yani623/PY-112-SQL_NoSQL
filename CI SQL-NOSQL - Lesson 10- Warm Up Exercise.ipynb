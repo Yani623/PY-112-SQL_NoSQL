{
 "cells": [
  {
   "cell_type": "markdown",
   "id": "4d84c1ee",
   "metadata": {},
   "source": [
    "# Warm-Up Exercise For Today"
   ]
  },
  {
   "cell_type": "markdown",
   "id": "085fa2e4",
   "metadata": {},
   "source": [
    "given the dataset provided MOCK_DATA.csv, find out the following: \n",
    "- sort the IP addresses by the first three digits (network identifier) \n",
    "- What are all the domains in the emails (domain i.e. : @engadget.com)\n",
    "- what is the most common domain name ? \n",
    "- Out of the emails create a dictionary of counts for the top level domain names (.com, .pl etc..)\n",
    "```\n",
    "{ '.com': 10, .... }\n",
    "```\n",
    "\n",
    "- Write a function called check_username that takes an email address and checks that the first letter matches the first letter of the name in the first name column and the rest of the string is from the last name \n",
    "\n",
    "```\n",
    "def check_username(email, firstname, lastname):\n",
    "    \n",
    "```\n"
   ]
  },
  {
   "cell_type": "code",
   "execution_count": null,
   "metadata": {},
   "outputs": [],
   "source": []
  },
  {
   "cell_type": "code",
   "execution_count": null,
   "metadata": {},
   "outputs": [],
   "source": []
  },
  {
   "cell_type": "markdown",
   "id": "35a80dcb",
   "metadata": {},
   "source": [
    "\n",
    "\n",
    "\n",
    "\n"
   ]
  },
  {
   "cell_type": "code",
   "execution_count": 56,
   "id": "674e7f43",
   "metadata": {
    "tags": []
   },
   "outputs": [],
   "source": [
    "'''Sort the IP addresses by the first three digits (network identifier)'''\n",
    "\n",
    "import csv\n",
    "import pprint\n",
    "\n",
    "with open('Mock_Data.csv', newline = '') as mData:\n",
    "     rowmData = csv.reader(mData)\n",
    "     #each row read is returned as a list of strings. No datatype conversion is automatically performed.\n",
    "     ipLi = []\n",
    "     for row in rowmData:\n",
    "            ipLi.append(row[-1])\n",
    "ipLi = ipLi[1:]\n",
    "ipLi.sort()\n",
    "# pprint.pp(ipLi)\n",
    "\n",
    "\n"
   ]
  },
  {
   "cell_type": "code",
   "execution_count": 1,
   "metadata": {
    "tags": []
   },
   "outputs": [
    {
     "output_type": "stream",
     "name": "stdout",
     "text": [
      "ckshanks', 'email': 'kcruickshanksng@indiegogo.com', 'ip_address': '216.237.75.57'}\n{'id': '846', 'first_name': 'Timofei', 'last_name': 'Cromley', 'email': 'tcromleynh@weibo.com', 'ip_address': '195.246.60.187'}\n{'id': '847', 'first_name': 'Thoma', 'last_name': 'Haslum', 'email': 'thaslumni@comcast.net', 'ip_address': '124.215.136.7'}\n{'id': '848', 'first_name': 'Alister', 'last_name': 'Hackney', 'email': 'ahackneynj@elpais.com', 'ip_address': '237.97.252.164'}\n{'id': '849', 'first_name': 'Torr', 'last_name': 'Laurens', 'email': 'tlaurensnk@networkadvertising.org', 'ip_address': '144.15.195.231'}\n{'id': '850', 'first_name': 'Prescott', 'last_name': 'Clue', 'email': 'pcluenl@163.com', 'ip_address': '116.49.241.49'}\n{'id': '851', 'first_name': 'Mellisa', 'last_name': 'Rasper', 'email': 'mraspernm@quantcast.com', 'ip_address': '188.121.180.220'}\n{'id': '852', 'first_name': 'Marietta', 'last_name': 'Byrom', 'email': 'mbyromnn@youtu.be', 'ip_address': '221.117.223.165'}\n{'id': '853', 'first_name': 'Melanie', 'last_name': 'Gorry', 'email': 'mgorryno@moonfruit.com', 'ip_address': '151.236.123.248'}\n{'id': '854', 'first_name': 'Lazare', 'last_name': 'Burch', 'email': 'lburchnp@sphinn.com', 'ip_address': '237.139.16.150'}\n{'id': '855', 'first_name': 'Cleon', 'last_name': 'Symcoxe', 'email': 'csymcoxenq@ucla.edu', 'ip_address': '115.149.145.200'}\n{'id': '856', 'first_name': 'Rogerio', 'last_name': 'Archibald', 'email': 'rarchibaldnr@ox.ac.uk', 'ip_address': '95.97.166.102'}\n{'id': '857', 'first_name': 'Dyanna', 'last_name': 'McCullogh', 'email': 'dmcculloghns@nhs.uk', 'ip_address': '246.107.221.125'}\n{'id': '858', 'first_name': 'Renee', 'last_name': 'Desaur', 'email': 'rdesaurnt@noaa.gov', 'ip_address': '210.73.182.107'}\n{'id': '859', 'first_name': 'Sileas', 'last_name': 'Frankum', 'email': 'sfrankumnu@aol.com', 'ip_address': '25.22.18.104'}\n{'id': '860', 'first_name': 'Catharine', 'last_name': 'Bigadike', 'email': 'cbigadikenv@topsy.com', 'ip_address': '89.181.47.184'}\n{'id': '861', 'first_name': 'Rowena', 'last_name': 'MacDougal', 'email': 'rmacdougalnw@surveymonkey.com', 'ip_address': '22.71.89.92'}\n{'id': '862', 'first_name': 'Jennifer', 'last_name': 'Seaward', 'email': 'jseawardnx@deviantart.com', 'ip_address': '181.137.168.179'}\n{'id': '863', 'first_name': 'Tansy', 'last_name': 'Dalgetty', 'email': 'tdalgettyny@etsy.com', 'ip_address': '151.142.167.54'}\n{'id': '864', 'first_name': 'Cordy', 'last_name': 'Russilll', 'email': 'crussilllnz@elpais.com', 'ip_address': '1.83.104.126'}\n{'id': '865', 'first_name': 'Ruthi', 'last_name': 'Berrycloth', 'email': 'rberryclotho0@lycos.com', 'ip_address': '103.217.253.18'}\n{'id': '866', 'first_name': 'Diarmid', 'last_name': 'Linden', 'email': 'dlindeno1@bbb.org', 'ip_address': '129.146.91.203'}\n{'id': '867', 'first_name': 'Pail', 'last_name': 'Drees', 'email': 'pdreeso2@bloglovin.com', 'ip_address': '20.252.42.186'}\n{'id': '868', 'first_name': 'Sharleen', 'last_name': 'Jager', 'email': 'sjagero3@bbb.org', 'ip_address': '164.209.110.103'}\n{'id': '869', 'first_name': 'Teodorico', 'last_name': 'Zapater', 'email': 'tzapatero4@ustream.tv', 'ip_address': '161.129.58.221'}\n{'id': '870', 'first_name': 'Donavon', 'last_name': 'Gatchel', 'email': 'dgatchelo5@github.com', 'ip_address': '127.4.132.132'}\n{'id': '871', 'first_name': 'Kris', 'last_name': 'Viollet', 'email': 'kviolleto6@vimeo.com', 'ip_address': '143.146.231.217'}\n{'id': '872', 'first_name': 'Muhammad', 'last_name': 'Meriton', 'email': 'mmeritono7@xinhuanet.com', 'ip_address': '49.105.190.95'}\n{'id': '873', 'first_name': 'Sari', 'last_name': 'Keppie', 'email': 'skeppieo8@vimeo.com', 'ip_address': '237.82.43.157'}\n{'id': '874', 'first_name': 'Rozanne', 'last_name': 'Delaney', 'email': 'rdelaneyo9@exblog.jp', 'ip_address': '209.56.107.123'}\n{'id': '875', 'first_name': 'Theadora', 'last_name': 'Keysel', 'email': 'tkeyseloa@amazon.co.uk', 'ip_address': '31.65.153.174'}\n{'id': '876', 'first_name': 'Jacquenetta', 'last_name': 'Oaker', 'email': 'joakerob@ucoz.ru', 'ip_address': '45.185.95.60'}\n{'id': '877', 'first_name': 'Caryl', 'last_name': 'Titt', 'email': 'ctittoc@sfgate.com', 'ip_address': '230.235.170.25'}\n{'id': '878', 'first_name': 'Wally', 'last_name': 'Haddleston', 'email': 'whaddlestonod@comcast.net', 'ip_address': '42.8.255.118'}\n{'id': '879', 'first_name': 'Rebecka', 'last_name': 'Risborough', 'email': 'rrisboroughoe@geocities.com', 'ip_address': '87.181.123.144'}\n{'id': '880', 'first_name': 'Gabriell', 'last_name': 'Enright', 'email': 'genrightof@house.gov', 'ip_address': '255.42.64.155'}\n{'id': '881', 'first_name': 'Myrta', 'last_name': 'Knell', 'email': 'mknellog@plala.or.jp', 'ip_address': '106.69.80.77'}\n{'id': '882', 'first_name': 'Sharity', 'last_name': 'Tamlett', 'email': 'stamlettoh@google.com.br', 'ip_address': '109.153.82.39'}\n{'id': '883', 'first_name': 'Cassy', 'last_name': 'Kibby', 'email': 'ckibbyoi@youtu.be', 'ip_address': '102.61.57.253'}\n{'id': '884', 'first_name': 'Kinsley', 'last_name': 'Havoc', 'email': 'khavocoj@studiopress.com', 'ip_address': '135.111.48.24'}\n{'id': '885', 'first_name': 'Rosy', 'last_name': 'Bruggen', 'email': 'rbruggenok@bandcamp.com', 'ip_address': '160.153.209.14'}\n{'id': '886', 'first_name': 'Billy', 'last_name': 'Nottingham', 'email': 'bnottinghamol@economist.com', 'ip_address': '26.186.181.230'}\n{'id': '887', 'first_name': 'Christophorus', 'last_name': 'Scrooby', 'email': 'cscroobyom@sfgate.com', 'ip_address': '234.176.152.133'}\n{'id': '888', 'first_name': 'Lucio', 'last_name': 'Runsey', 'email': 'lrunseyon@odnoklassniki.ru', 'ip_address': '144.49.206.80'}\n{'id': '889', 'first_name': 'Daune', 'last_name': 'Brangan', 'email': 'dbranganoo@hostgator.com', 'ip_address': '10.15.151.225'}\n{'id': '890', 'first_name': 'Wendel', 'last_name': 'Scrymgeour', 'email': 'wscrymgeourop@cam.ac.uk', 'ip_address': '170.128.178.204'}\n{'id': '891', 'first_name': 'Felicia', 'last_name': 'Cominoli', 'email': 'fcominolioq@sogou.com', 'ip_address': '77.156.171.205'}\n{'id': '892', 'first_name': 'Barnabe', 'last_name': 'Woffenden', 'email': 'bwoffendenor@skyrock.com', 'ip_address': '30.54.77.16'}\n{'id': '893', 'first_name': 'Jorge', 'last_name': 'Dillintone', 'email': 'jdillintoneos@dropbox.com', 'ip_address': '107.154.10.8'}\n{'id': '894', 'first_name': 'Urban', 'last_name': 'Cahan', 'email': 'ucahanot@simplemachines.org', 'ip_address': '66.19.83.3'}\n{'id': '895', 'first_name': 'Filippo', 'last_name': 'Ecclestone', 'email': 'fecclestoneou@ocn.ne.jp', 'ip_address': '244.36.63.191'}\n{'id': '896', 'first_name': 'Lottie', 'last_name': 'Shwalbe', 'email': 'lshwalbeov@cdc.gov', 'ip_address': '131.69.140.40'}\n{'id': '897', 'first_name': 'Bunny', 'last_name': 'Bance', 'email': 'bbanceow@guardian.co.uk', 'ip_address': '172.102.150.93'}\n{'id': '898', 'first_name': 'Ricky', 'last_name': 'Falshaw', 'email': 'rfalshawox@tinyurl.com', 'ip_address': '64.241.90.74'}\n{'id': '899', 'first_name': 'Holmes', 'last_name': 'Rodenhurst', 'email': 'hrodenhurstoy@time.com', 'ip_address': '183.206.253.51'}\n{'id': '900', 'first_name': 'Allene', 'last_name': 'Lube', 'email': 'alubeoz@squidoo.com', 'ip_address': '230.58.198.213'}\n{'id': '901', 'first_name': 'Mufinella', 'last_name': 'Probart', 'email': 'mprobartp0@businessinsider.com', 'ip_address': '3.25.153.151'}\n{'id': '902', 'first_name': 'Shina', 'last_name': 'Fochs', 'email': 'sfochsp1@wisc.edu', 'ip_address': '173.23.228.103'}\n{'id': '903', 'first_name': 'Cross', 'last_name': 'Rowlson', 'email': 'crowlsonp2@washington.edu', 'ip_address': '83.175.45.145'}\n{'id': '904', 'first_name': 'Charlena', 'last_name': 'Canniffe', 'email': 'ccanniffep3@cnbc.com', 'ip_address': '81.200.198.80'}\n{'id': '905', 'first_name': 'Archie', 'last_name': 'Dantesia', 'email': 'adantesiap4@sohu.com', 'ip_address': '56.231.65.155'}\n{'id': '906', 'first_name': 'Lanita', 'last_name': 'Hedworth', 'email': 'lhedworthp5@google.ru', 'ip_address': '184.90.156.250'}\n{'id': '907', 'first_name': 'Hayward', 'last_name': 'Canellas', 'email': 'hcanellasp6@latimes.com', 'ip_address': '155.195.90.3'}\n{'id': '908', 'first_name': 'Lynnett', 'last_name': 'Gawn', 'email': 'lgawnp7@deliciousdays.com', 'ip_address': '255.160.67.136'}\n{'id': '909', 'first_name': 'Joy', 'last_name': 'Whittles', 'email': 'jwhittlesp8@a8.net', 'ip_address': '153.111.11.169'}\n{'id': '910', 'first_name': 'Maudie', 'last_name': 'Bigham', 'email': 'mbighamp9@theglobeandmail.com', 'ip_address': '231.28.204.13'}\n{'id': '911', 'first_name': 'Alina', 'last_name': 'MacGeaney', 'email': 'amacgeaneypa@comsenz.com', 'ip_address': '109.156.78.43'}\n{'id': '912', 'first_name': 'Luz', 'last_name': 'Karpenya', 'email': 'lkarpenyapb@google.cn', 'ip_address': '31.115.178.255'}\n{'id': '913', 'first_name': 'Rab', 'last_name': 'Bidgod', 'email': 'rbidgodpc@irs.gov', 'ip_address': '96.225.255.90'}\n{'id': '914', 'first_name': 'Danika', 'last_name': 'Maccree', 'email': 'dmaccreepd@gnu.org', 'ip_address': '12.89.148.83'}\n{'id': '915', 'first_name': 'Tad', 'last_name': 'Thecham', 'email': 'tthechampe@microsoft.com', 'ip_address': '197.123.55.8'}\n{'id': '916', 'first_name': 'Rolf', 'last_name': 'Patek', 'email': 'rpatekpf@naver.com', 'ip_address': '211.254.212.29'}\n{'id': '917', 'first_name': 'Concordia', 'last_name': 'Broadist', 'email': 'cbroadistpg@statcounter.com', 'ip_address': '43.195.58.67'}\n{'id': '918', 'first_name': 'Jobina', 'last_name': 'Edgcumbe', 'email': 'jedgcumbeph@wisc.edu', 'ip_address': '220.44.69.67'}\n{'id': '919', 'first_name': 'Edward', 'last_name': 'Yallowley', 'email': 'eyallowleypi@independent.co.uk', 'ip_address': '109.234.243.244'}\n{'id': '920', 'first_name': 'Deanne', 'last_name': 'Eglin', 'email': 'deglinpj@ebay.co.uk', 'ip_address': '232.170.114.125'}\n{'id': '921', 'first_name': 'Woodrow', 'last_name': 'Lighterness', 'email': 'wlighternesspk@imgur.com', 'ip_address': '57.137.176.232'}\n{'id': '922', 'first_name': 'Kathleen', 'last_name': 'Cancelier', 'email': 'kcancelierpl@barnesandnoble.com', 'ip_address': '228.225.79.32'}\n{'id': '923', 'first_name': 'Kipp', 'last_name': 'Gilyott', 'email': 'kgilyottpm@facebook.com', 'ip_address': '22.117.165.163'}\n{'id': '924', 'first_name': 'Adelina', 'last_name': 'Thornber', 'email': 'athornberpn@washington.edu', 'ip_address': '232.57.87.52'}\n{'id': '925', 'first_name': 'Shandeigh', 'last_name': 'Dacke', 'email': 'sdackepo@narod.ru', 'ip_address': '250.75.9.103'}\n{'id': '926', 'first_name': 'Heida', 'last_name': 'Chang', 'email': 'hchangpp@deliciousdays.com', 'ip_address': '118.85.186.105'}\n{'id': '927', 'first_name': 'Mason', 'last_name': 'Haycox', 'email': 'mhaycoxpq@ucsd.edu', 'ip_address': '106.151.229.39'}\n{'id': '928', 'first_name': 'Daron', 'last_name': 'Stawell', 'email': 'dstawellpr@joomla.org', 'ip_address': '66.174.233.41'}\n{'id': '929', 'first_name': 'Jecho', 'last_name': 'Manuele', 'email': 'jmanueleps@hibu.com', 'ip_address': '157.159.112.248'}\n{'id': '930', 'first_name': 'Lebbie', 'last_name': 'Sacks', 'email': 'lsackspt@howstuffworks.com', 'ip_address': '230.120.179.203'}\n{'id': '931', 'first_name': 'Filide', 'last_name': 'Walsham', 'email': 'fwalshampu@unesco.org', 'ip_address': '184.107.196.5'}\n{'id': '932', 'first_name': 'Freddi', 'last_name': 'McMenamie', 'email': 'fmcmenamiepv@google.cn', 'ip_address': '138.161.219.251'}\n{'id': '933', 'first_name': 'Ripley', 'last_name': 'Roach', 'email': 'rroachpw@umn.edu', 'ip_address': '228.231.159.175'}\n{'id': '934', 'first_name': 'Chris', 'last_name': 'Pettendrich', 'email': 'cpettendrichpx@nytimes.com', 'ip_address': '161.147.48.169'}\n{'id': '935', 'first_name': 'Jo', 'last_name': 'Kenaway', 'email': 'jkenawaypy@4shared.com', 'ip_address': '246.243.247.179'}\n{'id': '936', 'first_name': 'Marylin', 'last_name': 'Caban', 'email': 'mcabanpz@pbs.org', 'ip_address': '179.38.220.212'}\n{'id': '937', 'first_name': 'Aline', 'last_name': 'Sanford', 'email': 'asanfordq0@wikispaces.com', 'ip_address': '224.158.198.122'}\n{'id': '938', 'first_name': 'Walliw', 'last_name': 'Pentecust', 'email': 'wpentecustq1@angelfire.com', 'ip_address': '233.109.58.111'}\n{'id': '939', 'first_name': 'Alameda', 'last_name': 'Purdon', 'email': 'apurdonq2@blinklist.com', 'ip_address': '228.219.173.36'}\n{'id': '940', 'first_name': 'Bobbye', 'last_name': 'Keeney', 'email': 'bkeeneyq3@sciencedaily.com', 'ip_address': '255.104.56.143'}\n{'id': '941', 'first_name': 'Ruthy', 'last_name': 'Brummell', 'email': 'rbrummellq4@rediff.com', 'ip_address': '193.157.77.6'}\n{'id': '942', 'first_name': 'Hewie', 'last_name': 'Farres', 'email': 'hfarresq5@quantcast.com', 'ip_address': '147.229.22.249'}\n{'id': '943', 'first_name': 'Jesselyn', 'last_name': 'Purdom', 'email': 'jpurdomq6@addtoany.com', 'ip_address': '58.171.232.0'}\n{'id': '944', 'first_name': 'Stavro', 'last_name': 'Noddings', 'email': 'snoddingsq7@opera.com', 'ip_address': '117.179.189.232'}\n{'id': '945', 'first_name': 'Benedetto', 'last_name': 'Bellee', 'email': 'bbelleeq8@webmd.com', 'ip_address': '162.8.183.11'}\n{'id': '946', 'first_name': 'Brittani', 'last_name': 'Cotman', 'email': 'bcotmanq9@buzzfeed.com', 'ip_address': '50.43.112.55'}\n{'id': '947', 'first_name': 'Roxine', 'last_name': 'Coultous', 'email': 'rcoultousqa@va.gov', 'ip_address': '233.200.158.83'}\n{'id': '948', 'first_name': 'Karlie', 'last_name': 'Belsham', 'email': 'kbelshamqb@comcast.net', 'ip_address': '242.72.251.205'}\n{'id': '949', 'first_name': 'Norene', 'last_name': 'Kalinke', 'email': 'nkalinkeqc@flavors.me', 'ip_address': '179.219.247.23'}\n{'id': '950', 'first_name': 'Fulton', 'last_name': 'Checcucci', 'email': 'fcheccucciqd@chicagotribune.com', 'ip_address': '44.187.111.11'}\n{'id': '951', 'first_name': 'Dorita', 'last_name': 'Ashwin', 'email': 'dashwinqe@mail.ru', 'ip_address': '81.194.235.187'}\n{'id': '952', 'first_name': 'Marley', 'last_name': 'Pletts', 'email': 'mplettsqf@thetimes.co.uk', 'ip_address': '106.15.67.166'}\n{'id': '953', 'first_name': 'Sholom', 'last_name': 'Frizzell', 'email': 'sfrizzellqg@ed.gov', 'ip_address': '216.27.104.88'}\n{'id': '954', 'first_name': 'Alina', 'last_name': 'Stockwell', 'email': 'astockwellqh@imageshack.us', 'ip_address': '107.92.118.156'}\n{'id': '955', 'first_name': 'Pietro', 'last_name': 'Hevner', 'email': 'phevnerqi@addthis.com', 'ip_address': '161.46.106.119'}\n{'id': '956', 'first_name': 'Kippie', 'last_name': 'Kimbling', 'email': 'kkimblingqj@pbs.org', 'ip_address': '116.196.170.240'}\n{'id': '957', 'first_name': 'Dyann', 'last_name': 'Georgiades', 'email': 'dgeorgiadesqk@ask.com', 'ip_address': '7.143.209.28'}\n{'id': '958', 'first_name': 'Olivia', 'last_name': 'Domleo', 'email': 'odomleoql@bbb.org', 'ip_address': '233.128.111.39'}\n{'id': '959', 'first_name': 'Di', 'last_name': 'Duddy', 'email': 'dduddyqm@homestead.com', 'ip_address': '144.86.91.215'}\n{'id': '960', 'first_name': 'Grace', 'last_name': 'Simko', 'email': 'gsimkoqn@japanpost.jp', 'ip_address': '251.35.81.115'}\n{'id': '961', 'first_name': 'Hussein', 'last_name': 'Westlake', 'email': 'hwestlakeqo@sitemeter.com', 'ip_address': '65.175.194.206'}\n{'id': '962', 'first_name': 'Josie', 'last_name': 'Cayzer', 'email': 'jcayzerqp@bing.com', 'ip_address': '221.123.253.52'}\n{'id': '963', 'first_name': 'Garik', 'last_name': 'MacIlurick', 'email': 'gmacilurickqq@constantcontact.com', 'ip_address': '251.176.115.17'}\n{'id': '964', 'first_name': 'Ilyse', 'last_name': 'Tomik', 'email': 'itomikqr@shutterfly.com', 'ip_address': '128.144.141.8'}\n{'id': '965', 'first_name': 'Mariska', 'last_name': 'Hussell', 'email': 'mhussellqs@imageshack.us', 'ip_address': '62.179.32.186'}\n{'id': '966', 'first_name': 'Matthieu', 'last_name': 'Vinton', 'email': 'mvintonqt@histats.com', 'ip_address': '108.136.38.130'}\n{'id': '967', 'first_name': 'Hewe', 'last_name': 'Tripcony', 'email': 'htripconyqu@cnn.com', 'ip_address': '255.40.13.75'}\n{'id': '968', 'first_name': 'Marchelle', 'last_name': 'Blundan', 'email': 'mblundanqv@stanford.edu', 'ip_address': '77.127.12.15'}\n{'id': '969', 'first_name': 'Karen', 'last_name': 'Joul', 'email': 'kjoulqw@pagesperso-orange.fr', 'ip_address': '7.62.191.132'}\n{'id': '970', 'first_name': 'Mommy', 'last_name': 'Venediktov', 'email': 'mvenediktovqx@aboutads.info', 'ip_address': '195.25.180.249'}\n{'id': '971', 'first_name': 'Cornie', 'last_name': 'Kopps', 'email': 'ckoppsqy@hubpages.com', 'ip_address': '97.31.61.174'}\n{'id': '972', 'first_name': 'Avery', 'last_name': 'Feaveryear', 'email': 'afeaveryearqz@discovery.com', 'ip_address': '86.139.123.140'}\n{'id': '973', 'first_name': 'Emelita', 'last_name': 'Shmyr', 'email': 'eshmyrr0@4shared.com', 'ip_address': '68.43.45.53'}\n{'id': '974', 'first_name': 'Dorothy', 'last_name': 'Chislett', 'email': 'dchislettr1@moonfruit.com', 'ip_address': '237.55.90.83'}\n{'id': '975', 'first_name': 'Lauritz', 'last_name': 'Chilvers', 'email': 'lchilversr2@sphinn.com', 'ip_address': '19.231.127.86'}\n{'id': '976', 'first_name': 'Ivie', 'last_name': 'Buche', 'email': 'ibucher3@geocities.jp', 'ip_address': '22.62.250.212'}\n{'id': '977', 'first_name': 'Emmi', 'last_name': 'Leebeter', 'email': 'eleebeterr4@theglobeandmail.com', 'ip_address': '71.49.122.6'}\n{'id': '978', 'first_name': 'Davin', 'last_name': 'Grimsell', 'email': 'dgrimsellr5@blog.com', 'ip_address': '117.46.99.167'}\n{'id': '979', 'first_name': 'Sean', 'last_name': 'Haig', 'email': 'shaigr6@ebay.com', 'ip_address': '10.243.169.187'}\n{'id': '980', 'first_name': 'Dorella', 'last_name': 'Sictornes', 'email': 'dsictornesr7@bluehost.com', 'ip_address': '23.229.88.122'}\n{'id': '981', 'first_name': 'Anni', 'last_name': 'De Vaar', 'email': 'adevaarr8@imdb.com', 'ip_address': '59.45.189.109'}\n{'id': '982', 'first_name': 'Darryl', 'last_name': 'GiacobbiniJacob', 'email': 'dgiacobbinijacobr9@sciencedaily.com', 'ip_address': '204.47.23.167'}\n{'id': '983', 'first_name': 'Melva', 'last_name': 'Dilland', 'email': 'mdillandra@t.co', 'ip_address': '59.177.86.0'}\n{'id': '984', 'first_name': 'Bogart', 'last_name': 'Downs', 'email': 'bdownsrb@elpais.com', 'ip_address': '133.75.175.173'}\n{'id': '985', 'first_name': 'Lewes', 'last_name': 'Hallowes', 'email': 'lhallowesrc@cisco.com', 'ip_address': '84.185.139.39'}\n{'id': '986', 'first_name': 'Collen', 'last_name': 'Lalonde', 'email': 'clalonderd@google.com.br', 'ip_address': '39.11.101.246'}\n{'id': '987', 'first_name': 'Sal', 'last_name': 'Mangham', 'email': 'smanghamre@cmu.edu', 'ip_address': '109.109.53.68'}\n{'id': '988', 'first_name': 'Lacey', 'last_name': 'Ofield', 'email': 'lofieldrf@vimeo.com', 'ip_address': '121.34.253.191'}\n{'id': '989', 'first_name': 'Wilbert', 'last_name': 'Mollatt', 'email': 'wmollattrg@irs.gov', 'ip_address': '34.158.110.221'}\n{'id': '990', 'first_name': 'Glad', 'last_name': \"O'Bradden\", 'email': 'gobraddenrh@cbc.ca', 'ip_address': '214.54.42.107'}\n{'id': '991', 'first_name': 'Brynn', 'last_name': 'Haseley', 'email': 'bhaseleyri@furl.net', 'ip_address': '144.98.133.238'}\n{'id': '992', 'first_name': 'Marcelline', 'last_name': 'Manzell', 'email': 'mmanzellrj@accuweather.com', 'ip_address': '79.102.209.153'}\n{'id': '993', 'first_name': 'Evelyn', 'last_name': 'Bodsworth', 'email': 'ebodsworthrk@amazon.co.jp', 'ip_address': '237.145.117.140'}\n{'id': '994', 'first_name': 'Jaquelyn', 'last_name': 'Manthroppe', 'email': 'jmanthropperl@naver.com', 'ip_address': '217.88.251.45'}\n{'id': '995', 'first_name': 'Gabi', 'last_name': 'Kilcullen', 'email': 'gkilcullenrm@si.edu', 'ip_address': '162.71.24.85'}\n{'id': '996', 'first_name': 'Towney', 'last_name': 'Longfoot', 'email': 'tlongfootrn@ox.ac.uk', 'ip_address': '200.64.144.248'}\n{'id': '997', 'first_name': 'Randi', 'last_name': 'Jouanet', 'email': 'rjouanetro@a8.net', 'ip_address': '217.249.54.215'}\n{'id': '998', 'first_name': 'Ibrahim', 'last_name': 'McMenamie', 'email': 'imcmenamierp@hibu.com', 'ip_address': '36.148.52.231'}\n{'id': '999', 'first_name': 'Mora', 'last_name': 'Kristoffersen', 'email': 'mkristoffersenrq@wunderground.com', 'ip_address': '253.187.250.76'}\n{'id': '1000', 'first_name': 'Damaris', 'last_name': 'Emms', 'email': 'demmsrr@php.net', 'ip_address': '208.167.12.130'}\n"
     ]
    }
   ],
   "source": [
    "'''What are all the domains in the emails (domain i.e. : @engadget.com)'''\n",
    "\n",
    "import csv\n",
    "import pprint\n",
    "\n",
    "with open('Mock_Data.csv', newline = '') as mData:\n",
    "#      rowmData = csv.reader(mData)\n",
    "#      #each row read is returned as a list of strings. No datatype conversion is automatically performed.\n",
    "#      emails = [row[-2].lower() for row in rowmData]\n",
    "# emails = emails[1:]\n",
    "# print(emails)\n",
    "    rowmData = csv.DictReader(mData)\n",
    "    for row in rowmData[1]:\n",
    "        print(row)\n",
    "domains = []\n",
    "# for x in emails:\n",
    "#     atIndex = int(x.index('@'))\n",
    "#     x = x[atIndex:]\n",
    "#     domains.append(x)\n",
    "\n",
    "# domains = list(set(domains))\n",
    "\n",
    "# print(domains[:3])"
   ]
  },
  {
   "cell_type": "code",
   "execution_count": 70,
   "metadata": {
    "tags": []
   },
   "outputs": [
    {
     "output_type": "stream",
     "name": "stdout",
     "text": [
      "\"'@diigo.com' is the most common domain. It appeared 7 times\"\n\"'@rediff.com' is the most common domain. It appeared 7 times\"\n\"'@discuz.net' is the most common domain. It appeared 7 times\"\n"
     ]
    }
   ],
   "source": [
    "'''what is the most common domain name ?'''\n",
    "\n",
    "import csv\n",
    "import pprint\n",
    "\n",
    "with open('Mock_Data.csv', newline = '') as mData:\n",
    "     rowmData = csv.reader(mData)\n",
    "     #each row read is returned as a list of strings. No datatype conversion is automatically performed.\n",
    "     emails = [row[-2].lower() for row in rowmData]\n",
    "emails = emails[1:]\n",
    "# print(emails[:3])\n",
    "\n",
    "domains = []\n",
    "for x in emails:\n",
    "    atIndex = int(x.index('@'))\n",
    "    x = x[atIndex:]\n",
    "    domains.append(x)\n",
    "# print(domains[:3])\n",
    "\n",
    "domainDict = {}\n",
    "for x in domains:\n",
    "    if x not in domainDict:\n",
    "        domainDict[x] = domains.count(x)\n",
    "\n",
    "domainMax = max(domainDict.values())\n",
    "for k,v in domainDict.items():\n",
    "    if v == domainMax:\n",
    "        pprint.pp(f\"'{k}' is the most common domain. It appeared {v} times\")\n",
    "\n",
    "# print(domainDict)\n",
    "\n"
   ]
  },
  {
   "cell_type": "code",
   "execution_count": 71,
   "metadata": {},
   "outputs": [
    {
     "output_type": "stream",
     "name": "stdout",
     "text": [
      "['.org', '.com', '.co.jp']\n{'.org': 49, '.com': 579, '.co.jp': 12, '.jp': 11, '.ca': 5, '.us': 5, '.net.au': 2, '.edu': 58, '.gov': 52, '.net': 40, '.eu': 6, '.ru': 23, '.or.jp': 4, '.de': 13, '.co.uk': 23, '.it': 4, '.com.au': 4, '.la': 1, '.tv': 4, '.fr': 10, '.es': 3, '.ne.jp': 12, '.uk': 3, '.info': 5, '.io': 4, '.cz': 4, '.tx.us': 1, '.com.cn': 7, '.gl': 2, '.nl': 4, '.me': 3, '.fm': 1, '.com.br': 4, '.gov.au': 3, '.int': 3, '.ac.uk': 7, '.cc': 3, '.cn': 5, '.co': 4, '.gov.cn': 4, '.pl': 2, '.vu': 3, '.ly': 2, '.mil': 1, '.ch': 1, '.com.hk': 1, '.gd': 1, '.be': 2}\n"
     ]
    }
   ],
   "source": [
    "'''Out of the emails create a dictionary of counts for the top level domain names (.com, .pl etc..)'''\n",
    "\n",
    "import csv\n",
    "import pprint\n",
    "\n",
    "with open('Mock_Data.csv', newline = '') as mData:\n",
    "     rowmData = csv.reader(mData)\n",
    "     #each row read is returned as a list of strings. No datatype conversion is automatically performed.\n",
    "     emails = [row[-2].lower() for row in rowmData]\n",
    "emails = emails[1:]\n",
    "# print(emails[:3])\n",
    "\n",
    "topDomainLi = []\n",
    "for x in emails:\n",
    "    atIndex = int(x.index('@'))\n",
    "    x = x[atIndex:]\n",
    "    atIndex2 = int(x.index('.'))\n",
    "    x = x[atIndex2:]\n",
    "    topDomainLi.append(x)\n",
    "\n",
    "\n",
    "topDomainDict = {}\n",
    "for x in topDomainLi:\n",
    "    if x not in topDomainDict:\n",
    "        topDomainDict[x] = topDomainLi.count(x)\n",
    "print(topDomainLi[:3])\n",
    "print(topDomainDict)\n"
   ]
  },
  {
   "cell_type": "code",
   "execution_count": 143,
   "metadata": {
    "tags": []
   },
   "outputs": [
    {
     "output_type": "stream",
     "name": "stdout",
     "text": [
      "[['email', 'first_name', 'last_name'], ['sblake0@redcross.org', 'Sukey', 'Blake'], ['salesbrook1@intel.com', 'Shaylah', 'Alesbrook']]\n"
     ]
    },
    {
     "output_type": "error",
     "ename": "NameError",
     "evalue": "name 'email' is not defined",
     "traceback": [
      "\u001b[0;31m---------------------------------------------------------------------------\u001b[0m",
      "\u001b[0;31mNameError\u001b[0m                                 Traceback (most recent call last)",
      "\u001b[0;32m<ipython-input-143-140302faf103>\u001b[0m in \u001b[0;36m<module>\u001b[0;34m\u001b[0m\n\u001b[1;32m     21\u001b[0m \u001b[0;31m# check_username()\u001b[0m\u001b[0;34m\u001b[0m\u001b[0;34m\u001b[0m\u001b[0;34m\u001b[0m\u001b[0m\n\u001b[1;32m     22\u001b[0m \u001b[0;34m\u001b[0m\u001b[0m\n\u001b[0;32m---> 23\u001b[0;31m \u001b[0mtestDict\u001b[0m \u001b[0;34m=\u001b[0m \u001b[0;34m{\u001b[0m\u001b[0memail\u001b[0m\u001b[0;34m:\u001b[0m\u001b[0;34m'sblake0@redcross.org'\u001b[0m\u001b[0;34m,\u001b[0m \u001b[0mfirstname\u001b[0m\u001b[0;34m:\u001b[0m \u001b[0;34m'Sukey'\u001b[0m\u001b[0;34m,\u001b[0m\u001b[0mlastname\u001b[0m\u001b[0;34m:\u001b[0m \u001b[0;34m'Blake'\u001b[0m \u001b[0;34m}\u001b[0m\u001b[0;34m\u001b[0m\u001b[0;34m\u001b[0m\u001b[0m\n\u001b[0m\u001b[1;32m     24\u001b[0m \u001b[0;34m\u001b[0m\u001b[0m\n\u001b[1;32m     25\u001b[0m \u001b[0;32mdef\u001b[0m \u001b[0mcheck_username\u001b[0m\u001b[0;34m(\u001b[0m\u001b[0memail\u001b[0m\u001b[0;34m,\u001b[0m \u001b[0mfirstname\u001b[0m\u001b[0;34m,\u001b[0m \u001b[0mlastname\u001b[0m\u001b[0;34m)\u001b[0m\u001b[0;34m:\u001b[0m\u001b[0;34m\u001b[0m\u001b[0;34m\u001b[0m\u001b[0m\n",
      "\u001b[0;31mNameError\u001b[0m: name 'email' is not defined"
     ]
    }
   ],
   "source": [
    "'''Write a function called check_username that takes an email address and checks that the first letter matches the first letter of the name in the first name column and the rest of the string is from the last name'''\n",
    "\n",
    "import csv\n",
    "import pprint\n",
    "\n",
    "with open('Mock_Data.csv', newline = '') as mData:\n",
    "     rowmData = csv.reader(mData)\n",
    "     #each row read is returned as a list of strings. No datatype conversion is automatically performed.\n",
    "     name_email = [[row[3], row[1], row[2]]  for row in rowmData]\n",
    "# name_email = name_email[1:]\n",
    "print(name_email[:3])\n",
    "\n",
    "# def check_username(li = []):\n",
    "#     for x in li:\n",
    "#         lenLastName = len(x[2])\n",
    "#         if x[0][0].lower() == x[1][0].lower() and x[2].lower() ==  x[0][1:lenLastName+1].lower():\n",
    "#             print(True)\n",
    "#         else:\n",
    "#             print(False)\n",
    "\n",
    "# check_username()\n",
    "\n",
    "testDict = {email:'sblake0@redcross.org', firstname: 'Sukey',lastname: 'Blake' }\n",
    "\n",
    "def check_username(email, firstname, lastname):\n",
    "    email = email.lower()\n",
    "    firstname = first_name.lower()\n",
    "    lastname = last_name.lower()\n",
    "    if email.startswith(firstname[:1]) and lastname in email:\n",
    "        print(True)\n",
    "    print(False)\n",
    "\n",
    "check_username(testDict)"
   ]
  },
  {
   "cell_type": "code",
   "execution_count": null,
   "metadata": {},
   "outputs": [],
   "source": []
  },
  {
   "cell_type": "code",
   "execution_count": null,
   "metadata": {},
   "outputs": [],
   "source": []
  }
 ],
 "metadata": {
  "kernelspec": {
   "name": "python3",
   "display_name": "Python 3.8.2 64-bit ('usr')"
  },
  "language_info": {
   "codemirror_mode": {
    "name": "ipython",
    "version": 3
   },
   "file_extension": ".py",
   "mimetype": "text/x-python",
   "name": "python",
   "nbconvert_exporter": "python",
   "pygments_lexer": "ipython3",
   "version": "3.8.2"
  },
  "interpreter": {
   "hash": "5edc29c2ed010d6458d71a83433b383a96a8cbd3efe8531bc90c4b8a5b8bcec9"
  }
 },
 "nbformat": 4,
 "nbformat_minor": 5
}