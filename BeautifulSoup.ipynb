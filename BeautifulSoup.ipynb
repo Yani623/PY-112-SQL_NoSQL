{
 "metadata": {
  "language_info": {
   "codemirror_mode": {
    "name": "ipython",
    "version": 3
   },
   "file_extension": ".py",
   "mimetype": "text/x-python",
   "name": "python",
   "nbconvert_exporter": "python",
   "pygments_lexer": "ipython3",
   "version": "3.8.2"
  },
  "orig_nbformat": 4,
  "kernelspec": {
   "name": "python3",
   "display_name": "Python 3.8.2 64-bit ('usr')"
  },
  "interpreter": {
   "hash": "5edc29c2ed010d6458d71a83433b383a96a8cbd3efe8531bc90c4b8a5b8bcec9"
  }
 },
 "nbformat": 4,
 "nbformat_minor": 2,
 "cells": [
  {
   "source": [
    "# Using Beautiful Soup Module to Web Scrape"
   ],
   "cell_type": "markdown",
   "metadata": {}
  },
  {
   "source": [
    "Beautiful Soup is a python pachage for parsing HTML and XML documents. It is used to extract data from HTML by creating a parse tree for parsed pages."
   ],
   "cell_type": "markdown",
   "metadata": {}
  },
  {
   "cell_type": "code",
   "execution_count": 9,
   "metadata": {},
   "outputs": [
    {
     "output_type": "stream",
     "name": "stdout",
     "text": [
      "200\n"
     ]
    }
   ],
   "source": [
    "import requests # Requests is an HTTP library that allows you to send HTTP/1.1 requests extremely easily. \n",
    "from bs4 import BeautifulSoup \n",
    "\n",
    "url = 'http://quotes.toscrape.com/' \n",
    "result = requests.get(url) # GET method indicated you're trying to get or retrieve data from a specified resource. The response of a GET request is knows as a \"Payload\"\n",
    "print(result.status_code)\n",
    "# >> 200 # This is a standard reponse/ status code for successful HTTP requests. '404' tells that the requested resource coult not be found. \n",
    "\n",
    "soup = BeautifulSoup(result.content, 'html.parser') # BeautifulSoup object represents the parsed doucment as a whole. \n",
    "# CONTENT give you access to the raw bytes of the responce payload. This requests will use an HTML parser unless specifically told to use another.\n",
    "# \n",
    " "
   ]
  },
  {
   "source": [
    "## Example \n"
   ],
   "cell_type": "markdown",
   "metadata": {}
  },
  {
   "cell_type": "code",
   "execution_count": 24,
   "metadata": {},
   "outputs": [
    {
     "output_type": "stream",
     "name": "stdout",
     "text": [
      "The Dormouse's story\n[<b>The Dormouse's story</b>, <a class=\"sister\" href=\"http://example.com/elsie\" id=\"link1\">Elsie</a>, <a class=\"sister\" href=\"http://example.com/lacie\" id=\"link2\">Lacie</a>, <a class=\"sister\" href=\"http://example.com/tillie\" id=\"link3\">Tillie</a>]\n"
     ]
    }
   ],
   "source": [
    "import requests \n",
    "from bs4 import BeautifulSoup \n",
    "\n",
    "\n",
    "html_doc = \"\"\"\n",
    "<html><head><title>The Dormouse's story</title></head>\n",
    "<body>\n",
    "<p class=\"title\"><b>The Dormouse's story</b></p>\n",
    "\n",
    "<p class=\"story\">Once upon a time there were three little sisters; and their names were\n",
    "<a href=\"http://example.com/elsie\" class=\"sister\" id=\"link1\">Elsie</a>,\n",
    "<a href=\"http://example.com/lacie\" class=\"sister\" id=\"link2\">Lacie</a> and\n",
    "<a href=\"http://example.com/tillie\" class=\"sister\" id=\"link3\">Tillie</a>;\n",
    "and they lived at the bottom of a well.</p>\n",
    "\n",
    "<p class=\"story\">...</p>\"\"\"\n",
    "\n",
    "soup = BeautifulSoup(html_doc, 'html.parser')\n",
    "\n",
    "''' Navigating Using Tag Names:\n",
    "    - This can be used to zoom in on a certain part of the three again and again. \n",
    "    - Using the tag name as an attribute will give you only the first tag by that name.\n",
    "    - Tag's children are available in a list by using .Contents.\n",
    "'''\n",
    "\n",
    "body = soup.body\n",
    "# print(body)\n",
    "# This ouputs everything within the tag <body>\n",
    "\n",
    "\n",
    "head = soup.p.contents \n",
    "# print(head)\n",
    "# >>> [<b>The Dormouse's story</b>]\n",
    "\n",
    "# If the tag only has one child and that child is a String, you can use '.string' to retrieve it. \n",
    "# Also, if a tag's only child is another tag, and tha tag has a string, then the parent tag is considered to have the same string as it's child. \n",
    "title = soup.title.string\n",
    "# print(title)\n",
    "# >>> The Dormouse's story\n",
    "\n",
    "# Also, if a tag's only child is another tag, and tha tag has a string, then the parent tag is considered to have the same string as it's child. \n",
    "head_title = soup.head.string \n",
    "print(head_title)\n",
    "# >>> The Dormouse's story\n",
    "\n",
    "\n",
    "# If there are more than one thing inside a tag, you can look at just strings by using '.strings' and using the python method repr() which gives a printable representation of the given object. \n",
    "# for string in soup.strings:\n",
    "    # print(repr(string))\n",
    "# >>>\n",
    "#  The Dormouse's story\n",
    "# '\\n'\n",
    "# \"The Dormouse's story\"\n",
    "# '\\n'\n",
    "# '\\n'\n",
    "# \"The Dormouse's story\"\n",
    "# '\\n'\n",
    "# 'Once upon a time there were three little sisters; and their names were\\n'\n",
    "# 'Elsie'\n",
    "# ',\\n'\n",
    "# 'Lacie'\n",
    "# ' and\\n'\n",
    "# 'Tillie'\n",
    "# ';\\nand they lived at the bottom of a well.'\n",
    "# '\\n'\n",
    "# '...'\n",
    "\n",
    "\n",
    "# You can use '.stripped_strings' to get rid of all the extra whitespace. \n",
    "# for string in soup.stripped_strings:\n",
    "    # print(repr(string))\n",
    "# >>>\n",
    "# \"The Dormouse's story\"\n",
    "# \"The Dormouse's story\"\n",
    "# 'Once upon a time there were three little sisters; and their names were'\n",
    "# 'Elsie'\n",
    "# ','\n",
    "# 'Lacie'\n",
    "# 'and'\n",
    "# 'Tillie'\n",
    "# ';\\nand they lived at the bottom of a well.'\n",
    "# '...'\n",
    "\n",
    "\n",
    "print(soup.find_all(['a','b']))"
   ]
  },
  {
   "cell_type": "code",
   "execution_count": null,
   "metadata": {},
   "outputs": [],
   "source": []
  }
 ]
}