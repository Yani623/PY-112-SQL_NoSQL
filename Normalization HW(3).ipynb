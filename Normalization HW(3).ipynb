{
 "cells": [
  {
   "source": [
    "<h1>Instructions</h1>\n",
    "Normalize the following block of data by copying the data below, except the triple quotes, <br>\n",
    "and placing the data in a file called employee_data.csv<br>\n",
    "1 - Import the file using core python<br>\n",
    "2 - Normalize the data and separate into component tables<br>\n",
    "3 - Use SQL to create the tables and populate them<br>\n",
    "4 - Answer the following questions using SQL<br>\n",
    "- Provide a count of the employees by gender<br>\n",
    "- Provide a count of the employees by dept name<br>\n",
    "- Provide a list of employees in last name, first name order<br>\n",
    "- Provide a list of employees in tenure order (active employees only) in descending order<br>\n",
    "- Provide a list of employees by manager name in alphabetical order by last name<br>\n",
    "- Provide a list of employees by region<br>\n",
    "- Provide a list of employees who have exceeded their allotment of sick days<br>"
   ],
   "cell_type": "code",
   "metadata": {},
   "execution_count": 37,
   "outputs": [
    {
     "output_type": "error",
     "ename": "SyntaxError",
     "evalue": "invalid syntax (<ipython-input-37-c18088b01a5b>, line 1)",
     "traceback": [
      "\u001b[0;36m  File \u001b[0;32m\"<ipython-input-37-c18088b01a5b>\"\u001b[0;36m, line \u001b[0;32m1\u001b[0m\n\u001b[0;31m    <h1>Instructions</h1>\u001b[0m\n\u001b[0m    ^\u001b[0m\n\u001b[0;31mSyntaxError\u001b[0m\u001b[0;31m:\u001b[0m invalid syntax\n"
     ]
    }
   ]
  },
  {
   "cell_type": "code",
   "execution_count": 64,
   "metadata": {},
   "outputs": [],
   "source": [
    "import sqlite3\n",
    "import csv\n",
    "\n",
    "conn = sqlite3.connect('Employees.db')\n",
    "c = conn.cursor()\n",
    "\n",
    "c.execute('Drop Table if Exists Employees')\n",
    "c.execute(\"\"\"Create Table If Not Exists Employees(\n",
    "    emp_id Integer,\n",
    "    marital_status Text,\n",
    "    last_name Text,\n",
    "    first_name Text,\n",
    "    hire_date Text,\n",
    "    gender Text,\n",
    "    dept_id Text,\n",
    "    dept_name Text,\n",
    "    manager_id Integer,\n",
    "    status Text,\n",
    "    ter_date Text,\n",
    "    region Text,\n",
    "    sick_days_accumulated Integer,\n",
    "    sick_day1 Text,\n",
    "    sick_day2 Text,\n",
    "    sick_day3 Text)\n",
    "    \"\"\")\n",
    "\n",
    "conn.commit()\n",
    "conn.close()\n",
    "\n"
   ]
  },
  {
   "cell_type": "code",
   "execution_count": 65,
   "metadata": {
    "tags": []
   },
   "outputs": [
    {
     "output_type": "stream",
     "name": "stdout",
     "text": [
      "[(1, 'Married', 'Ellis', 'Francis', '2005/02/12', 'Male', 'HR', 'Human Resources', 37, 'EXEMPT', '', 'NORTH EAST', 5, '', '', \"''\"), (2, 'Divorced', 'Jones', 'Pamala', '2003/03/10', 'Female', 'IT', 'Information Technology', 37, 'EXEMPT', '', 'NORTH EAST', 5, '', '', \"''\"), (3, 'Widowed', 'Davidson', 'Fred', '2003/01/11', 'Male', 'FIN', 'Finance', 37, 'EXEMPT', '', 'NORTH EAST', 5, '', '', \"''\"), (4, 'Single', 'Rivera', 'Jewels', '2013/10/02', 'Female', 'ACC', 'Accounting', 19, 'NON-EXEMPT', '', 'NORTH EAST', 5, '', '', \"''\"), (5, 'Single', 'Sing', 'Hu', '2019/12/30', 'Male', 'WHS', 'Warehouse', 30, 'NON-EXEMPT', '', 'NORTH EAST', 2, '2021/02/01', '2021/02/02', \"''\"), (6, 'Single', 'Ramos', 'Diego', '2015/06/16', 'Male', 'IT', 'Information Technology', 2, 'EXEMPT', '', 'NORTH EAST', 2, '', '', \"''\"), (7, 'Single', 'Sanchez', 'Jorge', '2015/08/02', 'Male', 'IT', 'Information Technology', 2, 'EXEMPT', '2020/03/12', 'NORTH EAST', 0, '', '', \"''\"), (8, 'Single', 'Yee', 'Sue', '2019/03/12', 'Female', 'HR', 'Human Resources', 1, 'NON-EXEMPT', '', 'NORTH EAST', 2, '', '', \"''\"), (9, 'Single', 'Williams', 'William', '2011/05/28', 'Male', 'FIN', 'Finance', 3, 'EXEMPT', '', 'SOUTH WEST', 5, '', '', \"''\"), (10, 'Married', 'Davis', 'Elizabeth', '2016/09/13', 'Female', 'FIN', 'Finance', 3, 'EXEMPT', '', 'SOUTH WEST', 5, '2021/01/02', '', \"''\"), (11, 'Married', 'Freach', 'Greta', '2009/05/03', 'Female', 'ACC', 'Accounting', 19, 'EXEMPT', '', 'SOUTH WEST', 5, '', '', \"''\"), (12, 'Married', 'Gantt', 'Jackson', '2015/06/12', 'Male', 'ACC', 'Accounting', 19, 'EXEMPT', '', 'SOUTH WEST', 5, '', '', \"''\"), (13, 'Married', 'Jarvis', 'Melvin', '2019/03/30', 'Male', 'FIN', 'Finance', 3, 'EXEMPT', '', 'SOUTH WEST', 5, '', '', \"''\"), (14, 'Married', 'Tate', 'Rachael', '2016/05/03', 'Female', 'HR', 'Human Resources', 1, 'EXEMPT', '', 'SOUTH WEST', 5, '', '', \"''\"), (15, 'Married', 'Sung', 'Henry', '2014/08/20', 'Male', 'IT', 'Information Technology', 2, 'EXEMPT', '', 'SOUTH WEST', 5, '2021/01/24', '2021/01/25', \"''\"), (16, 'Married', 'Davidson', 'Wilma', '2018/03/18', 'Female', 'ACC', 'Accounting', 37, 'EXEMPT', '', 'SOUTH WEST', 5, '', '', \"''\"), (17, 'Married', 'Williamson', 'Ursula', '2008/01/19', 'Female', 'HR', 'Human Resources', 1, 'NON-EXEMPT', '', 'WEST', 2, '', '', \"''\"), (18, 'Divorced', 'French', 'Sara', '2015/10/29', 'Female', 'HR', 'Human Resources', 1, 'NON-EXEMPT', '', 'WEST', 2, '', '', \"''\"), (19, 'Divorced', 'Xi', 'Yu', '2017/04/24', 'Female', 'ACC', 'Accounting', 37, 'EXEMPT', '', 'WEST', 5, '', '', \"''\"), (20, 'Divorced', 'Quinones', 'Maribel', '2015/05/25', 'Female', 'FIN', 'Finance', 3, 'EXEMPT', '', 'WEST', 5, '', '', \"''\"), (21, 'Single', 'Breen', 'Margret', '2018/03/01', 'Female', 'WHS', 'Warehouse', 30, 'EXEMPT', '', 'EAST', 5, '', '', \"''\"), (22, 'Single', 'Pollard', 'Franz', '2007/07/29', 'Male', 'IT', 'Information Technology', 2, 'EXEMPT', '', 'EAST', 5, '', '', \"''\"), (23, 'Single', 'Keller', 'Bradley', '2011/04/30', 'Male', 'IT', 'Information Technology', 2, 'EXEMPT', '', 'EAST', 5, '', '', \"''\"), (24, 'Single', 'Opus', 'Oliver', '2014/07/12', 'Male', 'WHS', 'Warehouse', 30, 'NON-EXEMPT', '', 'EAST', 2, '2021/01/12', '', \"''\"), (25, 'Single', 'Nulland', 'Nicholas', '2010/06/10', 'Male', 'FIN', 'Finance', 3, 'EXEMPT', '', 'EAST', 5, '', '', \"''\"), (26, 'Single', 'Lee', 'Tatum', '2016/11/15', 'Male', 'WHS', 'Warehouse', 30, 'NON-EXEMPT', '', 'NORTH WEST', 5, '', '', \"''\"), (27, 'Single', 'Saunders', 'Asia', '2016/02/18', 'Female', 'FIN', 'Finance', 3, 'EXEMPT', '', 'NORTH WEST', 5, '', '', \"''\"), (28, 'Single', 'Ute', 'Ulsula', '2008/03/11', 'Female', 'HR', 'Human Resources', 1, 'NON-EXEMPT', '', 'NORTH WEST', 2, '', '', \"''\"), (29, 'Single', 'Jackson', 'Jessica', '2018/06/02', 'Female', 'WHS', 'Warehouse', 30, 'NON-EXEMPT', '2020/04/21', 'NORTH WEST', 0, '', '', \"''\"), (30, 'Widowed', 'Forrest', 'Peter', '2010/04/03', 'Male', 'WHS', 'Warehouse', 37, 'NON-EXEMPT', '', 'SOUTH EAST', 5, '', '', \"''\"), (31, 'Widowed', 'Lagos', 'Leeland', '2017/03/30', 'Male', 'IT', 'Information Technology', 2, 'EXEMPT', '', 'SOUTH EAST', 2, '', '', \"''\"), (32, 'Widowed', 'Holland', 'Henry', '2011/04/02', 'Male', 'IT', 'Information Technology', 2, 'EXEMPT', '', 'SOUTH EAST', 5, '', '', \"''\"), (33, 'Married', 'Martinez', 'Margarita', '2017/05/26', 'Female', 'ACC', 'Accounting', 19, 'NON-EXEMPT', '', 'SOUTH EAST', 2, '2021/02/10', '2021/02/11', \"'2021/02/12\"), (34, 'Married', 'Jones', 'Jessica', '2013/03/19', 'Female', 'WHS', 'Warehouse', 30, 'NON-EXEMPT', '', 'SOUTH EAST', 2, '', '', \"''\"), (35, 'Married', 'Torrez', 'Lea', '2019/05/11', 'Female', 'IT', 'Information Technology', 2, 'EXEMPT', '', 'SOUTH EAST', 5, '', '', \"''\"), (36, 'Married', 'Regis', 'Lucy', '2014/06/20', 'Female', 'ACC', 'Accounting', 19, 'EXEMPT', '', 'SOUTH EAST', 14, '', '', \"''\"), (37, 'Married', 'Saulzman', 'Randle', '2001/03/20', 'Male', 'EX', 'Executive', 37, 'EXEMPT', '', 'EAST', 25, '', '', \"''\")]\n"
     ]
    }
   ],
   "source": [
    "import sqlite3\n",
    "import csv\n",
    "\n",
    "\n",
    "conn = sqlite3.connect('Employees.db')\n",
    "c = conn.cursor()\n",
    "\n",
    "with open('Employee_data.csv', 'r', newline = '') as data:\n",
    "    dataLi = csv.reader(data)\n",
    "    employee_list = []\n",
    "    for row in dataLi:\n",
    "        for x in range(len(row)-1):\n",
    "            row[x] = row[x].replace(\"'\",\"\")\n",
    "        row = tuple(row)\n",
    "        employee_list.append(row)\n",
    "    employee_list = employee_list[1:]\n",
    "    # print(employee_list)\n",
    "\n",
    "# length = len(employee_list[1]) # how many '?' to use in executemany\n",
    "# print(length)\n",
    "\n",
    "c.executemany('''Insert Into Employees Values(?,?,?,?,?,?,?,?,?,?,?,?,?,?,?,?)''', employee_list )\n",
    "c.execute('''Select * from Employees''')\n",
    "print(c.fetchall())\n",
    "\n",
    "\n",
    "conn.commit()\n",
    "conn.close()"
   ]
  },
  {
   "cell_type": "code",
   "execution_count": 33,
   "metadata": {},
   "outputs": [
    {
     "output_type": "stream",
     "name": "stdout",
     "text": [
      "(76,)\n==============================\n"
     ]
    }
   ],
   "source": [
    "import sqlite3\n",
    "\n",
    "conn = sqlite3.connect('Employees.db')\n",
    "c = conn.cursor()\n",
    "\n",
    "#Provide a count of the employees by gender\n",
    "c.execute('SELECT Count(*) FROM Employees Where gender = \"Female\"')  # Counts all values in the table based on the expression\n",
    "females = c.fetchall()\n",
    "#\n",
    "for num in females:\n",
    "    print(num)\n",
    "    print('='*30)\n",
    "\n",
    "\n",
    "\n",
    "# conn.commit()\n",
    "conn.close()"
   ]
  },
  {
   "cell_type": "code",
   "execution_count": 69,
   "metadata": {},
   "outputs": [
    {
     "output_type": "stream",
     "name": "stdout",
     "text": [
      "(7,)\n==============================\n"
     ]
    }
   ],
   "source": [
    "import sqlite3\n",
    "\n",
    "conn = sqlite3.connect('Employees.db')\n",
    "c = conn.cursor()\n",
    "\n",
    "#Provide a count of the employees by dept name\n",
    "c.execute('SELECT count() FROM Employees where dept_name = \"Finance\"')  # Counts all values in the table based on the expression\n",
    "finance = c.fetchall()\n",
    "#\n",
    "for num in finance:\n",
    "    print(num)\n",
    "    print('='*30)\n",
    "\n",
    "# conn.commit()\n",
    "conn.close()"
   ]
  },
  {
   "cell_type": "code",
   "execution_count": 66,
   "metadata": {},
   "outputs": [
    {
     "output_type": "stream",
     "name": "stdout",
     "text": [
      "[('Breen', 'Margret'), ('Davidson', 'Fred'), ('Davidson', 'Wilma'), ('Davis', 'Elizabeth'), ('Ellis', 'Francis'), ('Forrest', 'Peter'), ('Freach', 'Greta'), ('French', 'Sara'), ('Gantt', 'Jackson'), ('Holland', 'Henry'), ('Jackson', 'Jessica'), ('Jarvis', 'Melvin'), ('Jones', 'Pamala'), ('Jones', 'Jessica'), ('Keller', 'Bradley'), ('Lagos', 'Leeland'), ('Lee', 'Tatum'), ('Martinez', 'Margarita'), ('Nulland', 'Nicholas'), ('Opus', 'Oliver'), ('Pollard', 'Franz'), ('Quinones', 'Maribel'), ('Ramos', 'Diego'), ('Regis', 'Lucy'), ('Rivera', 'Jewels'), ('Sanchez', 'Jorge'), ('Saulzman', 'Randle'), ('Saunders', 'Asia'), ('Sing', 'Hu'), ('Sung', 'Henry'), ('Tate', 'Rachael'), ('Torrez', 'Lea'), ('Ute', 'Ulsula'), ('Williams', 'William'), ('Williamson', 'Ursula'), ('Xi', 'Yu'), ('Yee', 'Sue')]\n"
     ]
    }
   ],
   "source": [
    "import sqlite3\n",
    "\n",
    "conn = sqlite3.connect('Employees.db')\n",
    "c = conn.cursor()\n",
    "\n",
    "#Provide a list of employees in last name, first name order\n",
    "c.execute(\"Select last_name, first_name From Employees Order By last_name\")\n",
    "print(c.fetchall())\n",
    "\n",
    "# conn.commit()\n",
    "conn.close()"
   ]
  },
  {
   "cell_type": "code",
   "execution_count": 54,
   "metadata": {},
   "outputs": [
    {
     "output_type": "stream",
     "name": "stdout",
     "text": [
      "[(5, 'Single', 'Sing', 'Hu', '2019/12/30', 'Male', 'WHS', 'Warehouse', 30, 'NON-EXEMPT', '', 'NORTH EAST', 2, '2021/02/01', '2021/02/02', \"''\"), (35, 'Married', 'Torrez', 'Lea', '2019/05/11', 'Female', 'IT', 'Information Technology', 2, 'EXEMPT', '', 'SOUTH EAST', 5, '', '', \"''\"), (13, 'Married', 'Jarvis', 'Melvin', '2019/03/30', 'Male', 'FIN', 'Finance', 3, 'EXEMPT', '', 'SOUTH WEST', 5, '', '', \"''\"), (8, 'Single', 'Yee', 'Sue', '2019/03/12', 'Female', 'HR', 'Human Resources', 1, 'NON-EXEMPT', '', 'NORTH EAST', 2, '', '', \"''\"), (29, 'Single', 'Jackson', 'Jessica', '2018/06/02', 'Female', 'WHS', 'Warehouse', 30, 'NON-EXEMPT', '2020/04/21', 'NORTH WEST', 0, '', '', \"''\"), (16, 'Married', 'Davidson', 'Wilma', '2018/03/18', 'Female', 'ACC', 'Accounting', 37, 'EXEMPT', '', 'SOUTH WEST', 5, '', '', \"''\"), (21, 'Single', 'Breen', 'Margret', '2018/03/01', 'Female', 'WHS', 'Warehouse', 30, 'EXEMPT', '', 'EAST', 5, '', '', \"''\"), (33, 'Married', 'Martinez', 'Margarita', '2017/05/26', 'Female', 'ACC', 'Accounting', 19, 'NON-EXEMPT', '', 'SOUTH EAST', 2, '2021/02/10', '2021/02/11', \"'2021/02/12\"), (19, 'Divorced', 'Xi', 'Yu', '2017/04/24', 'Female', 'ACC', 'Accounting', 37, 'EXEMPT', '', 'WEST', 5, '', '', \"''\"), (31, 'Widowed', 'Lagos', 'Leeland', '2017/03/30', 'Male', 'IT', 'Information Technology', 2, 'EXEMPT', '', 'SOUTH EAST', 2, '', '', \"''\"), (26, 'Single', 'Lee', 'Tatum', '2016/11/15', 'Male', 'WHS', 'Warehouse', 30, 'NON-EXEMPT', '', 'NORTH WEST', 5, '', '', \"''\"), (10, 'Married', 'Davis', 'Elizabeth', '2016/09/13', 'Female', 'FIN', 'Finance', 3, 'EXEMPT', '', 'SOUTH WEST', 5, '2021/01/02', '', \"''\"), (14, 'Married', 'Tate', 'Rachael', '2016/05/03', 'Female', 'HR', 'Human Resources', 1, 'EXEMPT', '', 'SOUTH WEST', 5, '', '', \"''\"), (27, 'Single', 'Saunders', 'Asia', '2016/02/18', 'Female', 'FIN', 'Finance', 3, 'EXEMPT', '', 'NORTH WEST', 5, '', '', \"''\"), (18, 'Divorced', 'French', 'Sara', '2015/10/29', 'Female', 'HR', 'Human Resources', 1, 'NON-EXEMPT', '', 'WEST', 2, '', '', \"''\"), (7, 'Single', 'Sanchez', 'Jorge', '2015/08/02', 'Male', 'IT', 'Information Technology', 2, 'EXEMPT', '2020/03/12', 'NORTH EAST', 0, '', '', \"''\"), (6, 'Single', 'Ramos', 'Diego', '2015/06/16', 'Male', 'IT', 'Information Technology', 2, 'EXEMPT', '', 'NORTH EAST', 2, '', '', \"''\"), (12, 'Married', 'Gantt', 'Jackson', '2015/06/12', 'Male', 'ACC', 'Accounting', 19, 'EXEMPT', '', 'SOUTH WEST', 5, '', '', \"''\"), (20, 'Divorced', 'Quinones', 'Maribel', '2015/05/25', 'Female', 'FIN', 'Finance', 3, 'EXEMPT', '', 'WEST', 5, '', '', \"''\"), (15, 'Married', 'Sung', 'Henry', '2014/08/20', 'Male', 'IT', 'Information Technology', 2, 'EXEMPT', '', 'SOUTH WEST', 5, '2021/01/24', '2021/01/25', \"''\"), (24, 'Single', 'Opus', 'Oliver', '2014/07/12', 'Male', 'WHS', 'Warehouse', 30, 'NON-EXEMPT', '', 'EAST', 2, '2021/01/12', '', \"''\"), (36, 'Married', 'Regis', 'Lucy', '2014/06/20', 'Female', 'ACC', 'Accounting', 19, 'EXEMPT', '', 'SOUTH EAST', 14, '', '', \"''\"), (4, 'Single', 'Rivera', 'Jewels', '2013/10/02', 'Female', 'ACC', 'Accounting', 19, 'NON-EXEMPT', '', 'NORTH EAST', 5, '', '', \"''\"), (34, 'Married', 'Jones', 'Jessica', '2013/03/19', 'Female', 'WHS', 'Warehouse', 30, 'NON-EXEMPT', '', 'SOUTH EAST', 2, '', '', \"''\"), (9, 'Single', 'Williams', 'William', '2011/05/28', 'Male', 'FIN', 'Finance', 3, 'EXEMPT', '', 'SOUTH WEST', 5, '', '', \"''\"), (23, 'Single', 'Keller', 'Bradley', '2011/04/30', 'Male', 'IT', 'Information Technology', 2, 'EXEMPT', '', 'EAST', 5, '', '', \"''\"), (32, 'Widowed', 'Holland', 'Henry', '2011/04/02', 'Male', 'IT', 'Information Technology', 2, 'EXEMPT', '', 'SOUTH EAST', 5, '', '', \"''\"), (25, 'Single', 'Nulland', 'Nicholas', '2010/06/10', 'Male', 'FIN', 'Finance', 3, 'EXEMPT', '', 'EAST', 5, '', '', \"''\"), (30, 'Widowed', 'Forrest', 'Peter', '2010/04/03', 'Male', 'WHS', 'Warehouse', 37, 'NON-EXEMPT', '', 'SOUTH EAST', 5, '', '', \"''\"), (11, 'Married', 'Freach', 'Greta', '2009/05/03', 'Female', 'ACC', 'Accounting', 19, 'EXEMPT', '', 'SOUTH WEST', 5, '', '', \"''\"), (28, 'Single', 'Ute', 'Ulsula', '2008/03/11', 'Female', 'HR', 'Human Resources', 1, 'NON-EXEMPT', '', 'NORTH WEST', 2, '', '', \"''\"), (17, 'Married', 'Williamson', 'Ursula', '2008/01/19', 'Female', 'HR', 'Human Resources', 1, 'NON-EXEMPT', '', 'WEST', 2, '', '', \"''\"), (22, 'Single', 'Pollard', 'Franz', '2007/07/29', 'Male', 'IT', 'Information Technology', 2, 'EXEMPT', '', 'EAST', 5, '', '', \"''\"), (1, 'Married', 'Ellis', 'Francis', '2005/02/12', 'Male', 'HR', 'Human Resources', 37, 'EXEMPT', '', 'NORTH EAST', 5, '', '', \"''\"), (2, 'Divorced', 'Jones', 'Pamala', '2003/03/10', 'Female', 'IT', 'Information Technology', 37, 'EXEMPT', '', 'NORTH EAST', 5, '', '', \"''\"), (3, 'Widowed', 'Davidson', 'Fred', '2003/01/11', 'Male', 'FIN', 'Finance', 37, 'EXEMPT', '', 'NORTH EAST', 5, '', '', \"''\"), (37, 'Married', 'Saulzman', 'Randle', '2001/03/20', 'Male', 'EX', 'Executive', 37, 'EXEMPT', '', 'EAST', 25, '', '', \"''\")]\n"
     ]
    }
   ],
   "source": [
    "import sqlite3\n",
    "\n",
    "conn = sqlite3.connect('Employees.db')\n",
    "c = conn.cursor()\n",
    "\n",
    "#Provide a list of employees in tenure order (active employees only) in descending order\n",
    "c.execute('''Select * From Employees Order By hire_date DESC''')\n",
    "print(c.fetchall())\n",
    "\n",
    "# conn.commit()\n",
    "conn.close()\n",
    "\n",
    "\n"
   ]
  },
  {
   "cell_type": "code",
   "execution_count": 72,
   "metadata": {},
   "outputs": [
    {
     "output_type": "stream",
     "name": "stdout",
     "text": [
      "[('Davidson', 'Fred'), ('Davidson', 'Wilma'), ('Ellis', 'Francis'), ('Forrest', 'Peter'), ('Jones', 'Pamala'), ('Saulzman', 'Randle'), ('Xi', 'Yu')]\n"
     ]
    }
   ],
   "source": [
    "import sqlite3\n",
    "\n",
    "conn = sqlite3.connect('Employees.db')\n",
    "c = conn.cursor()\n",
    "\n",
    "# Provide a list of employees by manager name in alphabetical order by last name\n",
    "c.execute('''Select last_name, first_name From Employees where manager_id = '037' Order By last_name''')\n",
    "\n",
    "print(c.fetchall())\n",
    "\n",
    "# conn.commit()\n",
    "conn.close()"
   ]
  },
  {
   "cell_type": "code",
   "execution_count": 59,
   "metadata": {},
   "outputs": [
    {
     "output_type": "stream",
     "name": "stdout",
     "text": [
      "[(1, 'Married', 'Ellis', 'Francis', '2005/02/12', 'Male', 'HR', 'Human Resources', 37, 'EXEMPT', '', 'NORTH EAST', 5, '', '', \"''\"), (2, 'Divorced', 'Jones', 'Pamala', '2003/03/10', 'Female', 'IT', 'Information Technology', 37, 'EXEMPT', '', 'NORTH EAST', 5, '', '', \"''\"), (3, 'Widowed', 'Davidson', 'Fred', '2003/01/11', 'Male', 'FIN', 'Finance', 37, 'EXEMPT', '', 'NORTH EAST', 5, '', '', \"''\"), (4, 'Single', 'Rivera', 'Jewels', '2013/10/02', 'Female', 'ACC', 'Accounting', 19, 'NON-EXEMPT', '', 'NORTH EAST', 5, '', '', \"''\"), (5, 'Single', 'Sing', 'Hu', '2019/12/30', 'Male', 'WHS', 'Warehouse', 30, 'NON-EXEMPT', '', 'NORTH EAST', 2, '2021/02/01', '2021/02/02', \"''\"), (6, 'Single', 'Ramos', 'Diego', '2015/06/16', 'Male', 'IT', 'Information Technology', 2, 'EXEMPT', '', 'NORTH EAST', 2, '', '', \"''\"), (7, 'Single', 'Sanchez', 'Jorge', '2015/08/02', 'Male', 'IT', 'Information Technology', 2, 'EXEMPT', '2020/03/12', 'NORTH EAST', 0, '', '', \"''\"), (8, 'Single', 'Yee', 'Sue', '2019/03/12', 'Female', 'HR', 'Human Resources', 1, 'NON-EXEMPT', '', 'NORTH EAST', 2, '', '', \"''\")]\n"
     ]
    }
   ],
   "source": [
    "import sqlite3\n",
    "\n",
    "conn = sqlite3.connect('Employees.db')\n",
    "c = conn.cursor()\n",
    "\n",
    "# Provide a list of employees by region\n",
    "c.execute('''Select * From Employees where region = \"NORTH EAST\"''')\n",
    "\n",
    "\n",
    "print(c.fetchall())\n",
    "\n",
    "# conn.commit()\n",
    "conn.close()"
   ]
  },
  {
   "cell_type": "code",
   "execution_count": 60,
   "metadata": {},
   "outputs": [
    {
     "output_type": "stream",
     "name": "stdout",
     "text": [
      "[(7, 'Single', 'Sanchez', 'Jorge', '2015/08/02', 'Male', 'IT', 'Information Technology', 2, 'EXEMPT', '2020/03/12', 'NORTH EAST', 0, '', '', \"''\"), (29, 'Single', 'Jackson', 'Jessica', '2018/06/02', 'Female', 'WHS', 'Warehouse', 30, 'NON-EXEMPT', '2020/04/21', 'NORTH WEST', 0, '', '', \"''\")]\n"
     ]
    }
   ],
   "source": [
    "import sqlite3\n",
    "\n",
    "conn = sqlite3.connect('Employees.db')\n",
    "c = conn.cursor()\n",
    "\n",
    "# Provide a list of employees who have exceeded their allotment of sick days\n",
    "c.execute('''Select * From Employees Where sick_days_accumulated = \"0\"''')\n",
    "print(c.fetchall())\n",
    "\n",
    "# conn.commit()\n",
    "conn.close()"
   ]
  },
  {
   "cell_type": "code",
   "execution_count": null,
   "metadata": {},
   "outputs": [],
   "source": []
  }
 ],
 "metadata": {
  "kernelspec": {
   "name": "python3",
   "display_name": "Python 3.8.2 64-bit ('usr')"
  },
  "language_info": {
   "codemirror_mode": {
    "name": "ipython",
    "version": 3
   },
   "file_extension": ".py",
   "mimetype": "text/x-python",
   "name": "python",
   "nbconvert_exporter": "python",
   "pygments_lexer": "ipython3",
   "version": "3.8.2"
  },
  "interpreter": {
   "hash": "5edc29c2ed010d6458d71a83433b383a96a8cbd3efe8531bc90c4b8a5b8bcec9"
  }
 },
 "nbformat": 4,
 "nbformat_minor": 4
}