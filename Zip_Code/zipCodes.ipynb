{
 "metadata": {
  "language_info": {
   "codemirror_mode": {
    "name": "ipython",
    "version": 3
   },
   "file_extension": ".py",
   "mimetype": "text/x-python",
   "name": "python",
   "nbconvert_exporter": "python",
   "pygments_lexer": "ipython3",
   "version": "3.8.2"
  },
  "orig_nbformat": 4,
  "kernelspec": {
   "name": "python3",
   "display_name": "Python 3.8.2 64-bit ('usr')"
  },
  "interpreter": {
   "hash": "5edc29c2ed010d6458d71a83433b383a96a8cbd3efe8531bc90c4b8a5b8bcec9"
  }
 },
 "nbformat": 4,
 "nbformat_minor": 2,
 "cells": [
  {
   "cell_type": "code",
   "execution_count": 1,
   "metadata": {},
   "outputs": [
    {
     "output_type": "execute_result",
     "data": {
      "text/plain": [
       "'Given zipcode_data.txt , get all the zipcodes out of the file and find the most common digit for all the zipcodes ( the most common digit is going to be a number 0 - 9. )\\n1) Print the the frequency of each digit\\n - use mysql connector to create a table from the data called ‘zipcodes’ with all the zipcodes\\n - use mysql connector to create a second table from the data called ‘frequency’ with the frequency of each digits\\njoin these tables on id'"
      ]
     },
     "metadata": {},
     "execution_count": 1
    }
   ],
   "source": [
    "'''Given zipcode_data.txt , get all the zipcodes out of the file and find the most common digit for all the zipcodes ( the most common digit is going to be a number 0 - 9. )\n",
    "1) Print the frequency of each digit\n",
    " - use mysql connector to create a table from the data called ‘zipcodes’ with all the zipcodes\n",
    " - use mysql connector to create a second table from the data called ‘frequency’ with the frequency of each digits\n",
    "join these tables on id'''\n"
   ]
  },
  {
   "cell_type": "code",
   "execution_count": 2,
   "metadata": {},
   "outputs": [
    {
     "output_type": "stream",
     "name": "stdout",
     "text": [
      "odict_values(['localhost', 'root', 'Rdekr719', 'ZipCodes'])\n('Chinook',)\n('information_schema',)\n('mysql',)\n('performance_schema',)\n('pets',)\n('sys',)\n('zipcodes',)\n"
     ]
    }
   ],
   "source": [
    "import mysql.connector\n",
    "from dotenv import dotenv_values\n",
    "\n",
    "config = dotenv_values(\".env\") \n",
    "# print(config.values())\n",
    "mydb = mysql.connector.connect(\n",
    "  host=config['HOST'],\n",
    "  user=config['USER'],\n",
    "  password=config['PASSWORD'],\n",
    "  database=config['DATABASE'])\n",
    "\n",
    "mycursor = mydb.cursor()\n",
    "\n",
    "mycursor.execute(\"Show Databases\")\n",
    "\n",
    "for x in mycursor:\n",
    "  print(x)\n",
    "mydb.close()"
   ]
  },
  {
   "cell_type": "code",
   "execution_count": 6,
   "metadata": {},
   "outputs": [
    {
     "output_type": "error",
     "ename": "IndentationError",
     "evalue": "unindent does not match any outer indentation level (<tokenize>, line 19)",
     "traceback": [
      "\u001b[0;36m  File \u001b[0;32m\"<tokenize>\"\u001b[0;36m, line \u001b[0;32m19\u001b[0m\n\u001b[0;31m    if len(line) < 5:\u001b[0m\n\u001b[0m    ^\u001b[0m\n\u001b[0;31mIndentationError\u001b[0m\u001b[0;31m:\u001b[0m unindent does not match any outer indentation level\n"
     ]
    }
   ],
   "source": [
    "'''Format Data to input to table'''\n",
    "\n",
    "filePath = r'/Users/yani/Desktop/PY-112-MySQL/Zip_Code/zipcode_data.txt'\n",
    "zipList = []\n",
    "with open(filePath,'r') as zips:\n",
    "    for line in zips:\n",
    "        line = line.strip('\\n')\n",
    "        if line.isnumeric():\n",
    "            line = tuple(line)\n",
    "            print(line)\n",
    "            print(len(line))\n",
    "                \n",
    "\n",
    "\n",
    "print(zipList)\n",
    "    if len(line) == 5:\n",
    "      line = (line,)\n",
    "      zipList.append(line)\n",
    "            if len(line) < 5:\n",
    "'''Create Table'''\n",
    "import mysql.connector\n",
    "from dotenv import dotenv_values\n",
    "\n",
    "config = dotenv_values(\".env\") \n",
    "\n",
    "mydb = mysql.connector.connect(\n",
    "  host=config['HOST'],\n",
    "  user=config['USER'],\n",
    "  password=config['PASSWORD'],\n",
    "  database=config['DATABASE'])\n",
    "\n",
    "mycursor = mydb.cursor()\n",
    "\n",
    "mycursor.execute('''Drop Table If Exists ZipCodes;''' )\n",
    "mycursor.execute(\"\"\"Create Table If Not Exists ZipCodes\n",
    "(zipcode    int);\"\"\")\n",
    "\n",
    "mycursor.executemany('''INSERT INTO ZipCodes(zipcode) VALUES (%s)''', zipList)\n",
    "mycursor.execute('''Select * From ZipCodes;''')\n",
    "for x in mycursor:\n",
    "  print(x)\n",
    "mydb.close()"
   ]
  },
  {
   "cell_type": "code",
   "execution_count": 12,
   "metadata": {},
   "outputs": [],
   "source": [
    "\n",
    "\n",
    "\n",
    "\n",
    "\n",
    "\n",
    "\n",
    "\n",
    "\n",
    "\n"
   ]
  },
  {
   "cell_type": "code",
   "execution_count": null,
   "metadata": {},
   "outputs": [],
   "source": []
  },
  {
   "cell_type": "code",
   "execution_count": null,
   "metadata": {},
   "outputs": [],
   "source": []
  },
  {
   "cell_type": "code",
   "execution_count": null,
   "metadata": {},
   "outputs": [],
   "source": []
  }
 ]
}