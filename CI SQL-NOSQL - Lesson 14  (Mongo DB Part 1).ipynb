{
 "cells": [
  {
   "cell_type": "markdown",
   "id": "1922b852",
   "metadata": {},
   "source": [
    "## Mongo DB Tutorial "
   ]
  },
  {
   "cell_type": "markdown",
   "id": "0d111ff0",
   "metadata": {},
   "source": [
    "### Starting/stopping the mongodb server \n",
    "```\n",
    "brew services start mongodb-community@4.4\n",
    "brew services stop mongodb-community@4.4\n",
    "\n",
    "```\n"
   ]
  },
  {
   "cell_type": "markdown",
   "id": "f68425cc",
   "metadata": {},
   "source": [
    "### Creating and Connecting to a test database\n",
    "<em> Like SQlite MongoDB creates databases and collections automatically for you if they don't exist already. </em>"
   ]
  },
  {
   "cell_type": "code",
   "execution_count": 1,
   "id": "8bf0aed2",
   "metadata": {},
   "outputs": [
    {
     "output_type": "stream",
     "name": "stdout",
     "text": [
      "admin\nconfig\nlocal\nDatabase(MongoClient(host=['localhost:27017'], document_class=dict, tz_aware=False, connect=True), 'test_database')\n"
     ]
    }
   ],
   "source": [
    "from pymongo import MongoClient\n",
    "from pprint import pprint\n",
    "client = MongoClient()\n",
    "#pprint(dir(client))\n",
    "\n",
    "#check what kind of databases there are \n",
    "for db_name in client.list_database_names():\n",
    "    print(db_name)\n",
    "    \n",
    "db = client.test_database #alternately db = client['test-database']\n",
    "print(db)"
   ]
  },
  {
   "cell_type": "markdown",
   "id": "590e2067",
   "metadata": {},
   "source": [
    "### Creating a Collections/Documents \n",
    "\n",
    "<em> A collection is a group of documents stored in MongoDB, and can be thought of as roughly the equivalent of a table in a relational database. </em>\n",
    "\n",
    "<em> Data in MongoDB is represented (and stored) using JSON-style documents. In PyMongo we use dictionaries to represent documents.  </em>"
   ]
  },
  {
   "cell_type": "code",
   "execution_count": 15,
   "id": "a944378e",
   "metadata": {},
   "outputs": [
    {
     "output_type": "stream",
     "name": "stdout",
     "text": [
      "60ef016d98b2b7e5eb6e1dad\nCollection(Database(MongoClient(host=['localhost:27017'], document_class=dict, tz_aware=False, connect=True), 'test_database'), 'posts')\n['posts', 'profiles']\n<pymongo.results.InsertManyResult object at 0x1169b3040>\n"
     ]
    }
   ],
   "source": [
    "import datetime\n",
    "collection = db.test_collection\n",
    "\n",
    "your_name = \"Dominic\" #input(\"Enter your name: \")\n",
    "\n",
    "post = {\n",
    "    \"author\": your_name,\n",
    "    \"text\": \"My first blog post!\",\n",
    "    \"tags\": [\"mongodb\", \"python\", \"pymongo\"],\n",
    "    \"date\": datetime.datetime.utcnow()\n",
    "}\n",
    "\n",
    "posts = db.posts\n",
    "post_id = posts.insert_one(post).inserted_id\n",
    "print(post_id)\n",
    "pprint(posts)\n",
    "\n",
    "print(db.list_collection_names())\n",
    "\n",
    "user_profiles = [\n",
    "    {'user_id': 211, 'name': 'Luke'},\n",
    "    {'user_id': 212, 'name': 'Ziltoid'}]\n",
    "result = db.profiles.insert_many(user_profiles)\n",
    "print(result)\n"
   ]
  },
  {
   "cell_type": "markdown",
   "id": "2b321384",
   "metadata": {},
   "source": [
    "### Retrieving Documents \n",
    "\n",
    "<em> A collection is a group of documents stored in MongoDB, and can be thought of as roughly the equivalent of a table in a relational database. </em>\n",
    "\n",
    "\n"
   ]
  },
  {
   "cell_type": "code",
   "execution_count": 10,
   "id": "d619db8c",
   "metadata": {},
   "outputs": [
    {
     "output_type": "stream",
     "name": "stdout",
     "text": [
      "<pymongo.results.InsertManyResult object at 0x116e1e6c0>\n"
     ]
    }
   ],
   "source": [
    "\n",
    "posts.find_one()\n",
    "posts.find_one({\"author\": \"Mike\"})\n",
    "\n",
    "\n",
    "new_posts = [{\"author\": \"Mike\",\n",
    "\"text\": \"Another post!\",\n",
    "\"tags\": [\"bulk\", \"insert\"],\n",
    "\"date\": datetime.datetime(2009, 11, 12, 11, 14)},\n",
    "{\"author\": \"Eliot\",\n",
    "\"title\": \"MongoDB is fun\",\n",
    "\"text\": \"and pretty easy too!\",\n",
    "\"date\": datetime.datetime(2009, 11, 10, 10, 45)}]\n",
    "result = posts.insert_many(new_posts)\n",
    "result.inserted_ids\n",
    "pprint(result)\n",
    "\n",
    "\n",
    "#you can use .explain(\"executionStats\") on any find to understand how to fast the find is executing"
   ]
  },
  {
   "cell_type": "markdown",
   "id": "64c37866",
   "metadata": {},
   "source": [
    "## Advanced queries"
   ]
  },
  {
   "cell_type": "code",
   "execution_count": 20,
   "id": "2c09a9b5",
   "metadata": {},
   "outputs": [
    {
     "name": "stdout",
     "output_type": "stream",
     "text": [
      "{'_id': ObjectId('60ed9dffb1c44a3b45fdb3b9'),\n",
      " 'author': 'Eliot',\n",
      " 'date': datetime.datetime(2009, 11, 10, 10, 45),\n",
      " 'text': 'and pretty easy too!',\n",
      " 'title': 'MongoDB is fun'}\n",
      "{'_id': ObjectId('60ed9e0bb1c44a3b45fdb3bb'),\n",
      " 'author': 'Eliot',\n",
      " 'date': datetime.datetime(2009, 11, 10, 10, 45),\n",
      " 'text': 'and pretty easy too!',\n",
      " 'title': 'MongoDB is fun'}\n",
      "{'_id': ObjectId('60ed9faeb1c44a3b45fdb3c1'),\n",
      " 'author': 'Eliot',\n",
      " 'date': datetime.datetime(2009, 11, 10, 10, 45),\n",
      " 'text': 'and pretty easy too!',\n",
      " 'title': 'MongoDB is fun'}\n",
      "{'_id': ObjectId('60eda1dfb1c44a3b45fdb3c9'),\n",
      " 'author': 'Eliot',\n",
      " 'date': datetime.datetime(2009, 11, 10, 10, 45),\n",
      " 'text': 'and pretty easy too!',\n",
      " 'title': 'MongoDB is fun'}\n",
      "{'_id': ObjectId('60ed9dffb1c44a3b45fdb3b8'),\n",
      " 'author': 'Mike',\n",
      " 'date': datetime.datetime(2009, 11, 12, 11, 14),\n",
      " 'tags': ['bulk', 'insert'],\n",
      " 'text': 'Another post!'}\n",
      "{'_id': ObjectId('60ed9e0bb1c44a3b45fdb3ba'),\n",
      " 'author': 'Mike',\n",
      " 'date': datetime.datetime(2009, 11, 12, 11, 14),\n",
      " 'tags': ['bulk', 'insert'],\n",
      " 'text': 'Another post!'}\n",
      "{'_id': ObjectId('60ed9faeb1c44a3b45fdb3c0'),\n",
      " 'author': 'Mike',\n",
      " 'date': datetime.datetime(2009, 11, 12, 11, 14),\n",
      " 'tags': ['bulk', 'insert'],\n",
      " 'text': 'Another post!'}\n",
      "{'_id': ObjectId('60eda1dfb1c44a3b45fdb3c8'),\n",
      " 'author': 'Mike',\n",
      " 'date': datetime.datetime(2009, 11, 12, 11, 14),\n",
      " 'tags': ['bulk', 'insert'],\n",
      " 'text': 'Another post!'}\n",
      "{'_id': ObjectId('60ecd6b3f12714b6a8db4c94'),\n",
      " 'author': 'Mike',\n",
      " 'date': datetime.datetime(2021, 7, 12, 23, 55, 54, 756000),\n",
      " 'tags': ['mongodb', 'python', 'pymongo'],\n",
      " 'text': 'My first blog post!'}\n",
      "{'_id': ObjectId('60ece239ea5f6353802db409'),\n",
      " 'author': 'Dominic',\n",
      " 'date': datetime.datetime(2021, 7, 13, 0, 45, 45, 966000),\n",
      " 'tags': ['mongodb', 'python', 'pymongo'],\n",
      " 'text': 'My first blog post!'}\n",
      "{'_id': ObjectId('60ece24aea5f6353802db40c'),\n",
      " 'author': 'Dominic',\n",
      " 'date': datetime.datetime(2021, 7, 13, 0, 46, 2, 793000),\n",
      " 'tags': ['mongodb', 'python', 'pymongo'],\n",
      " 'text': 'My first blog post!'}\n",
      "{'_id': ObjectId('60ece2d4ea5f6353802db40f'),\n",
      " 'author': 'Dominic',\n",
      " 'date': datetime.datetime(2021, 7, 13, 0, 48, 20, 222000),\n",
      " 'tags': ['mongodb', 'python', 'pymongo'],\n",
      " 'text': 'My first blog post!'}\n",
      "{'_id': ObjectId('60ed9b98b1c44a3b45fdb3aa'),\n",
      " 'author': 'Dominic',\n",
      " 'date': datetime.datetime(2021, 7, 13, 13, 56, 40, 141000),\n",
      " 'tags': ['mongodb', 'python', 'pymongo'],\n",
      " 'text': 'My first blog post!'}\n",
      "{'_id': ObjectId('60ed9cf6b1c44a3b45fdb3ae'),\n",
      " 'author': 'Dominic',\n",
      " 'date': datetime.datetime(2021, 7, 13, 14, 2, 30, 216000),\n",
      " 'tags': ['mongodb', 'python', 'pymongo'],\n",
      " 'text': 'My first blog post!'}\n",
      "{'_id': ObjectId('60ed9d8ab1c44a3b45fdb3b1'),\n",
      " 'author': 'Dominic',\n",
      " 'date': datetime.datetime(2021, 7, 13, 14, 4, 58, 463000),\n",
      " 'tags': ['mongodb', 'python', 'pymongo'],\n",
      " 'text': 'My first blog post!'}\n",
      "{'_id': ObjectId('60ed9dfcb1c44a3b45fdb3b5'),\n",
      " 'author': 'Dominic',\n",
      " 'date': datetime.datetime(2021, 7, 13, 14, 6, 52, 960000),\n",
      " 'tags': ['mongodb', 'python', 'pymongo'],\n",
      " 'text': 'My first blog post!'}\n",
      "{'_id': ObjectId('60ed9dffb1c44a3b45fdb3b8'),\n",
      " 'author': 'Mike',\n",
      " 'date': datetime.datetime(2009, 11, 12, 11, 14),\n",
      " 'tags': ['bulk', 'insert'],\n",
      " 'text': 'Another post!'}\n",
      "{'_id': ObjectId('60ed9dffb1c44a3b45fdb3b9'),\n",
      " 'author': 'Eliot',\n",
      " 'date': datetime.datetime(2009, 11, 10, 10, 45),\n",
      " 'text': 'and pretty easy too!',\n",
      " 'title': 'MongoDB is fun'}\n",
      "{'_id': ObjectId('60ed9e0bb1c44a3b45fdb3ba'),\n",
      " 'author': 'Mike',\n",
      " 'date': datetime.datetime(2009, 11, 12, 11, 14),\n",
      " 'tags': ['bulk', 'insert'],\n",
      " 'text': 'Another post!'}\n",
      "{'_id': ObjectId('60ed9e0bb1c44a3b45fdb3bb'),\n",
      " 'author': 'Eliot',\n",
      " 'date': datetime.datetime(2009, 11, 10, 10, 45),\n",
      " 'text': 'and pretty easy too!',\n",
      " 'title': 'MongoDB is fun'}\n",
      "{'_id': ObjectId('60ed9fa9b1c44a3b45fdb3bd'),\n",
      " 'author': 'Dominic',\n",
      " 'date': datetime.datetime(2021, 7, 13, 14, 14, 1, 927000),\n",
      " 'tags': ['mongodb', 'python', 'pymongo'],\n",
      " 'text': 'My first blog post!'}\n",
      "{'_id': ObjectId('60ed9faeb1c44a3b45fdb3c0'),\n",
      " 'author': 'Mike',\n",
      " 'date': datetime.datetime(2009, 11, 12, 11, 14),\n",
      " 'tags': ['bulk', 'insert'],\n",
      " 'text': 'Another post!'}\n",
      "{'_id': ObjectId('60ed9faeb1c44a3b45fdb3c1'),\n",
      " 'author': 'Eliot',\n",
      " 'date': datetime.datetime(2009, 11, 10, 10, 45),\n",
      " 'text': 'and pretty easy too!',\n",
      " 'title': 'MongoDB is fun'}\n",
      "{'_id': ObjectId('60eda10bb1c44a3b45fdb3c2'),\n",
      " 'author': 'Dominic',\n",
      " 'date': datetime.datetime(2021, 7, 13, 14, 19, 55, 368000),\n",
      " 'tags': ['mongodb', 'python', 'pymongo'],\n",
      " 'text': 'My first blog post!'}\n",
      "{'_id': ObjectId('60eda1d4b1c44a3b45fdb3c5'),\n",
      " 'author': 'Dominic',\n",
      " 'date': datetime.datetime(2021, 7, 13, 14, 23, 16, 392000),\n",
      " 'tags': ['mongodb', 'python', 'pymongo'],\n",
      " 'text': 'My first blog post!'}\n",
      "{'_id': ObjectId('60eda1dfb1c44a3b45fdb3c8'),\n",
      " 'author': 'Mike',\n",
      " 'date': datetime.datetime(2009, 11, 12, 11, 14),\n",
      " 'tags': ['bulk', 'insert'],\n",
      " 'text': 'Another post!'}\n",
      "{'_id': ObjectId('60eda1dfb1c44a3b45fdb3c9'),\n",
      " 'author': 'Eliot',\n",
      " 'date': datetime.datetime(2009, 11, 10, 10, 45),\n",
      " 'text': 'and pretty easy too!',\n",
      " 'title': 'MongoDB is fun'}\n"
     ]
    }
   ],
   "source": [
    "d = datetime.datetime(2009, 11, 12, 12)\n",
    "for post in posts.find({\"date\": {\"$lt\": d}}).sort(\"author\"):\n",
    "    pprint(post)"
   ]
  },
  {
   "cell_type": "markdown",
   "id": "46ee3a67",
   "metadata": {},
   "source": [
    "## Exercise \n",
    "\n",
    "Read data out of word_data , convert to a dictionaries and then create mongo DB out of the data. \n",
    "In other words, migrate sql database to mongo db database "
   ]
  },
  {
   "cell_type": "code",
   "execution_count": null,
   "id": "90db75c0",
   "metadata": {},
   "outputs": [],
   "source": []
  }
 ],
 "metadata": {
  "kernelspec": {
   "name": "python3",
   "display_name": "Python 3.8.2 64-bit ('usr')"
  },
  "language_info": {
   "codemirror_mode": {
    "name": "ipython",
    "version": 3
   },
   "file_extension": ".py",
   "mimetype": "text/x-python",
   "name": "python",
   "nbconvert_exporter": "python",
   "pygments_lexer": "ipython3",
   "version": "3.8.2"
  },
  "interpreter": {
   "hash": "5edc29c2ed010d6458d71a83433b383a96a8cbd3efe8531bc90c4b8a5b8bcec9"
  }
 },
 "nbformat": 4,
 "nbformat_minor": 5
}