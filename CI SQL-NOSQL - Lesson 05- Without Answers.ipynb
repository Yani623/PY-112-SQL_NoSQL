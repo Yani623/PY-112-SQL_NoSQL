{
 "cells": [
  {
   "cell_type": "markdown",
   "source": [
    "<a href=\"https://codeimmersives.com\"><img src = \"https://www.codeimmersives.com/wp-content/uploads/2019/09/CodeImmersives_Logo_RGB_NYC_BW.png\" width = 400> </a>\n",
    "\n",
    "\n",
    "<h1 align=center><font size = 5>Agenda</font></h1>"
   ],
   "metadata": {}
  },
  {
   "cell_type": "markdown",
   "source": [
    "## SQL Operations using Python\n",
    "\n",
    "### Agenda\n",
    "<div class=\"alert alert-block alert-info\" style=\"margin-top: 20px\">\n",
    "\n",
    "1.  [Review](#0)<br>\n",
    "2.  [Base Python Exercise 1](#1)<br>\n",
    "3.  [Base Python Exercise 2](#2)<br>\n",
    "4.  [Base Python Exercise 3](#3)<br>\n",
    "5.  [SQLite Exercises 1](#10)<br>    \n",
    "6.  [SQLite Exercises 2](#12)<br>\n",
    "7.  [Exercises](#14)<br>\n",
    "</div>\n",
    "<hr>"
   ],
   "metadata": {}
  },
  {
   "cell_type": "markdown",
   "source": [
    "<h2>Base Python Exercise 1</h2>\n",
    "Calculate the mean, median, and mode of the following data set:<br>\n",
    "<code>\n",
    "numList = [88,89,90,93,84,86,88,91,88,87]\n",
    "\n",
    "def calcMean(numList):\n",
    "    pass\n",
    "def calcMode(numList):\n",
    "    pass\n",
    "def calcMedian(numList):\n",
    "    pass\n",
    "\"\"\"\n",
    "Call all of the functions below\n",
    "\"\"\"\n",
    "</code>"
   ],
   "metadata": {}
  },
  {
   "cell_type": "markdown",
   "source": [
    "<h4>Solution</h4>"
   ],
   "metadata": {}
  },
  {
   "cell_type": "code",
   "execution_count": 63,
   "source": [
    "import math\n",
    "\n",
    "numList = [88,89,90,93,84,86,88,91,88,87]\n",
    "\n",
    "def calcMean(li = []):\n",
    "    sum = 0\n",
    "    for x in li:\n",
    "        sum += x\n",
    "    mean = sum / len(li)\n",
    "\n",
    "    print(mean)\n",
    "\n",
    "\n",
    "def calcMedian(li=[]):\n",
    "    li.sort()\n",
    "    middleTwo = []\n",
    "    if len(li)%2 == 0:\n",
    "        for x in range(len(li)):\n",
    "            if x == len(li)/2:\n",
    "                middleTwo.append(li[x])\n",
    "\n",
    "            elif x == ((len(li)/2) + 1):\n",
    "                middleTwo.append(li[x])\n",
    "                \n",
    "        median = (middleTwo[0] + middleTwo[1]) / 2\n",
    "\n",
    "    elif len(li) % 2 != 0:\n",
    "        middle =int((len(li)/2) - .5)\n",
    "        median = li[middle]\n",
    "\n",
    "    print(median)\n",
    "        \n",
    "\n",
    "def calcMode(li=[]):\n",
    "    setli = set(li)\n",
    "    print(setli)\n",
    "    mode = 1\n",
    "    for x in setli:\n",
    "        if li.count(x) > mode:\n",
    "            mode = x\n",
    "        elif li.count(x) = mode:\n",
    "            mode = mode, \",\", x\n",
    "        else:\n",
    "            mode = mode\n",
    "    \n",
    "    print(mode)\n",
    "\n",
    "calcMean(numList)\n",
    "calcMedian(numList)\n",
    "calcMode(numList)\n"
   ],
   "outputs": [
    {
     "output_type": "stream",
     "name": "stdout",
     "text": [
      "88.4\n",
      "88.5\n",
      "{84, 86, 87, 88, 89, 90, 91, 93}\n",
      "88\n"
     ]
    }
   ],
   "metadata": {}
  },
  {
   "cell_type": "markdown",
   "source": [
    "<h2>Base Python Exercise 2</h2>\n",
    "Write code to identify all prime numbers from 1000 through 1100"
   ],
   "metadata": {}
  },
  {
   "cell_type": "code",
   "execution_count": 71,
   "source": [
    "\n",
    "numList2 = range(1000,1101)\n",
    "\n",
    "def primeNums(li=[]):\n",
    "    for num in li:\n",
    "        prime = True\n",
    "        for x in range(2, num):\n",
    "            if num % x == 0:\n",
    "                prime = False\n",
    "                break\n",
    "        if prime == True:\n",
    "            print(num)\n",
    "        \n",
    "        \n",
    "\n",
    "primeNums(numList2)\n"
   ],
   "outputs": [
    {
     "output_type": "stream",
     "name": "stdout",
     "text": [
      "1009\n",
      "1013\n",
      "1019\n",
      "1021\n",
      "1031\n",
      "1033\n",
      "1039\n",
      "1049\n",
      "1051\n",
      "1061\n",
      "1063\n",
      "1069\n",
      "1087\n",
      "1091\n",
      "1093\n",
      "1097\n"
     ]
    }
   ],
   "metadata": {
    "tags": []
   }
  },
  {
   "cell_type": "markdown",
   "source": [
    "<h2>Base Python Exercise 3</h2>\n",
    "Using the code from above determine which prime numbers from above where the sum<br>\n",
    "of their digits is also prime?<br>"
   ],
   "metadata": {}
  },
  {
   "cell_type": "code",
   "execution_count": 76,
   "source": [
    "def primeNums(li=[]):\n",
    "    for num in li:\n",
    "        prime = True\n",
    "        for x in range(2, num):\n",
    "            if num % x == 0:\n",
    "                prime = False\n",
    "                break\n",
    "        if prime == True:\n",
    "            #make digits in num a string:\n",
    "            num = str(num)\n",
    "            sum = 0\n",
    "            for i in num:\n",
    "                sum += int(i)\n",
    "                for y in range(2,sum):\n",
    "                    if num % y == 0:\n",
    "                        prime = False\n",
    "                        break\n",
    "                    else:\n",
    "                        print(num)\n",
    "\n",
    "            \n",
    "\n",
    "primeNums(numList2)\n",
    "                "
   ],
   "outputs": [
    {
     "output_type": "error",
     "ename": "TypeError",
     "evalue": "not all arguments converted during string formatting",
     "traceback": [
      "\u001b[0;31m---------------------------------------------------------------------------\u001b[0m",
      "\u001b[0;31mTypeError\u001b[0m                                 Traceback (most recent call last)",
      "\u001b[0;32m<ipython-input-76-bc9bd1f706d7>\u001b[0m in \u001b[0;36m<module>\u001b[0;34m\u001b[0m\n\u001b[1;32m     21\u001b[0m \u001b[0;34m\u001b[0m\u001b[0m\n\u001b[1;32m     22\u001b[0m \u001b[0;34m\u001b[0m\u001b[0m\n\u001b[0;32m---> 23\u001b[0;31m \u001b[0mprimeNums\u001b[0m\u001b[0;34m(\u001b[0m\u001b[0mnumList2\u001b[0m\u001b[0;34m)\u001b[0m\u001b[0;34m\u001b[0m\u001b[0;34m\u001b[0m\u001b[0m\n\u001b[0m\u001b[1;32m     24\u001b[0m \u001b[0;34m\u001b[0m\u001b[0m\n",
      "\u001b[0;32m<ipython-input-76-bc9bd1f706d7>\u001b[0m in \u001b[0;36mprimeNums\u001b[0;34m(li)\u001b[0m\n\u001b[1;32m     13\u001b[0m                 \u001b[0msum\u001b[0m \u001b[0;34m+=\u001b[0m \u001b[0mint\u001b[0m\u001b[0;34m(\u001b[0m\u001b[0mi\u001b[0m\u001b[0;34m)\u001b[0m\u001b[0;34m\u001b[0m\u001b[0;34m\u001b[0m\u001b[0m\n\u001b[1;32m     14\u001b[0m                 \u001b[0;32mfor\u001b[0m \u001b[0my\u001b[0m \u001b[0;32min\u001b[0m \u001b[0mrange\u001b[0m\u001b[0;34m(\u001b[0m\u001b[0;36m2\u001b[0m\u001b[0;34m,\u001b[0m\u001b[0msum\u001b[0m\u001b[0;34m)\u001b[0m\u001b[0;34m:\u001b[0m\u001b[0;34m\u001b[0m\u001b[0;34m\u001b[0m\u001b[0m\n\u001b[0;32m---> 15\u001b[0;31m                     \u001b[0;32mif\u001b[0m \u001b[0mnum\u001b[0m \u001b[0;34m%\u001b[0m \u001b[0mi\u001b[0m \u001b[0;34m==\u001b[0m \u001b[0;36m0\u001b[0m\u001b[0;34m:\u001b[0m\u001b[0;34m\u001b[0m\u001b[0;34m\u001b[0m\u001b[0m\n\u001b[0m\u001b[1;32m     16\u001b[0m                         \u001b[0mprime\u001b[0m \u001b[0;34m=\u001b[0m \u001b[0;32mFalse\u001b[0m\u001b[0;34m\u001b[0m\u001b[0;34m\u001b[0m\u001b[0m\n\u001b[1;32m     17\u001b[0m                         \u001b[0;32mbreak\u001b[0m\u001b[0;34m\u001b[0m\u001b[0;34m\u001b[0m\u001b[0m\n",
      "\u001b[0;31mTypeError\u001b[0m: not all arguments converted during string formatting"
     ]
    }
   ],
   "metadata": {}
  },
  {
   "cell_type": "markdown",
   "source": [
    "<h2>Base Python Exercise 4</h2>\n",
    "How do you select 5 volunteers from a list of students?<br>\n",
    "students = ['Renee','Julia','Warren','Stacey','Charles','Linda','Dwight','Ann','Franklin','George','Walter','Susan']\n",
    "<br>\n",
    "Which students remained?"
   ],
   "metadata": {}
  },
  {
   "cell_type": "markdown",
   "source": [
    "<h4>Solution</h4>"
   ],
   "metadata": {}
  },
  {
   "cell_type": "code",
   "execution_count": 59,
   "source": [
    "import random\n",
    "\n"
   ],
   "outputs": [
    {
     "output_type": "stream",
     "name": "stdout",
     "text": [
      "Susan was picked\n",
      "['Renee', 'Julia', 'Warren', 'Stacey', 'Charles', 'Linda', 'Dwight', 'Ann', 'Franklin', 'George', 'Walter']\n",
      "Warren was picked\n",
      "['Renee', 'Julia', 'Stacey', 'Charles', 'Linda', 'Dwight', 'Ann', 'Franklin', 'George', 'Walter']\n",
      "Walter was picked\n",
      "['Renee', 'Julia', 'Stacey', 'Charles', 'Linda', 'Dwight', 'Ann', 'Franklin', 'George']\n",
      "Ann was picked\n",
      "['Renee', 'Julia', 'Stacey', 'Charles', 'Linda', 'Dwight', 'Franklin', 'George']\n",
      "Franklin was picked\n",
      "['Renee', 'Julia', 'Stacey', 'Charles', 'Linda', 'Dwight', 'George']\n",
      "I randomly picked the following students: ['Susan', 'Warren', 'Walter', 'Ann', 'Franklin']\n",
      "Remaining students: ['Renee', 'Julia', 'Stacey', 'Charles', 'Linda', 'Dwight', 'George']\n"
     ]
    }
   ],
   "metadata": {}
  },
  {
   "cell_type": "markdown",
   "source": [
    "<h2>Exercise</h2>\n",
    "Open the file World_country_populations<br>\n",
    "And answer the following questions:<br>\n",
    "1 - Print the top 20 countries by population - Output in millions.<br>\n",
    "2 - What is the total world population<br>\n",
    "3 - Top 10 countries by median age<br>\n",
    "4 - Top 10 countries where people left<br>\n",
    "5 - Top 10 countries who took in migrants<br>\n",
    "6 - Which countries with a population less than 10 million had the largest year_change pct<br>"
   ],
   "metadata": {}
  },
  {
   "cell_type": "code",
   "execution_count": 5,
   "source": [
    "import os\n",
    "import sqlite3\n",
    "\n",
    "\n",
    "conn = sqlite3.connect(\"world_populations.db\")\n",
    "c = conn.cursor()\n",
    "c.execute('''Drop Table if Exists pop_data''')\n",
    "c.executescript('''\n",
    "    create table IF NOT EXISTS pop_data(\n",
    "        num INTEGER,\n",
    "        country TEXT,\n",
    "        population INTEGER,\n",
    "        year_change REAL,\n",
    "        net_change INTEGER,\n",
    "        density INTEGER,\n",
    "        land_area_km INTEGER,\n",
    "        migrants INTEGER,\n",
    "        fert_rate REAL,\n",
    "        median_age INTEGER,\n",
    "        urban_pop_pct REAL,\n",
    "        world_share REAL\n",
    "    );\n",
    "    DELETE FROM pop_data;    \n",
    "''')\n",
    "conn.commit()\n",
    "# num\tCountry\tpopulation\tyear_change\tnet_change\tdensity\tland_area_km2\tmigrants\t\n",
    "# fertility_rate\tMedian_age\tUrban_pop_pct\tWorld_share\n",
    "with open(\"World_country_populations.csv\",'r') as fh:\n",
    "    line = fh.readline()\n",
    "    i = 0\n",
    "    while line:\n",
    "        if i > 0:\n",
    "            num,country,population,year_change,net_change,density,land_area_km,migrants,fert_rate,median_age,\\\n",
    "            urban_pop_pct,world_share = line.split(',')\n",
    "            print(f\"\"\"{num} {country} {population} {year_change} {net_change} {density} {land_area_km}\n",
    "            {migrants} {fert_rate} {median_age} {urban_pop_pct} {world_share}\"\"\")\n",
    "            num = int(num)\n",
    "            country = country.strip().replace(\"'\",\" \")\n",
    "            population = int(population)\n",
    "            year_change = float(year_change)\n",
    "            net_change = int(net_change)\n",
    "            density = int(density)\n",
    "            land_area_km = int(land_area_km)\n",
    "            migrants = float(migrants) if migrants else 0\n",
    "            fert_rate = 0 if fert_rate.strip() == 'N.A.' else float(fert_rate)\n",
    "            median_age =  0 if median_age.strip() == 'N.A.' else float(median_age)\n",
    "            urban_pop_pct =  0 if urban_pop_pct.strip() == 'N.A.' else float(urban_pop_pct)\n",
    "            world_share = float(world_share)\n",
    "            # Store the data\n",
    "            sql = f\"\"\"INSERT INTO pop_data (num,country,population,year_change,net_change,density,land_area_km,\n",
    "            migrants,fert_rate,median_age,urban_pop_pct,world_share) \n",
    "            VALUES ({num},'{country}',{population},{year_change},{net_change},{density},{land_area_km},{migrants},\n",
    "            {fert_rate},{median_age},{urban_pop_pct},{world_share});\"\"\"\n",
    "            print(sql)\n",
    "            c.execute(sql)\n",
    "            conn.commit()\n",
    "        line = fh.readline()\n",
    "        i += 1"
   ],
   "outputs": [
    {
     "output_type": "stream",
     "name": "stdout",
     "text": [
      "iger  24206644 0.0384 895929 19 1266700\n",
      "            4000 7 15 0.17 0.0031\n",
      "\n",
      "INSERT INTO pop_data (num,country,population,year_change,net_change,density,land_area_km,\n",
      "            migrants,fert_rate,median_age,urban_pop_pct,world_share) \n",
      "            VALUES (56,'Niger',24206644,0.0384,895929,19,1266700,4000.0,\n",
      "            7.0,15.0,0.17,0.0031);\n",
      "55 Australia  25499884 0.0118 296686 3 7682300\n",
      "            158246 1.8 38 0.86 0.0033\n",
      "\n",
      "INSERT INTO pop_data (num,country,population,year_change,net_change,density,land_area_km,\n",
      "            migrants,fert_rate,median_age,urban_pop_pct,world_share) \n",
      "            VALUES (55,'Australia',25499884,0.0118,296686,3,7682300,158246.0,\n",
      "            1.8,38.0,0.86,0.0033);\n",
      "54 North Korea  25778816 0.0044 112655 214 120410\n",
      "            -5403 1.9 35 0.63 0.0033\n",
      "\n",
      "INSERT INTO pop_data (num,country,population,year_change,net_change,density,land_area_km,\n",
      "            migrants,fert_rate,median_age,urban_pop_pct,world_share) \n",
      "            VALUES (54,'North Korea',25778816,0.0044,112655,214,120410,-5403.0,\n",
      "            1.9,35.0,0.63,0.0033);\n",
      "53 Côte d'Ivoire  26378274 0.0257 661730 83 318000\n",
      "            -8000 4.7 19 0.51 0.0034\n",
      "\n",
      "INSERT INTO pop_data (num,country,population,year_change,net_change,density,land_area_km,\n",
      "            migrants,fert_rate,median_age,urban_pop_pct,world_share) \n",
      "            VALUES (53,'Côte d Ivoire',26378274,0.0257,661730,83,318000,-8000.0,\n",
      "            4.7,19.0,0.51,0.0034);\n",
      "52 Cameroon  26545863 0.0259 669483 56 472710\n",
      "            -4800 4.6 19 0.56 0.0034\n",
      "\n",
      "INSERT INTO pop_data (num,country,population,year_change,net_change,density,land_area_km,\n",
      "            migrants,fert_rate,median_age,urban_pop_pct,world_share) \n",
      "            VALUES (52,'Cameroon',26545863,0.0259,669483,56,472710,-4800.0,\n",
      "            4.6,19.0,0.56,0.0034);\n",
      "51 Madagascar  27691018 0.0268 721711 48 581795\n",
      "            -1500 4.1 20 0.39 0.0036\n",
      "\n",
      "INSERT INTO pop_data (num,country,population,year_change,net_change,density,land_area_km,\n",
      "            migrants,fert_rate,median_age,urban_pop_pct,world_share) \n",
      "            VALUES (51,'Madagascar',27691018,0.0268,721711,48,581795,-1500.0,\n",
      "            4.1,20.0,0.39,0.0036);\n",
      "50 Venezuela  28435940 -0.0028 -79889 32 882050\n",
      "            -653249 2.3 30 N.A.  0.0036\n",
      "\n",
      "INSERT INTO pop_data (num,country,population,year_change,net_change,density,land_area_km,\n",
      "            migrants,fert_rate,median_age,urban_pop_pct,world_share) \n",
      "            VALUES (50,'Venezuela',28435940,-0.0028,-79889,32,882050,-653249.0,\n",
      "            2.3,30.0,0,0.0036);\n",
      "49 Nepal  29136808 0.0185 528098 203 143350\n",
      "            41710 1.9 25 0.21 0.0037\n",
      "\n",
      "INSERT INTO pop_data (num,country,population,year_change,net_change,density,land_area_km,\n",
      "            migrants,fert_rate,median_age,urban_pop_pct,world_share) \n",
      "            VALUES (49,'Nepal',29136808,0.0185,528098,203,143350,41710.0,\n",
      "            1.9,25.0,0.21,0.0037);\n",
      "48 Yemen  29825964 0.0228 664042 56 527970\n",
      "            -30000 3.8 20 0.38 0.0038\n",
      "\n",
      "INSERT INTO pop_data (num,country,population,year_change,net_change,density,land_area_km,\n",
      "            migrants,fert_rate,median_age,urban_pop_pct,world_share) \n",
      "            VALUES (48,'Yemen',29825964,0.0228,664042,56,527970,-30000.0,\n",
      "            3.8,20.0,0.38,0.0038);\n",
      "47 Ghana  31072940 0.0215 655084 137 227540\n",
      "            -10000 3.9 22 0.57 0.004\n",
      "\n",
      "INSERT INTO pop_data (num,country,population,year_change,net_change,density,land_area_km,\n",
      "            migrants,fert_rate,median_age,urban_pop_pct,world_share) \n",
      "            VALUES (47,'Ghana',31072940,0.0215,655084,137,227540,-10000.0,\n",
      "            3.9,22.0,0.57,0.004);\n",
      "46 Mozambique  31255435 0.0293 889399 40 786380\n",
      "            -5000 4.9 18 0.38 0.004\n",
      "\n",
      "INSERT INTO pop_data (num,country,population,year_change,net_change,density,land_area_km,\n",
      "            migrants,fert_rate,median_age,urban_pop_pct,world_share) \n",
      "            VALUES (46,'Mozambique',31255435,0.0293,889399,40,786380,-5000.0,\n",
      "            4.9,18.0,0.38,0.004);\n",
      "45 Malaysia  32365999 0.013 416222 99 328550\n",
      "            50000 2 30 0.78 0.0042\n",
      "\n",
      "INSERT INTO pop_data (num,country,population,year_change,net_change,density,land_area_km,\n",
      "            migrants,fert_rate,median_age,urban_pop_pct,world_share) \n",
      "            VALUES (45,'Malaysia',32365999,0.013,416222,99,328550,50000.0,\n",
      "            2.0,30.0,0.78,0.0042);\n",
      "44 Angola  32866272 0.0327 1040977 26 1246700\n",
      "            6413 5.6 17 0.67 0.0042\n",
      "\n",
      "INSERT INTO pop_data (num,country,population,year_change,net_change,density,land_area_km,\n",
      "            migrants,fert_rate,median_age,urban_pop_pct,world_share) \n",
      "            VALUES (44,'Angola',32866272,0.0327,1040977,26,1246700,6413.0,\n",
      "            5.6,17.0,0.67,0.0042);\n",
      "43 Peru  32971854 0.0142 461401 26 1280000\n",
      "            99069 2.3 31 0.79 0.0042\n",
      "\n",
      "INSERT INTO pop_data (num,country,population,year_change,net_change,density,land_area_km,\n",
      "            migrants,fert_rate,median_age,urban_pop_pct,world_share) \n",
      "            VALUES (43,'Peru',32971854,0.0142,461401,26,1280000,99069.0,\n",
      "            2.3,31.0,0.79,0.0042);\n",
      "42 Uzbekistan  33469203 0.0148 487487 79 425400\n",
      "            -8863 2.4 28 0.5 0.0043\n",
      "\n",
      "INSERT INTO pop_data (num,country,population,year_change,net_change,density,land_area_km,\n",
      "            migrants,fert_rate,median_age,urban_pop_pct,world_share) \n",
      "            VALUES (42,'Uzbekistan',33469203,0.0148,487487,79,425400,-8863.0,\n",
      "            2.4,28.0,0.5,0.0043);\n",
      "41 Saudi Arabia  34813871 0.0159 545343 16 2149690\n",
      "            134979 2.3 32 0.84 0.0045\n",
      "\n",
      "INSERT INTO pop_data (num,country,population,year_change,net_change,density,land_area_km,\n",
      "            migrants,fert_rate,median_age,urban_pop_pct,world_share) \n",
      "            VALUES (41,'Saudi Arabia',34813871,0.0159,545343,16,2149690,134979.0,\n",
      "            2.3,32.0,0.84,0.0045);\n",
      "40 Morocco  36910560 0.012 438791 83 446300\n",
      "            -51419 2.4 30 0.64 0.0047\n",
      "\n",
      "INSERT INTO pop_data (num,country,population,year_change,net_change,density,land_area_km,\n",
      "            migrants,fert_rate,median_age,urban_pop_pct,world_share) \n",
      "            VALUES (40,'Morocco',36910560,0.012,438791,83,446300,-51419.0,\n",
      "            2.4,30.0,0.64,0.0047);\n",
      "39 Canada  37742154 0.0089 331107 4 9093510\n",
      "            242032 1.5 41 0.81 0.0048\n",
      "\n",
      "INSERT INTO pop_data (num,country,population,year_change,net_change,density,land_area_km,\n",
      "            migrants,fert_rate,median_age,urban_pop_pct,world_share) \n",
      "            VALUES (39,'Canada',37742154,0.0089,331107,4,9093510,242032.0,\n",
      "            1.5,41.0,0.81,0.0048);\n",
      "38 Poland  37846611 -0.0011 -41157 124 306230\n",
      "            -29395 1.4 42 0.6 0.0049\n",
      "\n",
      "INSERT INTO pop_data (num,country,population,year_change,net_change,density,land_area_km,\n",
      "            migrants,fert_rate,median_age,urban_pop_pct,world_share) \n",
      "            VALUES (38,'Poland',37846611,-0.0011,-41157,124,306230,-29395.0,\n",
      "            1.4,42.0,0.6,0.0049);\n",
      "37 Afghanistan  38928346 0.0233 886592 60 652860\n",
      "            -62920 4.6 18 0.25 0.005\n",
      "\n",
      "INSERT INTO pop_data (num,country,population,year_change,net_change,density,land_area_km,\n",
      "            migrants,fert_rate,median_age,urban_pop_pct,world_share) \n",
      "            VALUES (37,'Afghanistan',38928346,0.0233,886592,60,652860,-62920.0,\n",
      "            4.6,18.0,0.25,0.005);\n",
      "36 Iraq  40222493 0.0232 912710 93 434320\n",
      "            7834 3.7 21 0.73 0.0052\n",
      "\n",
      "INSERT INTO pop_data (num,country,population,year_change,net_change,density,land_area_km,\n",
      "            migrants,fert_rate,median_age,urban_pop_pct,world_share) \n",
      "            VALUES (36,'Iraq',40222493,0.0232,912710,93,434320,7834.0,\n",
      "            3.7,21.0,0.73,0.0052);\n",
      "35 Ukraine  43733762 -0.0059 -259876 75 579320\n",
      "            10000 1.4 41 0.69 0.0056\n",
      "\n",
      "INSERT INTO pop_data (num,country,population,year_change,net_change,density,land_area_km,\n",
      "            migrants,fert_rate,median_age,urban_pop_pct,world_share) \n",
      "            VALUES (35,'Ukraine',43733762,-0.0059,-259876,75,579320,10000.0,\n",
      "            1.4,41.0,0.69,0.0056);\n",
      "34 Sudan  43849260 0.0242 1036022 25 1765048\n",
      "            -50000 4.4 20 0.35 0.0056\n",
      "\n",
      "INSERT INTO pop_data (num,country,population,year_change,net_change,density,land_area_km,\n",
      "            migrants,fert_rate,median_age,urban_pop_pct,world_share) \n",
      "            VALUES (34,'Sudan',43849260,0.0242,1036022,25,1765048,-50000.0,\n",
      "            4.4,20.0,0.35,0.0056);\n",
      "33 Algeria  43851044 0.0185 797990 18 2381740\n",
      "            -10000 3.1 29 0.73 0.0056\n",
      "\n",
      "INSERT INTO pop_data (num,country,population,year_change,net_change,density,land_area_km,\n",
      "            migrants,fert_rate,median_age,urban_pop_pct,world_share) \n",
      "            VALUES (33,'Algeria',43851044,0.0185,797990,18,2381740,-10000.0,\n",
      "            3.1,29.0,0.73,0.0056);\n",
      "32 Argentina  45195774 0.0093 415097 17 2736690\n",
      "            4800 2.3 32 0.93 0.0058\n",
      "\n",
      "INSERT INTO pop_data (num,country,population,year_change,net_change,density,land_area_km,\n",
      "            migrants,fert_rate,median_age,urban_pop_pct,world_share) \n",
      "            VALUES (32,'Argentina',45195774,0.0093,415097,17,2736690,4800.0,\n",
      "            2.3,32.0,0.93,0.0058);\n",
      "31 Uganda  45741007 0.0332 1471413 229 199810\n",
      "            168694 5 17 0.26 0.0059\n",
      "\n",
      "INSERT INTO pop_data (num,country,population,year_change,net_change,density,land_area_km,\n",
      "            migrants,fert_rate,median_age,urban_pop_pct,world_share) \n",
      "            VALUES (31,'Uganda',45741007,0.0332,1471413,229,199810,168694.0,\n",
      "            5.0,17.0,0.26,0.0059);\n",
      "30 Spain  46754778 0.0004 18002 94 498800\n",
      "            40000 1.3 45 0.8 0.006\n",
      "\n",
      "INSERT INTO pop_data (num,country,population,year_change,net_change,density,land_area_km,\n",
      "            migrants,fert_rate,median_age,urban_pop_pct,world_share) \n",
      "            VALUES (30,'Spain',46754778,0.0004,18002,94,498800,40000.0,\n",
      "            1.3,45.0,0.8,0.006);\n",
      "29 Colombia  50882891 0.0108 543448 46 1109500\n",
      "            204796 1.8 31 0.8 0.0065\n",
      "\n",
      "INSERT INTO pop_data (num,country,population,year_change,net_change,density,land_area_km,\n",
      "            migrants,fert_rate,median_age,urban_pop_pct,world_share) \n",
      "            VALUES (29,'Colombia',50882891,0.0108,543448,46,1109500,204796.0,\n",
      "            1.8,31.0,0.8,0.0065);\n",
      "28 South Korea  51269185 0.0009 43877 527 97230\n",
      "            11731 1.1 44 0.82 0.0066\n",
      "\n",
      "INSERT INTO pop_data (num,country,population,year_change,net_change,density,land_area_km,\n",
      "            migrants,fert_rate,median_age,urban_pop_pct,world_share) \n",
      "            VALUES (28,'South Korea',51269185,0.0009,43877,527,97230,11731.0,\n",
      "            1.1,44.0,0.82,0.0066);\n",
      "27 Kenya  53771296 0.0228 1197323 94 569140\n",
      "            -10000 3.5 20 0.28 0.0069\n",
      "\n",
      "INSERT INTO pop_data (num,country,population,year_change,net_change,density,land_area_km,\n",
      "            migrants,fert_rate,median_age,urban_pop_pct,world_share) \n",
      "            VALUES (27,'Kenya',53771296,0.0228,1197323,94,569140,-10000.0,\n",
      "            3.5,20.0,0.28,0.0069);\n",
      "26 Myanmar  54409800 0.0067 364380 83 653290\n",
      "            -163313 2.2 29 0.31 0.007\n",
      "\n",
      "INSERT INTO pop_data (num,country,population,year_change,net_change,density,land_area_km,\n",
      "            migrants,fert_rate,median_age,urban_pop_pct,world_share) \n",
      "            VALUES (26,'Myanmar',54409800,0.0067,364380,83,653290,-163313.0,\n",
      "            2.2,29.0,0.31,0.007);\n",
      "25 South Africa  59308690 0.0128 750420 49 1213090\n",
      "            145405 2.4 28 0.67 0.0076\n",
      "\n",
      "INSERT INTO pop_data (num,country,population,year_change,net_change,density,land_area_km,\n",
      "            migrants,fert_rate,median_age,urban_pop_pct,world_share) \n",
      "            VALUES (25,'South Africa',59308690,0.0128,750420,49,1213090,145405.0,\n",
      "            2.4,28.0,0.67,0.0076);\n",
      "24 Tanzania  59734218 0.0298 1728755 67 885800\n",
      "            -40076 4.9 18 0.37 0.0077\n",
      "\n",
      "INSERT INTO pop_data (num,country,population,year_change,net_change,density,land_area_km,\n",
      "            migrants,fert_rate,median_age,urban_pop_pct,world_share) \n",
      "            VALUES (24,'Tanzania',59734218,0.0298,1728755,67,885800,-40076.0,\n",
      "            4.9,18.0,0.37,0.0077);\n",
      "23 Italy  60461826 -0.0015 -88249 206 294140\n",
      "            148943 1.3 47 0.69 0.0078\n",
      "\n",
      "INSERT INTO pop_data (num,country,population,year_change,net_change,density,land_area_km,\n",
      "            migrants,fert_rate,median_age,urban_pop_pct,world_share) \n",
      "            VALUES (23,'Italy',60461826,-0.0015,-88249,206,294140,148943.0,\n",
      "            1.3,47.0,0.69,0.0078);\n",
      "22 France  65273511 0.0022 143783 119 547557\n",
      "            36527 1.9 42 0.82 0.0084\n",
      "\n",
      "INSERT INTO pop_data (num,country,population,year_change,net_change,density,land_area_km,\n",
      "            migrants,fert_rate,median_age,urban_pop_pct,world_share) \n",
      "            VALUES (22,'France',65273511,0.0022,143783,119,547557,36527.0,\n",
      "            1.9,42.0,0.82,0.0084);\n",
      "21 United Kingdom  67886011 0.0053 355839 281 241930\n",
      "            260650 1.8 40 0.83 0.0087\n",
      "\n",
      "INSERT INTO pop_data (num,country,population,year_change,net_change,density,land_area_km,\n",
      "            migrants,fert_rate,median_age,urban_pop_pct,world_share) \n",
      "            VALUES (21,'United Kingdom',67886011,0.0053,355839,281,241930,260650.0,\n",
      "            1.8,40.0,0.83,0.0087);\n",
      "20 Thailand  69799978 0.0025 174396 137 510890\n",
      "            19444 1.5 40 0.51 0.009\n",
      "\n",
      "INSERT INTO pop_data (num,country,population,year_change,net_change,density,land_area_km,\n",
      "            migrants,fert_rate,median_age,urban_pop_pct,world_share) \n",
      "            VALUES (20,'Thailand',69799978,0.0025,174396,137,510890,19444.0,\n",
      "            1.5,40.0,0.51,0.009);\n",
      "19 Germany  83783942 0.0032 266897 240 348560\n",
      "            543822 1.6 46 0.76 0.0107\n",
      "\n",
      "INSERT INTO pop_data (num,country,population,year_change,net_change,density,land_area_km,\n",
      "            migrants,fert_rate,median_age,urban_pop_pct,world_share) \n",
      "            VALUES (19,'Germany',83783942,0.0032,266897,240,348560,543822.0,\n",
      "            1.6,46.0,0.76,0.0107);\n",
      "18 Iran  83992949 0.013 1079043 52 1628550\n",
      "            -55000 2.2 32 0.76 0.0108\n",
      "\n",
      "INSERT INTO pop_data (num,country,population,year_change,net_change,density,land_area_km,\n",
      "            migrants,fert_rate,median_age,urban_pop_pct,world_share) \n",
      "            VALUES (18,'Iran',83992949,0.013,1079043,52,1628550,-55000.0,\n",
      "            2.2,32.0,0.76,0.0108);\n",
      "17 Turkey  84339067 0.0109 909452 110 769630\n",
      "            283922 2.1 32 0.76 0.0108\n",
      "\n",
      "INSERT INTO pop_data (num,country,population,year_change,net_change,density,land_area_km,\n",
      "            migrants,fert_rate,median_age,urban_pop_pct,world_share) \n",
      "            VALUES (17,'Turkey',84339067,0.0109,909452,110,769630,283922.0,\n",
      "            2.1,32.0,0.76,0.0108);\n",
      "16 DR Congo  89561403 0.0319 2770836 40 2267050\n",
      "            23861 6 17 0.46 0.0115\n",
      "\n",
      "INSERT INTO pop_data (num,country,population,year_change,net_change,density,land_area_km,\n",
      "            migrants,fert_rate,median_age,urban_pop_pct,world_share) \n",
      "            VALUES (16,'DR Congo',89561403,0.0319,2770836,40,2267050,23861.0,\n",
      "            6.0,17.0,0.46,0.0115);\n",
      "15 Vietnam  97338579 0.0091 876473 314 310070\n",
      "            -80000 2.1 32 0.38 0.0125\n",
      "\n",
      "INSERT INTO pop_data (num,country,population,year_change,net_change,density,land_area_km,\n",
      "            migrants,fert_rate,median_age,urban_pop_pct,world_share) \n",
      "            VALUES (15,'Vietnam',97338579,0.0091,876473,314,310070,-80000.0,\n",
      "            2.1,32.0,0.38,0.0125);\n",
      "14 Egypt  102334404 0.0194 1946331 103 995450\n",
      "            -38033 3.3 25 0.43 0.0131\n",
      "\n",
      "INSERT INTO pop_data (num,country,population,year_change,net_change,density,land_area_km,\n",
      "            migrants,fert_rate,median_age,urban_pop_pct,world_share) \n",
      "            VALUES (14,'Egypt',102334404,0.0194,1946331,103,995450,-38033.0,\n",
      "            3.3,25.0,0.43,0.0131);\n",
      "13 Philippines  109581078 0.0135 1464463 368 298170\n",
      "            -67152 2.6 26 0.47 0.0141\n",
      "\n",
      "INSERT INTO pop_data (num,country,population,year_change,net_change,density,land_area_km,\n",
      "            migrants,fert_rate,median_age,urban_pop_pct,world_share) \n",
      "            VALUES (13,'Philippines',109581078,0.0135,1464463,368,298170,-67152.0,\n",
      "            2.6,26.0,0.47,0.0141);\n",
      "12 Ethiopia  114963588 0.0257 2884858 115 1000000\n",
      "            30000 4.3 19 0.21 0.0147\n",
      "\n",
      "INSERT INTO pop_data (num,country,population,year_change,net_change,density,land_area_km,\n",
      "            migrants,fert_rate,median_age,urban_pop_pct,world_share) \n",
      "            VALUES (12,'Ethiopia',114963588,0.0257,2884858,115,1000000,30000.0,\n",
      "            4.3,19.0,0.21,0.0147);\n",
      "11 Japan  126476461 -0.003 -383840 347 364555\n",
      "            71560 1.4 48 0.92 0.0162\n",
      "\n",
      "INSERT INTO pop_data (num,country,population,year_change,net_change,density,land_area_km,\n",
      "            migrants,fert_rate,median_age,urban_pop_pct,world_share) \n",
      "            VALUES (11,'Japan',126476461,-0.003,-383840,347,364555,71560.0,\n",
      "            1.4,48.0,0.92,0.0162);\n",
      "10 Mexico  128932753 0.0106 1357224 66 1943950\n",
      "            -60000 2.1 29 0.84 0.0165\n",
      "\n",
      "INSERT INTO pop_data (num,country,population,year_change,net_change,density,land_area_km,\n",
      "            migrants,fert_rate,median_age,urban_pop_pct,world_share) \n",
      "            VALUES (10,'Mexico',128932753,0.0106,1357224,66,1943950,-60000.0,\n",
      "            2.1,29.0,0.84,0.0165);\n",
      "9 Russia  145934462 0.0004 62206 9 16376870\n",
      "            182456 1.8 40 0.74 0.0187\n",
      "\n",
      "INSERT INTO pop_data (num,country,population,year_change,net_change,density,land_area_km,\n",
      "            migrants,fert_rate,median_age,urban_pop_pct,world_share) \n",
      "            VALUES (9,'Russia',145934462,0.0004,62206,9,16376870,182456.0,\n",
      "            1.8,40.0,0.74,0.0187);\n",
      "8 Bangladesh  164689383 0.0101 1643222 1265 130170\n",
      "            -369501 2.1 28 0.39 0.0211\n",
      "\n",
      "INSERT INTO pop_data (num,country,population,year_change,net_change,density,land_area_km,\n",
      "            migrants,fert_rate,median_age,urban_pop_pct,world_share) \n",
      "            VALUES (8,'Bangladesh',164689383,0.0101,1643222,1265,130170,-369501.0,\n",
      "            2.1,28.0,0.39,0.0211);\n",
      "7 Nigeria  206139589 0.0258 5175990 226 910770\n",
      "            -60000 5.4 18 0.52 0.0264\n",
      "\n",
      "INSERT INTO pop_data (num,country,population,year_change,net_change,density,land_area_km,\n",
      "            migrants,fert_rate,median_age,urban_pop_pct,world_share) \n",
      "            VALUES (7,'Nigeria',206139589,0.0258,5175990,226,910770,-60000.0,\n",
      "            5.4,18.0,0.52,0.0264);\n",
      "6 Brazil  212559417 0.0072 1509890 25 8358140\n",
      "            21200 1.7 33 0.88 0.0273\n",
      "\n",
      "INSERT INTO pop_data (num,country,population,year_change,net_change,density,land_area_km,\n",
      "            migrants,fert_rate,median_age,urban_pop_pct,world_share) \n",
      "            VALUES (6,'Brazil',212559417,0.0072,1509890,25,8358140,21200.0,\n",
      "            1.7,33.0,0.88,0.0273);\n",
      "5 Pakistan  220892340 0.02 4327022 287 770880\n",
      "            -233379 3.6 23 0.35 0.0283\n",
      "\n",
      "INSERT INTO pop_data (num,country,population,year_change,net_change,density,land_area_km,\n",
      "            migrants,fert_rate,median_age,urban_pop_pct,world_share) \n",
      "            VALUES (5,'Pakistan',220892340,0.02,4327022,287,770880,-233379.0,\n",
      "            3.6,23.0,0.35,0.0283);\n",
      "4 Indonesia  273523615 0.0107 2898047 151 1811570\n",
      "            -98955 2.3 30 0.56 0.0351\n",
      "\n",
      "INSERT INTO pop_data (num,country,population,year_change,net_change,density,land_area_km,\n",
      "            migrants,fert_rate,median_age,urban_pop_pct,world_share) \n",
      "            VALUES (4,'Indonesia',273523615,0.0107,2898047,151,1811570,-98955.0,\n",
      "            2.3,30.0,0.56,0.0351);\n",
      "3 United States  331002651 0.0059 1937734 36 9147420\n",
      "            954806 1.8 38 0.83 0.0425\n",
      "\n",
      "INSERT INTO pop_data (num,country,population,year_change,net_change,density,land_area_km,\n",
      "            migrants,fert_rate,median_age,urban_pop_pct,world_share) \n",
      "            VALUES (3,'United States',331002651,0.0059,1937734,36,9147420,954806.0,\n",
      "            1.8,38.0,0.83,0.0425);\n",
      "2 India  1380004385 0.0099 13586631 464 2973190\n",
      "            -532687 2.2 28 0.35 0.177\n",
      "\n",
      "INSERT INTO pop_data (num,country,population,year_change,net_change,density,land_area_km,\n",
      "            migrants,fert_rate,median_age,urban_pop_pct,world_share) \n",
      "            VALUES (2,'India',1380004385,0.0099,13586631,464,2973190,-532687.0,\n",
      "            2.2,28.0,0.35,0.177);\n",
      "1 China  1439323776 0.0039 5540090 153 9388211\n",
      "            -348399 1.7 38 0.61 0.1847\n",
      "\n",
      "INSERT INTO pop_data (num,country,population,year_change,net_change,density,land_area_km,\n",
      "            migrants,fert_rate,median_age,urban_pop_pct,world_share) \n",
      "            VALUES (1,'China',1439323776,0.0039,5540090,153,9388211,-348399.0,\n",
      "            1.7,38.0,0.61,0.1847);\n"
     ]
    }
   ],
   "metadata": {
    "tags": [
     "outputPrepend"
    ]
   }
  },
  {
   "cell_type": "code",
   "execution_count": 6,
   "source": [
    "\n",
    "import os\n",
    "import sqlite3\n",
    "\n",
    "conn = sqlite3.connect(\"world_populations.db\")\n",
    "c = conn.cursor()\n",
    "c.execute('''SELECT country, migrants FROM pop_data WHERE migrants > 0 ORDER BY migrants DESC LIMIT 10''')\n",
    "rows = c.fetchall()\n",
    "for row in rows:\n",
    "    print(f'{row[0]} - migrants {row[1]}') \n",
    "conn.close()\n"
   ],
   "outputs": [
    {
     "output_type": "stream",
     "name": "stdout",
     "text": [
      "United States - migrants 954806\n",
      "Germany - migrants 543822\n",
      "Turkey - migrants 283922\n",
      "United Kingdom - migrants 260650\n",
      "Canada - migrants 242032\n",
      "Colombia - migrants 204796\n",
      "Russia - migrants 182456\n",
      "Uganda - migrants 168694\n",
      "Australia - migrants 158246\n",
      "Italy - migrants 148943\n"
     ]
    }
   ],
   "metadata": {}
  },
  {
   "cell_type": "markdown",
   "source": [
    "1 - Print the top 20 countries by population - Output in millions."
   ],
   "metadata": {}
  },
  {
   "cell_type": "code",
   "execution_count": 13,
   "source": [
    "import os\n",
    "import sqlite3\n",
    "\n",
    "conn = sqlite3.connect(\"world_populations.db\")\n",
    "c = conn.cursor()\n",
    "c.execute('''SELECT sum(migrants) \n",
    "FROM pop_data \n",
    "WHERE country in (\"Canada\", \"France\", \"Germany\", \"Italy\", \"Japan\", \"United Kingdom\", \"Unites States\")\n",
    "and migrants > 0\n",
    "''')\n",
    "\n",
    "g7Migrants = c.fetchone()[0]\n",
    "print(g7Migrants)\n",
    "\n",
    "\n",
    "c.execute('''SELECT sum(migrants) \n",
    "FROM pop_data \n",
    "WHERE migrants > 0\n",
    "''')\n",
    "totalMigrants = c.fetchone()[0]\n",
    "print(totalMigrants)\n",
    "\n",
    "\n",
    "\n",
    "\n",
    "\n"
   ],
   "outputs": [
    {
     "output_type": "stream",
     "name": "stdout",
     "text": [
      "1303534\n",
      "4874250\n"
     ]
    }
   ],
   "metadata": {}
  },
  {
   "cell_type": "markdown",
   "source": [
    "2 - What is the total world population<br>"
   ],
   "metadata": {}
  },
  {
   "cell_type": "code",
   "execution_count": 42,
   "source": [
    "import os\n",
    "import sqlite3\n",
    "\n",
    "conn = sqlite3.connect(\"world_populations.db\")\n",
    "c = conn.cursor()\n",
    "c.execute('''Select sum(migrants)\n",
    "/ sum(migrants) \n",
    "WHERE country in (\"Canada\", \"France\", \"Germany\", \"Italy\", \"Japan\", \"United Kingdom\", \"Unites States\")\n",
    "From pop_data \n",
    "''')\n",
    "\n",
    "print(c.fetchone()[0])\n"
   ],
   "outputs": [
    {
     "output_type": "error",
     "ename": "OperationalError",
     "evalue": "near \"From\": syntax error",
     "traceback": [
      "\u001b[0;31m---------------------------------------------------------------------------\u001b[0m",
      "\u001b[0;31mOperationalError\u001b[0m                          Traceback (most recent call last)",
      "\u001b[0;32m<ipython-input-42-f2df362d1504>\u001b[0m in \u001b[0;36m<module>\u001b[0;34m\u001b[0m\n\u001b[1;32m      4\u001b[0m \u001b[0mconn\u001b[0m \u001b[0;34m=\u001b[0m \u001b[0msqlite3\u001b[0m\u001b[0;34m.\u001b[0m\u001b[0mconnect\u001b[0m\u001b[0;34m(\u001b[0m\u001b[0;34m\"world_populations.db\"\u001b[0m\u001b[0;34m)\u001b[0m\u001b[0;34m\u001b[0m\u001b[0;34m\u001b[0m\u001b[0m\n\u001b[1;32m      5\u001b[0m \u001b[0mc\u001b[0m \u001b[0;34m=\u001b[0m \u001b[0mconn\u001b[0m\u001b[0;34m.\u001b[0m\u001b[0mcursor\u001b[0m\u001b[0;34m(\u001b[0m\u001b[0;34m)\u001b[0m\u001b[0;34m\u001b[0m\u001b[0;34m\u001b[0m\u001b[0m\n\u001b[0;32m----> 6\u001b[0;31m c.execute('''Select sum(migrants)\n\u001b[0m\u001b[1;32m      7\u001b[0m \u001b[0;34m/\u001b[0m \u001b[0msum\u001b[0m\u001b[0;34m(\u001b[0m\u001b[0mmigrants\u001b[0m\u001b[0;34m)\u001b[0m\u001b[0;34m\u001b[0m\u001b[0;34m\u001b[0m\u001b[0m\n\u001b[1;32m      8\u001b[0m \u001b[0mWHERE\u001b[0m \u001b[0mcountry\u001b[0m \u001b[0;32min\u001b[0m \u001b[0;34m(\u001b[0m\u001b[0;34m\"Canada\"\u001b[0m\u001b[0;34m,\u001b[0m \u001b[0;34m\"France\"\u001b[0m\u001b[0;34m,\u001b[0m \u001b[0;34m\"Germany\"\u001b[0m\u001b[0;34m,\u001b[0m \u001b[0;34m\"Italy\"\u001b[0m\u001b[0;34m,\u001b[0m \u001b[0;34m\"Japan\"\u001b[0m\u001b[0;34m,\u001b[0m \u001b[0;34m\"United Kingdom\"\u001b[0m\u001b[0;34m,\u001b[0m \u001b[0;34m\"Unites States\"\u001b[0m\u001b[0;34m)\u001b[0m\u001b[0;34m\u001b[0m\u001b[0;34m\u001b[0m\u001b[0m\n",
      "\u001b[0;31mOperationalError\u001b[0m: near \"From\": syntax error"
     ]
    }
   ],
   "metadata": {}
  },
  {
   "cell_type": "markdown",
   "source": [
    "3 - Top 10 countries by median age<br>"
   ],
   "metadata": {}
  },
  {
   "cell_type": "code",
   "execution_count": 63,
   "source": [
    "import os\n",
    "import sqlite3\n",
    "\n"
   ],
   "outputs": [
    {
     "output_type": "stream",
     "name": "stdout",
     "text": [
      "Japan - median age is 48\n",
      "Martinique - median age is 47\n",
      "Italy - median age is 47\n",
      "Portugal - median age is 46\n",
      "Greece - median age is 46\n",
      "Germany - median age is 46\n",
      "Slovenia - median age is 45\n",
      "Lithuania - median age is 45\n",
      "Bulgaria - median age is 45\n",
      "Hong Kong - median age is 45\n"
     ]
    }
   ],
   "metadata": {}
  },
  {
   "cell_type": "markdown",
   "source": [
    "4 - Top 10 countries where people left<br>"
   ],
   "metadata": {}
  },
  {
   "cell_type": "code",
   "execution_count": 66,
   "source": [
    "import os\n",
    "import sqlite3\n",
    "\n"
   ],
   "outputs": [
    {
     "output_type": "stream",
     "name": "stdout",
     "text": [
      "Japan - people who left -383840\n",
      "Ukraine - people who left -259876\n",
      "Romania - people who left -126866\n",
      "Italy - people who left -88249\n",
      "Venezuela - people who left -79889\n",
      "Puerto Rico - people who left -72555\n",
      "Bulgaria - people who left -51674\n",
      "Greece - people who left -50401\n",
      "Poland - people who left -41157\n",
      "Lithuania - people who left -37338\n"
     ]
    }
   ],
   "metadata": {}
  },
  {
   "cell_type": "markdown",
   "source": [
    "5 - Top 10 countries who took in migrants<br>"
   ],
   "metadata": {}
  },
  {
   "cell_type": "code",
   "execution_count": 69,
   "source": [
    "import os\n",
    "import sqlite3\n"
   ],
   "outputs": [
    {
     "output_type": "stream",
     "name": "stdout",
     "text": [
      "United States - migrants 954806\n",
      "Germany - migrants 543822\n",
      "Turkey - migrants 283922\n",
      "United Kingdom - migrants 260650\n",
      "Canada - migrants 242032\n",
      "Colombia - migrants 204796\n",
      "Russia - migrants 182456\n",
      "Uganda - migrants 168694\n",
      "Australia - migrants 158246\n",
      "Italy - migrants 148943\n"
     ]
    }
   ],
   "metadata": {}
  },
  {
   "cell_type": "markdown",
   "source": [
    "6 - Which countries with a population less than 10 million had the largest year_change pct<br>"
   ],
   "metadata": {}
  },
  {
   "cell_type": "code",
   "execution_count": 70,
   "source": [
    "import os\n",
    "import sqlite3\n"
   ],
   "outputs": [
    {
     "output_type": "stream",
     "name": "stdout",
     "text": [
      "Bahrain - year change 0.0368 - population - 1701575\n",
      "Equatorial Guinea - year change 0.0347 - population - 1402985\n",
      "Falkland Islands - year change 0.0305 - population - 3480\n",
      "Gambia - year change 0.0294 - population - 2416668\n",
      "Mauritania - year change 0.0274 - population - 4649658\n",
      "French Guiana - year change 0.027 - population - 298682\n",
      "Oman - year change 0.0265 - population - 5106626\n",
      "Congo - year change 0.0256 - population - 5518087\n",
      "Western Sahara - year change 0.0255 - population - 597339\n",
      "Solomon Islands - year change 0.0255 - population - 686884\n"
     ]
    }
   ],
   "metadata": {}
  },
  {
   "cell_type": "markdown",
   "source": [
    "<h2>Exercise</h2>\n",
    "Find the position of the 2 character string '20' \n",
    "in the following:\n",
    "<br>\n",
    "<code>\n",
    "stringOfNumbers = '32040230213340205020112'\n",
    "</code>"
   ],
   "metadata": {}
  },
  {
   "cell_type": "markdown",
   "source": [
    "<h4>Solution</h4>"
   ],
   "metadata": {}
  },
  {
   "cell_type": "code",
   "execution_count": 71,
   "source": [
    "stringOfNumbers = '32040230213340205020112'\n"
   ],
   "outputs": [
    {
     "output_type": "stream",
     "name": "stdout",
     "text": [
      "1 20\n",
      "2 20\n",
      "3 20\n",
      "There are 3 - 20's found in the following positions [1, 14, 18]\n"
     ]
    }
   ],
   "metadata": {}
  },
  {
   "cell_type": "markdown",
   "source": [
    "This notebook is part of a course at www.codeimmersives.com called SQL-NOSQL. If you accessed this notebook outside the course, you can get more information about this course online by clicking here."
   ],
   "metadata": {}
  },
  {
   "cell_type": "markdown",
   "source": [
    "<hr>\n",
    "\n",
    "Copyright &copy; 2021  Code Immersives"
   ],
   "metadata": {}
  }
 ],
 "metadata": {
  "kernelspec": {
   "name": "python3",
   "display_name": "Python 3.8.2 64-bit ('usr')"
  },
  "language_info": {
   "codemirror_mode": {
    "name": "ipython",
    "version": 3
   },
   "file_extension": ".py",
   "mimetype": "text/x-python",
   "name": "python",
   "nbconvert_exporter": "python",
   "pygments_lexer": "ipython3",
   "version": "3.8.2"
  },
  "interpreter": {
   "hash": "5edc29c2ed010d6458d71a83433b383a96a8cbd3efe8531bc90c4b8a5b8bcec9"
  }
 },
 "nbformat": 4,
 "nbformat_minor": 4
}