{
 "metadata": {
  "language_info": {
   "codemirror_mode": {
    "name": "ipython",
    "version": 3
   },
   "file_extension": ".py",
   "mimetype": "text/x-python",
   "name": "python",
   "nbconvert_exporter": "python",
   "pygments_lexer": "ipython3",
   "version": "3.8.2"
  },
  "orig_nbformat": 4,
  "kernelspec": {
   "name": "python3",
   "display_name": "Python 3.8.2 64-bit ('usr')"
  },
  "interpreter": {
   "hash": "5edc29c2ed010d6458d71a83433b383a96a8cbd3efe8531bc90c4b8a5b8bcec9"
  }
 },
 "nbformat": 4,
 "nbformat_minor": 2,
 "cells": [
  {
   "source": [
    "# Python Exercises\n",
    "Dates can be written differently depending where you are in the world. \n",
    "\n",
    "For example:\n",
    "- 05.05.2021 (the fifth of may 2021) \n",
    "- 03.05.2021 (the third of may 2021 -> Europe, the 5th of march 2021 -> US) \n",
    "- 05.03.2021 (the fifth of march 2021 -> Europe, the 3th of may 2021 -> US)\n",
    "\n",
    "\n",
    "1) Write a function that detects if a date (in 2021), written in the format NN.NN.NNNN, where n is a digit [0-9], is ambiguous\n",
    "and save all the dates of the year that are ambiguous and print to user. Also, reject invalid dates. \n",
    "\n",
    "        ~ 05.05.2021 -> non-ambiguous\n",
    "        ~ 03.05.2021 -> ambiguous\n",
    "        ~ 05.03.2021 -> ambiguous\n",
    "\n",
    "2) Add user input and use a try catch block to catch errors.\n",
    "\n",
    "Extra: Write a function that converts the format NN.NN.NNNN to a date such as \"the 5th of May, 2021\" (HINT: Use string formatting, and lists of strings)\n",
    "\n",
    "January - 31 days\n",
    "\n",
    "February - 28 days\n",
    "\n",
    "March - 31 days\n",
    "\n",
    "April - 30 days\n",
    "\n",
    "May - 31 days\n",
    "\n",
    "June - 30 days\n",
    "\n",
    "July - 31 days\n",
    "\n",
    "August - 31 days\n",
    "\n",
    "September - 30 days\n",
    "\n",
    "October - 31 days\n",
    "\n",
    "November - 30 days\n",
    "\n",
    "December - 31 days\n",
    "\n"
   ],
   "cell_type": "markdown",
   "metadata": {}
  },
  {
   "cell_type": "code",
   "execution_count": 19,
   "metadata": {},
   "outputs": [
    {
     "output_type": "stream",
     "name": "stdout",
     "text": [
      "This is not a valid date. May only has 31 days\n"
     ]
    }
   ],
   "source": [
    "# Will split string at periods to create list. \n",
    "\n",
    "# Ambigous if :\n",
    "    # - month AND day are <= 12\n",
    "\n",
    "# Not Ambigous if:\n",
    "    # - month == day\n",
    "    # - one is < = 12 and other is >= 13\n",
    "\n",
    "# Invalid if:\n",
    "    # - day exceeds days in month.\n",
    "    \n",
    "\n",
    "\n",
    "\n",
    "\n",
    "string = '32.05.2021'\n",
    "def is_date_ambiguous(strng = ''):\n",
    "    month_days_dict = { 1 : 31, 2 : 28, 3 : 31, 4 : 30, 5 : 31, 6 : 30, 7 : 31, 8 : 31, 9 : 30, 10 : 31, 11 : 30, 12 : 31}\n",
    "\n",
    "    month_dict = { 1: 'january' , 2 : 'febrauary', 3 : 'march', 4 : 'april', 5 : 'may', 6 : 'june', 7 : 'july', 8 : 'august', 9 : 'september', 10 : 'october', 11 : 'november', 12 : 'december'}\n",
    "\n",
    "    string_li = [int(x) for x in (string.split('.'))]\n",
    "    if len(string_li) > 3:\n",
    "        return \"This is not a valid date\"\n",
    "\n",
    "    if string_li[0] in range(1, 13) and string_li[1] in range(1, 13):\n",
    "        return \"This date is ambiguous\"\n",
    "    \n",
    "    if string_li[0] in range(1, 13) and string_li[1] > 12:\n",
    "        month = string_li[0]\n",
    "        day = string_li[1]\n",
    "        if day > month_days_dict.get(month):\n",
    "            return f'This is not a valid date. {month_dict.get(month).capitalize()} only has {month_days_dict.get(month)} days'\n",
    "        return 'This date is not ambiguous and is valid'\n",
    "\n",
    "    if string_li[1] in range(1, 13) and string_li[0] > 12:\n",
    "        month = string_li[1]\n",
    "        day = string_li[0]\n",
    "        if day > month_days_dict.get(month):\n",
    "            return f'This is not a valid date. {month_dict.get(month).capitalize()} only has {month_days_dict.get(month)} days'\n",
    "        return 'This date is not ambiguous and is valid'\n",
    "        \n",
    "        \n",
    "print(is_date_ambiguous(string))\n"
   ]
  },
  {
   "cell_type": "code",
   "execution_count": 4,
   "metadata": {},
   "outputs": [
    {
     "output_type": "stream",
     "name": "stdout",
     "text": [
      "[5, 5, 2021]\n"
     ]
    }
   ],
   "source": [
    "string = '05.05.2021'\n",
    "string_li = [int(x) for x in (string.split('.'))]\n",
    "print(string_li)"
   ]
  },
  {
   "cell_type": "code",
   "execution_count": null,
   "metadata": {},
   "outputs": [],
   "source": []
  }
 ]
}