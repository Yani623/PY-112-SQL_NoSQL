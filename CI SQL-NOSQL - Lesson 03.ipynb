{
 "cells": [
  {
   "cell_type": "markdown",
   "metadata": {},
   "source": [
    "<a href=\"https://codeimmersives.com\"><img src = \"https://www.codeimmersives.com/wp-content/uploads/2019/09/CodeImmersives_Logo_RGB_NYC_BW.png\" width = 400> </a>\n",
    "\n",
    "\n",
    "<h1 align=center><font size = 5>Agenda</font></h1>"
   ]
  },
  {
   "cell_type": "markdown",
   "metadata": {},
   "source": [
    "### Agenda\n",
    "<div class=\"alert alert-block alert-info\" style=\"margin-top: 20px\">\n",
    "\n",
    "1.  [Review](#0)<br>\n",
    "2.  [memory]\n",
    "3.  [SELECT DISTINCT](#2)<br>\n",
    "4.  [COUNT](#4) <br>\n",
    "5.  [ALTER TABLE](#6) <br>     \n",
    "6.  [MIN and CAST](#8) <br> \n",
    "7.  [MAX](#10) <br>\n",
    "8.  [AVG](#12) <br>\n",
    "9.  [SUM](#12) <br>\n",
    "10. [Exercise 1](#14) <br>    \n",
    "11. [Exercise 2](#16) <br>\n",
    "12. [Exercise 3](#18) <br>\n",
    "    \n",
    "</div>\n",
    "<hr>"
   ]
  },
  {
   "cell_type": "code",
   "execution_count": null,
   "metadata": {},
   "outputs": [],
   "source": []
  },
  {
   "cell_type": "code",
   "execution_count": null,
   "metadata": {},
   "outputs": [],
   "source": [
    "con = sqlite3.connect(\":memory:\")"
   ]
  },
  {
   "cell_type": "markdown",
   "metadata": {},
   "source": [
    "<h4>Back up the database</h4>"
   ]
  },
  {
   "cell_type": "code",
   "execution_count": 90,
   "metadata": {},
   "outputs": [
    {
     "name": "stdout",
     "output_type": "stream",
     "text": [
      "Copied 0 of 0 pages...\n"
     ]
    }
   ],
   "source": [
    "import sqlite3\n",
    "\n",
    "def progress(status, remaining, total):\n",
    "    print(f'Copied {total-remaining} of {total} pages...')\n",
    "\n",
    "conn = sqlite3.connect('existing_db.db')\n",
    "bck = sqlite3.connect('backup.db')\n",
    "with bck:\n",
    "    conn.backup(bck, pages=1, progress=progress)\n",
    "bck.close()\n",
    "conn.close()"
   ]
  },
  {
   "cell_type": "markdown",
   "metadata": {},
   "source": [
    "<h4>Copy a database to memory</h4>"
   ]
  },
  {
   "cell_type": "code",
   "execution_count": 25,
   "metadata": {},
   "outputs": [],
   "source": [
    "import sqlite3\n",
    "\n",
    "source = sqlite3.connect('existing_db.db')\n",
    "dest = sqlite3.connect(':memory:')\n",
    "source.backup(dest)"
   ]
  },
  {
   "cell_type": "markdown",
   "metadata": {},
   "source": [
    "<h4>Use executescript(sql) to run several scripts at once</h4> "
   ]
  },
  {
   "cell_type": "code",
   "execution_count": 15,
   "metadata": {},
   "outputs": [
    {
     "output_type": "stream",
     "name": "stdout",
     "text": [
      "Dirk Gently's Holistic Detective Agency\nDouglas Adams\n1987\n"
     ]
    }
   ],
   "source": [
    "import sqlite3\n",
    "\n",
    "conn = sqlite3.connect(\":memory:\")\n",
    "c = conn.cursor()\n",
    "c.executescript('''\n",
    "    create table person(\n",
    "        firstname,\n",
    "        lastname,\n",
    "        age\n",
    "    );\n",
    "\n",
    "    create table book(\n",
    "        title,\n",
    "        author,\n",
    "        published\n",
    "    );\n",
    "\n",
    "    insert into book(title, author, published)\n",
    "    values (\n",
    "        'Dirk Gently''s Holistic Detective Agency',\n",
    "        'Douglas Adams',\n",
    "        1987\n",
    "    );\n",
    " ''')\n",
    "conn.commit()\n",
    "c.close()   # <=== cursor is closed\n",
    "\n",
    "c = conn.cursor()\n",
    "c.execute('select * from book')\n",
    "r = c.fetchone()\n",
    "for member in r:\n",
    "    print(member)"
   ]
  },
  {
   "source": [
    "import sqlite3\n",
    "\n",
    "conn = sqlite3.connect(\"Library.db\")\n",
    "c = conn.cursor()\n",
    "\n",
    "c.execute(\"Drop Table If Exists Books\")\n",
    "c.execute(\"\"\"Create Table If Not Exists Books(\n",
    "    id Text,\n",
    "    Title Text,\n",
    "    Author Text)\n",
    "\"\"\")\n",
    "\n",
    "# Usingn c.executescript() to run multiple executes.\n",
    "c.executescript(\"\"\"Create Table If Not Exists Books(\n",
    "    id Text,\n",
    "    Title Text,\n",
    "    Author Text);\n",
    "\n",
    "    Insert Into Books Values('001', 'Outliers', 'Malcolm Gladwell'),\n",
    "    ('002', 'Humble Pie', 'Matt Parker'),\n",
    "    ('003', '52 Small Changes', 'Brett Blumenthal'),\n",
    "    ('004', 'Blink', 'Malcolm Gladwell'),\n",
    "    ('005', 'The Tipping Point', 'Malcolm Gladwell'),\n",
    "    ('006', 'All the Powers of Earth', 'Sidney Blumenthal');\n",
    "\"\"\")\n",
    "\n",
    "conn.commit()\n",
    "c.execute('select * from Books')\n",
    "print(c.fetchall())\n",
    "conn.close()\n",
    "\n",
    "\n",
    "\n"
   ],
   "cell_type": "code",
   "metadata": {},
   "execution_count": null,
   "outputs": []
  },
  {
   "cell_type": "markdown",
   "metadata": {},
   "source": [
    "<h4>Exercise<br>\n",
    "Create a database called Library.db<br>\n",
    "Create a table named 'Books' it has 3 fields (id TEXT, Title TEXT and Author TEXT)<br>\n",
    "id, Title, Author<br>\n",
    "001, Outliers, Malcolm Gladwell<br>\n",
    "002, Humble Pie, Matt Parker<br>\n",
    "003, 52 Small Changes, Brett Blumenthal<br>\n",
    "004, Blink, Malcolm Gladwell<br>\n",
    "005, The Tipping Point, Malcolm Gladwell<br>\n",
    "006, All the Powers of Earth, Sidney Blumenthal\n",
    "\n",
    "\n",
    "</h4>"
   ]
  },
  {
   "cell_type": "code",
   "execution_count": 21,
   "metadata": {},
   "outputs": [],
   "source": [
    "\n"
   ]
  },
  {
   "cell_type": "markdown",
   "metadata": {},
   "source": [
    "<h4>Use the SELECT count() to add a total count of all items in the table with or without a qualifier"
   ]
  },
  {
   "cell_type": "code",
   "execution_count": 60,
   "metadata": {},
   "outputs": [
    {
     "name": "stdout",
     "output_type": "stream",
     "text": [
      "(18,)\n",
      "==============================\n"
     ]
    }
   ],
   "source": []
  },
  {
   "cell_type": "code",
   "execution_count": 32,
   "metadata": {},
   "outputs": [
    {
     "output_type": "stream",
     "name": "stdout",
     "text": [
      "(6,)\n==============================\n"
     ]
    }
   ],
   "source": [
    "import sqlite3\n",
    "\n",
    "conn = sqlite3.connect(r\"library.db\")\n",
    "c = conn.cursor()\n",
    "c.execute('SELECT count(DISTINCT id) FROM books')  # Counts all values in the table based on the expression\n",
    "books = c.fetchall()\n",
    "#\n",
    "for book in books:\n",
    "    print(book)\n",
    "    print('='*30)\n",
    "conn.close()"
   ]
  },
  {
   "cell_type": "markdown",
   "metadata": {},
   "source": [
    "<h4>ALTER TABLE</H4>"
   ]
  },
  {
   "cell_type": "markdown",
   "metadata": {},
   "source": [
    "<H4>ALTER TABLE to rename a table</H4>"
   ]
  },
  {
   "cell_type": "code",
   "execution_count": 66,
   "metadata": {},
   "outputs": [
    {
     "name": "stdout",
     "output_type": "stream",
     "text": [
      "('001', 'Outliers', 'Malcolm Gladwell')\n",
      "==============================\n",
      "('002', 'Humble Pie', 'Matt Parker')\n",
      "==============================\n",
      "('003', '52 Small Changes', 'Brett Blumenthal')\n",
      "==============================\n",
      "('004', 'Blink', 'Malcolm Gladwell')\n",
      "==============================\n",
      "('005', 'The Tipping Point', 'Malcolm Gladwell')\n",
      "==============================\n",
      "('006', 'All the Powers of Earth', 'Sidney Blumenthal')\n",
      "==============================\n",
      "('001', 'Outliers', 'Malcolm Gladwell')\n",
      "==============================\n",
      "('002', 'Humble Pie', 'Matt Parker')\n",
      "==============================\n",
      "('003', '52 Small Changes', 'Brett Blumenthal')\n",
      "==============================\n",
      "('004', 'Blink', 'Malcolm Gladwell')\n",
      "==============================\n",
      "('005', 'The Tipping Point', 'Malcolm Gladwell')\n",
      "==============================\n",
      "('006', 'All the Powers of Earth', 'Sidney Blumenthal')\n",
      "==============================\n",
      "('001', 'Outliers', 'Malcolm Gladwell')\n",
      "==============================\n",
      "('002', 'Humble Pie', 'Matt Parker')\n",
      "==============================\n",
      "('003', '52 Small Changes', 'Brett Blumenthal')\n",
      "==============================\n",
      "('004', 'Blink', 'Malcolm Gladwell')\n",
      "==============================\n",
      "('005', 'The Tipping Point', 'Malcolm Gladwell')\n",
      "==============================\n",
      "('006', 'All the Powers of Earth', 'Sidney Blumenthal')\n",
      "==============================\n"
     ]
    }
   ],
   "source": [
    "import sqlite3\n",
    "\n",
    "conn = sqlite3.connect(r\"library.db\")\n",
    "c = conn.cursor()\n",
    "\n",
    "# c.execute('ALTER TABLE my_books RENAME TO books')  \n",
    "# conn.commit()\n",
    "\n",
    "c.execute('ALTER TABLE books RENAME TO my_books')  \n",
    "conn.commit()\n",
    "c.execute('SELECT * FROM my_books')  \n",
    "books = c.fetchall()\n",
    "#\n",
    "for book in books:\n",
    "    print(book)\n",
    "    print('='*30)\n",
    "\n",
    "# Rename it back to books\n",
    "c.execute('ALTER TABLE my_books RENAME TO books')  \n",
    "conn.commit()\n",
    "conn.close()\n"
   ]
  },
  {
   "cell_type": "markdown",
   "metadata": {},
   "source": [
    "<H4>ALTER TABLE RENAME|ADD COLUMN</H4>\n",
    "NOTE: DROP COLUMN is not supported in SQLite!!!"
   ]
  },
  {
   "cell_type": "code",
   "execution_count": 70,
   "metadata": {},
   "outputs": [
    {
     "name": "stdout",
     "output_type": "stream",
     "text": [
      "('001', 'Outliers', 'Malcolm Gladwell')\n",
      "==============================\n",
      "('002', 'Humble Pie', 'Matt Parker')\n",
      "==============================\n",
      "('003', '52 Small Changes', 'Brett Blumenthal')\n",
      "==============================\n",
      "('004', 'Blink', 'Malcolm Gladwell')\n",
      "==============================\n",
      "('005', 'The Tipping Point', 'Malcolm Gladwell')\n",
      "==============================\n",
      "('006', 'All the Powers of Earth', 'Sidney Blumenthal')\n",
      "==============================\n",
      "('001', 'Outliers', 'Malcolm Gladwell')\n",
      "==============================\n",
      "('002', 'Humble Pie', 'Matt Parker')\n",
      "==============================\n",
      "('003', '52 Small Changes', 'Brett Blumenthal')\n",
      "==============================\n",
      "('004', 'Blink', 'Malcolm Gladwell')\n",
      "==============================\n",
      "('005', 'The Tipping Point', 'Malcolm Gladwell')\n",
      "==============================\n",
      "('006', 'All the Powers of Earth', 'Sidney Blumenthal')\n",
      "==============================\n",
      "('001', 'Outliers', 'Malcolm Gladwell')\n",
      "==============================\n",
      "('002', 'Humble Pie', 'Matt Parker')\n",
      "==============================\n",
      "('003', '52 Small Changes', 'Brett Blumenthal')\n",
      "==============================\n",
      "('004', 'Blink', 'Malcolm Gladwell')\n",
      "==============================\n",
      "('005', 'The Tipping Point', 'Malcolm Gladwell')\n",
      "==============================\n",
      "('006', 'All the Powers of Earth', 'Sidney Blumenthal')\n",
      "==============================\n",
      "('001', 'Outliers', 'Malcolm Gladwell')\n",
      "==============================\n",
      "('002', 'Humble Pie', 'Matt Parker')\n",
      "==============================\n",
      "('003', '52 Small Changes', 'Brett Blumenthal')\n",
      "==============================\n",
      "('004', 'Blink', 'Malcolm Gladwell')\n",
      "==============================\n",
      "('005', 'The Tipping Point', 'Malcolm Gladwell')\n",
      "==============================\n",
      "('006', 'All the Powers of Earth', 'Sidney Blumenthal')\n",
      "==============================\n",
      "('001', 'Outliers', 'Malcolm Gladwell')\n",
      "==============================\n",
      "('002', 'Humble Pie', 'Matt Parker')\n",
      "==============================\n",
      "('003', '52 Small Changes', 'Brett Blumenthal')\n",
      "==============================\n",
      "('004', 'Blink', 'Malcolm Gladwell')\n",
      "==============================\n",
      "('005', 'The Tipping Point', 'Malcolm Gladwell')\n",
      "==============================\n",
      "('006', 'All the Powers of Earth', 'Sidney Blumenthal')\n",
      "==============================\n",
      "('001', 'Outliers', 'Malcolm Gladwell')\n",
      "==============================\n",
      "('002', 'Humble Pie', 'Matt Parker')\n",
      "==============================\n",
      "('003', '52 Small Changes', 'Brett Blumenthal')\n",
      "==============================\n",
      "('004', 'Blink', 'Malcolm Gladwell')\n",
      "==============================\n",
      "('005', 'The Tipping Point', 'Malcolm Gladwell')\n",
      "==============================\n",
      "('006', 'All the Powers of Earth', 'Sidney Blumenthal')\n",
      "==============================\n"
     ]
    }
   ],
   "source": [
    "import sqlite3\n",
    "\n",
    "conn = sqlite3.connect(r\"library.db\")\n",
    "c = conn.cursor()\n",
    "c.execute('ALTER TABLE books RENAME COLUMN title TO sub_title')\n",
    "conn.commit()\n",
    "c.execute('SELECT * FROM books')\n",
    "books = c.fetchall()\n",
    "#\n",
    "for book in books:\n",
    "    print(book)\n",
    "    print('='*30)\n",
    "    \n",
    "# Rename it back\n",
    "c.execute('ALTER TABLE books RENAME COLUMN sub_title TO title')  \n",
    "conn.commit()\n",
    "c.execute('SELECT * FROM books')\n",
    "books = c.fetchall()\n",
    "#\n",
    "for book in books:\n",
    "    print(book)\n",
    "    print('='*30)\n",
    "conn.close()"
   ]
  },
  {
   "cell_type": "code",
   "execution_count": 33,
   "metadata": {},
   "outputs": [
    {
     "output_type": "stream",
     "name": "stdout",
     "text": [
      "('001', 'Outliers', 'Malcolm Gladwell', None, None)\n==============================\n('002', 'Humble Pie', 'Matt Parker', None, None)\n==============================\n('003', '52 Small Changes', 'Brett Blumenthal', None, None)\n==============================\n('004', 'Blink', 'Malcolm Gladwell', None, None)\n==============================\n('005', 'The Tipping Point', 'Malcolm Gladwell', None, None)\n==============================\n('006', 'All the Powers of Earth', 'Sidney Blumenthal', None, None)\n==============================\n"
     ]
    }
   ],
   "source": [
    "import sqlite3\n",
    "\n",
    "conn = sqlite3.connect(r\"library.db\")\n",
    "c = conn.cursor()\n",
    "c.execute('ALTER TABLE books ADD COLUMN price TEXT') # This can be REAL type as well\n",
    "conn.commit()\n",
    "c.execute('ALTER TABLE books ADD COLUMN ebook_price TEXT') # This can be REAL type as well\n",
    "conn.commit()\n",
    "c.execute('SELECT * FROM books')\n",
    "books = c.fetchall()\n",
    "#\n",
    "for book in books:\n",
    "    print(book)\n",
    "    print('='*30)\n",
    "    \n",
    "conn.close()"
   ]
  },
  {
   "cell_type": "markdown",
   "metadata": {},
   "source": [
    "<H4>Exercise</H4>\n",
    "Set price of all Gladwell books at 12.99<br>\n",
    "Set the price of all Blumnethal books at 9.99<br>\n",
    "Set the price of Matt Parker's book at 7.99<br>"
   ]
  },
  {
   "cell_type": "code",
   "execution_count": 38,
   "metadata": {},
   "outputs": [
    {
     "output_type": "stream",
     "name": "stdout",
     "text": [
      "('001', 'Outliers', 'Malcolm Gladwell', '12.99', None)\n==============================\n('002', 'Humble Pie', 'Matt Parker', '7.99', None)\n==============================\n('003', '52 Small Changes', 'Brett Blumenthal', '9.99', None)\n==============================\n('004', 'Blink', 'Malcolm Gladwell', '12.99', None)\n==============================\n('005', 'The Tipping Point', 'Malcolm Gladwell', '12.99', None)\n==============================\n('006', 'All the Powers of Earth', 'Sidney Blumenthal', '9.99', None)\n==============================\n"
     ]
    }
   ],
   "source": [
    "import sqlite3\n",
    "\n",
    "conn = sqlite3.connect(r\"library.db\")\n",
    "c = conn.cursor()\n",
    "\n",
    "c.executescript(\"\"\"Update Books Set \n",
    "price = '12.99'\n",
    "Where Author Like '%Gladwell';\n",
    "\n",
    "Update Books Set \n",
    "price = '9.99'\n",
    "Where Author Like '%Blumenthal'; \n",
    "\n",
    "Update Books Set \n",
    "price = '7.99'\n",
    "Where Author = 'Matt Parker';\n",
    "\n",
    "\"\"\")\n",
    "# '%' before the name specifies 'ends in'\n",
    "c.execute('SELECT * FROM books')\n",
    "books = c.fetchall()\n",
    "#\n",
    "for book in books:\n",
    "    print(book)\n",
    "    print('='*30)\n",
    "    \n",
    "conn.close()"
   ]
  },
  {
   "cell_type": "markdown",
   "metadata": {},
   "source": [
    "<h4>MIN, MAX, CAST</H4>"
   ]
  },
  {
   "cell_type": "code",
   "execution_count": 84,
   "metadata": {},
   "outputs": [
    {
     "name": "stdout",
     "output_type": "stream",
     "text": [
      "(7.99,)\n",
      "==============================\n",
      "(12.99,)\n",
      "==============================\n"
     ]
    }
   ],
   "source": [
    "import sqlite3\n",
    "\n",
    "conn = sqlite3.connect(r\"library.db\")\n",
    "c = conn.cursor()\n",
    "c.execute('SELECT MIN(CAST(price as REAL)) FROM books')\n",
    "books = c.fetchall()\n",
    "#\n",
    "for book in books:\n",
    "    print(book)\n",
    "    print('='*30)\n",
    "c.execute('SELECT MAX(CAST(price as REAL)) FROM books')\n",
    "books = c.fetchall()\n",
    "#\n",
    "for book in books:\n",
    "    print(book)\n",
    "    print('='*30)\n",
    "conn.close()"
   ]
  },
  {
   "cell_type": "markdown",
   "metadata": {},
   "source": [
    "<h4>SUM, AVG</H4>"
   ]
  },
  {
   "cell_type": "code",
   "execution_count": 85,
   "metadata": {},
   "outputs": [
    {
     "name": "stdout",
     "output_type": "stream",
     "text": [
      "(200.82000000000002,)\n",
      "==============================\n",
      "(11.156666666666668,)\n",
      "==============================\n"
     ]
    }
   ],
   "source": [
    "import sqlite3\n",
    "\n",
    "conn = sqlite3.connect(r\"C:\\Projects\\Code immersives\\SQLite\\library.db\")\n",
    "c = conn.cursor()\n",
    "c.execute('SELECT SUM(CAST(price as REAL)) FROM books')\n",
    "books = c.fetchall()\n",
    "#\n",
    "for book in books:\n",
    "    print(book)\n",
    "    print('='*30)\n",
    "c.execute('SELECT AVG(CAST(price as REAL)) FROM books')\n",
    "books = c.fetchall()\n",
    "#\n",
    "for book in books:\n",
    "    print(book)\n",
    "    print('='*30)\n",
    "conn.close()"
   ]
  },
  {
   "cell_type": "markdown",
   "metadata": {},
   "source": [
    "This notebook is part of a course at www.codeimmersives.com called SQL-NOSQL. If you accessed this notebook outside the course, you can get more information about this course online by clicking here."
   ]
  },
  {
   "cell_type": "markdown",
   "metadata": {},
   "source": [
    "<hr>\n",
    "\n",
    "Copyright &copy; 2021  Code Immersives"
   ]
  }
 ],
 "metadata": {
  "kernelspec": {
   "name": "python3",
   "display_name": "Python 3.8.2 64-bit ('usr')"
  },
  "language_info": {
   "codemirror_mode": {
    "name": "ipython",
    "version": 3
   },
   "file_extension": ".py",
   "mimetype": "text/x-python",
   "name": "python",
   "nbconvert_exporter": "python",
   "pygments_lexer": "ipython3",
   "version": "3.8.2"
  },
  "interpreter": {
   "hash": "5edc29c2ed010d6458d71a83433b383a96a8cbd3efe8531bc90c4b8a5b8bcec9"
  }
 },
 "nbformat": 4,
 "nbformat_minor": 4
}