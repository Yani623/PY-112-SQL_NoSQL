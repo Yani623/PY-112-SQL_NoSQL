{
 "cells": [
  {
   "cell_type": "markdown",
   "metadata": {},
   "source": [
    "<a href=\"https://codeimmersives.com\"><img src = \"https://www.codeimmersives.com/wp-content/uploads/2019/09/CodeImmersives_Logo_RGB_NYC_BW.png\" width = 400> </a>\n",
    "\n",
    "\n",
    "<h1 align=center><font size = 5>Exercise</font></h1>"
   ]
  },
  {
   "cell_type": "markdown",
   "metadata": {},
   "source": [
    "#### Note: Import data using [Titanic.csv](#)\n",
    "\n"
   ]
  },
  {
   "cell_type": "markdown",
   "metadata": {},
   "source": [
    "\n",
    "\n",
    "### Step 1. Create a db named Titanic.db\n"
   ]
  },
  {
   "cell_type": "code",
   "execution_count": 26,
   "metadata": {},
   "outputs": [],
   "source": [
    "# conn = sqlite3.connect(\"Titanic.db\")\n",
    "# c = conn.cursor()"
   ]
  },
  {
   "cell_type": "markdown",
   "metadata": {},
   "source": [
    "###  Step 2. create a table named passengers that has three fields (Passengerid TEXT, Name TEXT, Age TEXT)"
   ]
  },
  {
   "cell_type": "code",
   "execution_count": 3,
   "metadata": {},
   "outputs": [
    {
     "output_type": "stream",
     "name": "stdout",
     "text": [
      "0\n0\n"
     ]
    }
   ],
   "source": [
    "\n",
    "import sqlite3\n",
    "import csv\n",
    "import pprint\n",
    "\n",
    "conn = sqlite3.connect(\"Titanic.db\")\n",
    "c = conn.cursor()\n",
    "\n",
    "c.execute(\"DROP TABLE If Exists passengers\")\n",
    "c.execute(\"\"\"Create Table If Not Exists passengers (\n",
    "    PassengerID Text,\n",
    "    Name Text,\n",
    "    Age Text)\n",
    "\"\"\")\n",
    "\n",
    "\n",
    "conn.commit()\n",
    "conn.close()"
   ]
  },
  {
   "cell_type": "markdown",
   "metadata": {},
   "source": [
    "### Step 3. Read data from titanic.csv ( passengerid, name, age ) and insert into passengers table you created\n"
   ]
  },
  {
   "cell_type": "code",
   "execution_count": 3,
   "metadata": {
    "tags": [
     "outputPrepend"
    ]
   },
   "outputs": [
    {
     "output_type": "stream",
     "name": "stdout",
     "text": [
      "r, Mr. Maurice\", ''),\n ('461', 'Anderson, Mr. Harry', '48'),\n ('462', 'Morley, Mr. William', '34'),\n ('463', 'Gee, Mr. Arthur H', '47'),\n ('464', 'Milling, Mr. Jacob Christian', '48'),\n ('465', 'Maisner, Mr. Simon', ''),\n ('466', 'Goncalves, Mr. Manuel Estanslas', '38'),\n ('467', 'Campbell, Mr. William', ''),\n ('468', 'Smart, Mr. John Montgomery', '56'),\n ('469', 'Scanlan, Mr. James', ''),\n ('470', 'Baclini, Miss. Helene Barbara', '0.75'),\n ('471', 'Keefe, Mr. Arthur', ''),\n ('472', 'Cacic, Mr. Luka', '38'),\n ('473', 'West, Mrs. Edwy Arthur (Ada Mary Worth)', '33'),\n ('474', 'Jerwan, Mrs. Amin S (Marie Marthe Thuillard)', '23'),\n ('475', 'Strandberg, Miss. Ida Sofia', '22'),\n ('476', 'Clifford, Mr. George Quincy', ''),\n ('477', 'Renouf, Mr. Peter Henry', '34'),\n ('478', 'Braund, Mr. Lewis Richard', '29'),\n ('479', 'Karlsson, Mr. Nils August', '22'),\n ('480', 'Hirvonen, Miss. Hildur E', '2'),\n ('481', 'Goodwin, Master. Harold Victor', '9'),\n ('482', 'Frost, Mr. Anthony Wood \"Archie\"', ''),\n ('483', 'Rouse, Mr. Richard Henry', '50'),\n ('484', 'Turkula, Mrs. (Hedwig)', '63'),\n ('485', 'Bishop, Mr. Dickinson H', '25'),\n ('486', 'Lefebre, Miss. Jeannie', ''),\n ('487', 'Hoyt, Mrs. Frederick Maxfield (Jane Anne Forby)', '35'),\n ('488', 'Kent, Mr. Edward Austin', '58'),\n ('489', 'Somerton, Mr. Francis William', '30'),\n ('490', 'Coutts, Master. Eden Leslie \"Neville\"', '9'),\n ('491', 'Hagland, Mr. Konrad Mathias Reiersen', ''),\n ('492', 'Windelov, Mr. Einar', '21'),\n ('493', 'Molson, Mr. Harry Markland', '55'),\n ('494', 'Artagaveytia, Mr. Ramon', '71'),\n ('495', 'Stanley, Mr. Edward Roland', '21'),\n ('496', 'Yousseff, Mr. Gerious', ''),\n ('497', 'Eustis, Miss. Elizabeth Mussey', '54'),\n ('498', 'Shellard, Mr. Frederick William', ''),\n ('499', 'Allison, Mrs. Hudson J C (Bessie Waldo Daniels)', '25'),\n ('500', 'Svensson, Mr. Olof', '24'),\n ('501', 'Calic, Mr. Petar', '17'),\n ('502', 'Canavan, Miss. Mary', '21'),\n ('503', \"O'Sullivan, Miss. Bridget Mary\", ''),\n ('504', 'Laitinen, Miss. Kristina Sofia', '37'),\n ('505', 'Maioni, Miss. Roberta', '16'),\n ('506', 'Penasco y Castellana, Mr. Victor de Satode', '18'),\n ('507', 'Quick, Mrs. Frederick Charles (Jane Richards)', '33'),\n ('508', 'Bradley, Mr. George (\"George Arthur Brayton\")', ''),\n ('509', 'Olsen, Mr. Henry Margido', '28'),\n ('510', 'Lang, Mr. Fang', '26'),\n ('511', 'Daly, Mr. Eugene Patrick', '29'),\n ('512', 'Webber, Mr. James', ''),\n ('513', 'McGough, Mr. James Robert', '36'),\n ('514', 'Rothschild, Mrs. Martin (Elizabeth L. Barrett)', '54'),\n ('515', 'Coleff, Mr. Satio', '24'),\n ('516', 'Walker, Mr. William Anderson', '47'),\n ('517', 'Lemore, Mrs. (Amelia Milley)', '34'),\n ('518', 'Ryan, Mr. Patrick', ''),\n ('519', 'Angle, Mrs. William A (Florence \"Mary\" Agnes Hughes)', '36'),\n ('520', 'Pavlovic, Mr. Stefo', '32'),\n ('521', 'Perreault, Miss. Anne', '30'),\n ('522', 'Vovk, Mr. Janko', '22'),\n ('523', 'Lahoud, Mr. Sarkis', ''),\n ('524', 'Hippach, Mrs. Louis Albert (Ida Sophia Fischer)', '44'),\n ('525', 'Kassem, Mr. Fared', ''),\n ('526', 'Farrell, Mr. James', '40.5'),\n ('527', 'Ridsdale, Miss. Lucy', '50'),\n ('528', 'Farthing, Mr. John', ''),\n ('529', 'Salonen, Mr. Johan Werner', '39'),\n ('530', 'Hocking, Mr. Richard George', '23'),\n ('531', 'Quick, Miss. Phyllis May', '2'),\n ('532', 'Toufik, Mr. Nakli', ''),\n ('533', 'Elias, Mr. Joseph Jr', '17'),\n ('534', 'Peter, Mrs. Catherine (Catherine Rizk)', ''),\n ('535', 'Cacic, Miss. Marija', '30'),\n ('536', 'Hart, Miss. Eva Miriam', '7'),\n ('537', 'Butt, Major. Archibald Willingham', '45'),\n ('538', 'LeRoy, Miss. Bertha', '30'),\n ('539', 'Risien, Mr. Samuel Beard', ''),\n ('540', 'Frolicher, Miss. Hedwig Margaritha', '22'),\n ('541', 'Crosby, Miss. Harriet R', '36'),\n ('542', 'Andersson, Miss. Ingeborg Constanzia', '9'),\n ('543', 'Andersson, Miss. Sigrid Elisabeth', '11'),\n ('544', 'Beane, Mr. Edward', '32'),\n ('545', 'Douglas, Mr. Walter Donald', '50'),\n ('546', 'Nicholson, Mr. Arthur Ernest', '64'),\n ('547', 'Beane, Mrs. Edward (Ethel Clarke)', '19'),\n ('548', 'Padro y Manent, Mr. Julian', ''),\n ('549', 'Goldsmith, Mr. Frank John', '33'),\n ('550', 'Davies, Master. John Morgan Jr', '8'),\n ('551', 'Thayer, Mr. John Borland Jr', '17'),\n ('552', 'Sharp, Mr. Percival James R', '27'),\n ('553', \"O'Brien, Mr. Timothy\", ''),\n ('554', 'Leeni, Mr. Fahim (\"Philip Zenni\")', '22'),\n ('555', 'Ohman, Miss. Velin', '22'),\n ('556', 'Wright, Mr. George', '62'),\n ('557',\n  'Duff Gordon, Lady. (Lucille Christiana Sutherland) (\"Mrs Morgan\")',\n  '48'),\n ('558', 'Robbins, Mr. Victor', ''),\n ('559', 'Taussig, Mrs. Emil (Tillie Mandelbaum)', '39'),\n ('560', 'de Messemaeker, Mrs. Guillaume Joseph (Emma)', '36'),\n ('561', 'Morrow, Mr. Thomas Rowan', ''),\n ('562', 'Sivic, Mr. Husein', '40'),\n ('563', 'Norman, Mr. Robert Douglas', '28'),\n ('564', 'Simmons, Mr. John', ''),\n ('565', 'Meanwell, Miss. (Marion Ogden)', ''),\n ('566', 'Davies, Mr. Alfred J', '24'),\n ('567', 'Stoytcheff, Mr. Ilia', '19'),\n ('568', 'Palsson, Mrs. Nils (Alma Cornelia Berglund)', '29'),\n ('569', 'Doharr, Mr. Tannous', ''),\n ('570', 'Jonsson, Mr. Carl', '32'),\n ('571', 'Harris, Mr. George', '62'),\n ('572', 'Appleton, Mrs. Edward Dale (Charlotte Lamson)', '53'),\n ('573', 'Flynn, Mr. John Irwin (\"Irving\")', '36'),\n ('574', 'Kelly, Miss. Mary', ''),\n ('575', 'Rush, Mr. Alfred George John', '16'),\n ('576', 'Patchett, Mr. George', '19'),\n ('577', 'Garside, Miss. Ethel', '34'),\n ('578', 'Silvey, Mrs. William Baird (Alice Munger)', '39'),\n ('579', 'Caram, Mrs. Joseph (Maria Elias)', ''),\n ('580', 'Jussila, Mr. Eiriik', '32'),\n ('581', 'Christy, Miss. Julie Rachel', '25'),\n ('582', 'Thayer, Mrs. John Borland (Marian Longstreth Morris)', '39'),\n ('583', 'Downton, Mr. William James', '54'),\n ('584', 'Ross, Mr. John Hugo', '36'),\n ('585', 'Paulner, Mr. Uscher', ''),\n ('586', 'Taussig, Miss. Ruth', '18'),\n ('587', 'Jarvis, Mr. John Denzil', '47'),\n ('588', 'Frolicher-Stehli, Mr. Maxmillian', '60'),\n ('589', 'Gilinski, Mr. Eliezer', '22'),\n ('590', 'Murdlin, Mr. Joseph', ''),\n ('591', 'Rintamaki, Mr. Matti', '35'),\n ('592', 'Stephenson, Mrs. Walter Bertram (Martha Eustis)', '52'),\n ('593', 'Elsbury, Mr. William James', '47'),\n ('594', 'Bourke, Miss. Mary', ''),\n ('595', 'Chapman, Mr. John Henry', '37'),\n ('596', 'Van Impe, Mr. Jean Baptiste', '36'),\n ('597', 'Leitch, Miss. Jessie Wills', ''),\n ('598', 'Johnson, Mr. Alfred', '49'),\n ('599', 'Boulos, Mr. Hanna', ''),\n ('600', 'Duff Gordon, Sir. Cosmo Edmund (\"Mr Morgan\")', '49'),\n ('601', 'Jacobsohn, Mrs. Sidney Samuel (Amy Frances Christy)', '24'),\n ('602', 'Slabenoff, Mr. Petco', ''),\n ('603', 'Harrington, Mr. Charles H', ''),\n ('604', 'Torber, Mr. Ernst William', '44'),\n ('605', 'Homer, Mr. Harry (\"Mr E Haven\")', '35'),\n ('606', 'Lindell, Mr. Edvard Bengtsson', '36'),\n ('607', 'Karaic, Mr. Milan', '30'),\n ('608', 'Daniel, Mr. Robert Williams', '27'),\n ('609', 'Laroche, Mrs. Joseph (Juliette Marie Louise Lafargue)', '22'),\n ('610', 'Shutes, Miss. Elizabeth W', '40'),\n ('611', 'Andersson, Mrs. Anders Johan (Alfrida Konstantia Brogren)', '39'),\n ('612', 'Jardin, Mr. Jose Neto', ''),\n ('613', 'Murphy, Miss. Margaret Jane', ''),\n ('614', 'Horgan, Mr. John', ''),\n ('615', 'Brocklebank, Mr. William Alfred', '35'),\n ('616', 'Herman, Miss. Alice', '24'),\n ('617', 'Danbom, Mr. Ernst Gilbert', '34'),\n ('618', 'Lobb, Mrs. William Arthur (Cordelia K Stanlick)', '26'),\n ('619', 'Becker, Miss. Marion Louise', '4'),\n ('620', 'Gavey, Mr. Lawrence', '26'),\n ('621', 'Yasbeck, Mr. Antoni', '27'),\n ('622', 'Kimball, Mr. Edwin Nelson Jr', '42'),\n ('623', 'Nakid, Mr. Sahid', '20'),\n ('624', 'Hansen, Mr. Henry Damsgaard', '21'),\n ('625', 'Bowen, Mr. David John \"Dai\"', '21'),\n ('626', 'Sutton, Mr. Frederick', '61'),\n ('627', 'Kirkland, Rev. Charles Leonard', '57'),\n ('628', 'Longley, Miss. Gretchen Fiske', '21'),\n ('629', 'Bostandyeff, Mr. Guentcho', '26'),\n ('630', \"O'Connell, Mr. Patrick D\", ''),\n ('631', 'Barkworth, Mr. Algernon Henry Wilson', '80'),\n ('632', 'Lundahl, Mr. Johan Svensson', '51'),\n ('633', 'Stahelin-Maeglin, Dr. Max', '32'),\n ('634', 'Parr, Mr. William Henry Marsh', ''),\n ('635', 'Skoog, Miss. Mabel', '9'),\n ('636', 'Davis, Miss. Mary', '28'),\n ('637', 'Leinonen, Mr. Antti Gustaf', '32'),\n ('638', 'Collyer, Mr. Harvey', '31'),\n ('639', 'Panula, Mrs. Juha (Maria Emilia Ojala)', '41'),\n ('640', 'Thorneycroft, Mr. Percival', ''),\n ('641', 'Jensen, Mr. Hans Peder', '20'),\n ('642', 'Sagesser, Mlle. Emma', '24'),\n ('643', 'Skoog, Miss. Margit Elizabeth', '2'),\n ('644', 'Foo, Mr. Choong', ''),\n ('645', 'Baclini, Miss. Eugenie', '0.75'),\n ('646', 'Harper, Mr. Henry Sleeper', '48'),\n ('647', 'Cor, Mr. Liudevit', '19'),\n ('648', 'Simonius-Blumer, Col. Oberst Alfons', '56'),\n ('649', 'Willey, Mr. Edward', ''),\n ('650', 'Stanley, Miss. Amy Zillah Elsie', '23'),\n ('651', 'Mitkoff, Mr. Mito', ''),\n ('652', 'Doling, Miss. Elsie', '18'),\n ('653', 'Kalvik, Mr. Johannes Halvorsen', '21'),\n ('654', 'O\\'Leary, Miss. Hanora \"Norah\"', ''),\n ('655', 'Hegarty, Miss. Hanora \"Nora\"', '18'),\n ('656', 'Hickman, Mr. Leonard Mark', '24'),\n ('657', 'Radeff, Mr. Alexander', ''),\n ('658', 'Bourke, Mrs. John (Catherine)', '32'),\n ('659', 'Eitemiller, Mr. George Floyd', '23'),\n ('660', 'Newell, Mr. Arthur Webster', '58'),\n ('661', 'Frauenthal, Dr. Henry William', '50'),\n ('662', 'Badt, Mr. Mohamed', '40'),\n ('663', 'Colley, Mr. Edward Pomeroy', '47'),\n ('664', 'Coleff, Mr. Peju', '36'),\n ('665', 'Lindqvist, Mr. Eino William', '20'),\n ('666', 'Hickman, Mr. Lewis', '32'),\n ('667', 'Butler, Mr. Reginald Fenton', '25'),\n ('668', 'Rommetvedt, Mr. Knud Paust', ''),\n ('669', 'Cook, Mr. Jacob', '43'),\n ('670', 'Taylor, Mrs. Elmer Zebley (Juliet Cummins Wright)', ''),\n ('671', 'Brown, Mrs. Thomas William Solomon (Elizabeth Catherine Ford)', '40'),\n ('672', 'Davidson, Mr. Thornton', '31'),\n ('673', 'Mitchell, Mr. Henry Michael', '70'),\n ('674', 'Wilhelms, Mr. Charles', '31'),\n ('675', 'Watson, Mr. Ennis Hastings', ''),\n ('676', 'Edvardsson, Mr. Gustaf Hjalmar', '18'),\n ('677', 'Sawyer, Mr. Frederick Charles', '24.5'),\n ('678', 'Turja, Miss. Anna Sofia', '18'),\n ('679', 'Goodwin, Mrs. Frederick (Augusta Tyler)', '43'),\n ('680', 'Cardeza, Mr. Thomas Drake Martinez', '36'),\n ('681', 'Peters, Miss. Katie', ''),\n ('682', 'Hassab, Mr. Hammad', '27'),\n ('683', 'Olsvigen, Mr. Thor Anderson', '20'),\n ('684', 'Goodwin, Mr. Charles Edward', '14'),\n ('685', 'Brown, Mr. Thomas William Solomon', '60'),\n ('686', 'Laroche, Mr. Joseph Philippe Lemercier', '25'),\n ('687', 'Panula, Mr. Jaako Arnold', '14'),\n ('688', 'Dakic, Mr. Branko', '19'),\n ('689', 'Fischer, Mr. Eberhard Thelander', '18'),\n ('690', 'Madill, Miss. Georgette Alexandra', '15'),\n ('691', 'Dick, Mr. Albert Adrian', '31'),\n ('692', 'Karun, Miss. Manca', '4'),\n ('693', 'Lam, Mr. Ali', ''),\n ('694', 'Saad, Mr. Khalil', '25'),\n ('695', 'Weir, Col. John', '60'),\n ('696', 'Chapman, Mr. Charles Henry', '52'),\n ('697', 'Kelly, Mr. James', '44'),\n ('698', 'Mullens, Miss. Katherine \"Katie\"', ''),\n ('699', 'Thayer, Mr. John Borland', '49'),\n ('700', 'Humblen, Mr. Adolf Mathias Nicolai Olsen', '42'),\n ('701', 'Astor, Mrs. John Jacob (Madeleine Talmadge Force)', '18'),\n ('702', 'Silverthorne, Mr. Spencer Victor', '35'),\n ('703', 'Barbara, Miss. Saiide', '18'),\n ('704', 'Gallagher, Mr. Martin', '25'),\n ('705', 'Hansen, Mr. Henrik Juul', '26'),\n ('706', 'Morley, Mr. Henry Samuel (\"Mr Henry Marshall\")', '39'),\n ('707', 'Kelly, Mrs. Florence \"Fannie\"', '45'),\n ('708', 'Calderhead, Mr. Edward Pennington', '42'),\n ('709', 'Cleaver, Miss. Alice', '22'),\n ('710', 'Moubarek, Master. Halim Gonios (\"William George\")', ''),\n ('711', 'Mayne, Mlle. Berthe Antonine (\"Mrs de Villiers\")', '24'),\n ('712', 'Klaber, Mr. Herman', ''),\n ('713', 'Taylor, Mr. Elmer Zebley', '48'),\n ('714', 'Larsson, Mr. August Viktor', '29'),\n ('715', 'Greenberg, Mr. Samuel', '52'),\n ('716', 'Soholt, Mr. Peter Andreas Lauritz Andersen', '19'),\n ('717', 'Endres, Miss. Caroline Louise', '38'),\n ('718', 'Troutt, Miss. Edwina Celia \"Winnie\"', '27'),\n ('719', 'McEvoy, Mr. Michael', ''),\n ('720', 'Johnson, Mr. Malkolm Joackim', '33'),\n ('721', 'Harper, Miss. Annie Jessie \"Nina\"', '6'),\n ('722', 'Jensen, Mr. Svend Lauritz', '17'),\n ('723', 'Gillespie, Mr. William Henry', '34'),\n ('724', 'Hodges, Mr. Henry Price', '50'),\n ('725', 'Chambers, Mr. Norman Campbell', '27'),\n ('726', 'Oreskovic, Mr. Luka', '20'),\n ('727', 'Renouf, Mrs. Peter Henry (Lillian Jefferys)', '30'),\n ('728', 'Mannion, Miss. Margareth', ''),\n ('729', 'Bryhl, Mr. Kurt Arnold Gottfrid', '25'),\n ('730', 'Ilmakangas, Miss. Pieta Sofia', '25'),\n ('731', 'Allen, Miss. Elisabeth Walton', '29'),\n ('732', 'Hassan, Mr. Houssein G N', '11'),\n ('733', 'Knight, Mr. Robert J', ''),\n ('734', 'Berriman, Mr. William John', '23'),\n ('735', 'Troupiansky, Mr. Moses Aaron', '23'),\n ('736', 'Williams, Mr. Leslie', '28.5'),\n ('737', 'Ford, Mrs. Edward (Margaret Ann Watson)', '48'),\n ('738', 'Lesurer, Mr. Gustave J', '35'),\n ('739', 'Ivanoff, Mr. Kanio', ''),\n ('740', 'Nankoff, Mr. Minko', ''),\n ('741', 'Hawksford, Mr. Walter James', ''),\n ('742', 'Cavendish, Mr. Tyrell William', '36'),\n ('743', 'Ryerson, Miss. Susan Parker \"Suzette\"', '21'),\n ('744', 'McNamee, Mr. Neal', '24'),\n ('745', 'Stranden, Mr. Juho', '31'),\n ('746', 'Crosby, Capt. Edward Gifford', '70'),\n ('747', 'Abbott, Mr. Rossmore Edward', '16'),\n ('748', 'Sinkkonen, Miss. Anna', '30'),\n ('749', 'Marvin, Mr. Daniel Warner', '19'),\n ('750', 'Connaghton, Mr. Michael', '31'),\n ('751', 'Wells, Miss. Joan', '4'),\n ('752', 'Moor, Master. Meier', '6'),\n ('753', 'Vande Velde, Mr. Johannes Joseph', '33'),\n ('754', 'Jonkoff, Mr. Lalio', '23'),\n ('755', 'Herman, Mrs. Samuel (Jane Laver)', '48'),\n ('756', 'Hamalainen, Master. Viljo', '0.67'),\n ('757', 'Carlsson, Mr. August Sigfrid', '28'),\n ('758', 'Bailey, Mr. Percy Andrew', '18'),\n ('759', 'Theobald, Mr. Thomas Leonard', '34'),\n ('760', 'Rothes, the Countess. of (Lucy Noel Martha Dyer-Edwards)', '33'),\n ('761', 'Garfirth, Mr. John', ''),\n ('762', 'Nirva, Mr. Iisakki Antino Aijo', '41'),\n ('763', 'Barah, Mr. Hanna Assi', '20'),\n ('764', 'Carter, Mrs. William Ernest (Lucile Polk)', '36'),\n ('765', 'Eklund, Mr. Hans Linus', '16'),\n ('766', 'Hogeboom, Mrs. John C (Anna Andrews)', '51'),\n ('767', 'Brewe, Dr. Arthur Jackson', ''),\n ('768', 'Mangan, Miss. Mary', '30.5'),\n ('769', 'Moran, Mr. Daniel J', ''),\n ('770', 'Gronnestad, Mr. Daniel Danielsen', '32'),\n ('771', 'Lievens, Mr. Rene Aime', '24'),\n ('772', 'Jensen, Mr. Niels Peder', '48'),\n ('773', 'Mack, Mrs. (Mary)', '57'),\n ('774', 'Elias, Mr. Dibo', ''),\n ('775', 'Hocking, Mrs. Elizabeth (Eliza Needs)', '54'),\n ('776', 'Myhrman, Mr. Pehr Fabian Oliver Malkolm', '18'),\n ('777', 'Tobin, Mr. Roger', ''),\n ('778', 'Emanuel, Miss. Virginia Ethel', '5'),\n ('779', 'Kilgannon, Mr. Thomas J', ''),\n ('780', 'Robert, Mrs. Edward Scott (Elisabeth Walton McMillan)', '43'),\n ('781', 'Ayoub, Miss. Banoura', '13'),\n ('782', 'Dick, Mrs. Albert Adrian (Vera Gillespie)', '17'),\n ('783', 'Long, Mr. Milton Clyde', '29'),\n ('784', 'Johnston, Mr. Andrew G', ''),\n ('785', 'Ali, Mr. William', '25'),\n ('786', 'Harmer, Mr. Abraham (David Lishin)', '25'),\n ('787', 'Sjoblom, Miss. Anna Sofia', '18'),\n ('788', 'Rice, Master. George Hugh', '8'),\n ('789', 'Dean, Master. Bertram Vere', '1'),\n ('790', 'Guggenheim, Mr. Benjamin', '46'),\n ('791', 'Keane, Mr. Andrew \"Andy\"', ''),\n ('792', 'Gaskell, Mr. Alfred', '16'),\n ('793', 'Sage, Miss. Stella Anna', ''),\n ('794', 'Hoyt, Mr. William Fisher', ''),\n ('795', 'Dantcheff, Mr. Ristiu', '25'),\n ('796', 'Otter, Mr. Richard', '39'),\n ('797', 'Leader, Dr. Alice (Farnham)', '49'),\n ('798', 'Osman, Mrs. Mara', '31'),\n ('799', 'Ibrahim Shawah, Mr. Yousseff', '30'),\n ('800', 'Van Impe, Mrs. Jean Baptiste (Rosalie Paula Govaert)', '30'),\n ('801', 'Ponesell, Mr. Martin', '34'),\n ('802', 'Collyer, Mrs. Harvey (Charlotte Annie Tate)', '31'),\n ('803', 'Carter, Master. William Thornton II', '11'),\n ('804', 'Thomas, Master. Assad Alexander', '0.42'),\n ('805', 'Hedman, Mr. Oskar Arvid', '27'),\n ('806', 'Johansson, Mr. Karl Johan', '31'),\n ('807', 'Andrews, Mr. Thomas Jr', '39'),\n ('808', 'Pettersson, Miss. Ellen Natalia', '18'),\n ('809', 'Meyer, Mr. August', '39'),\n ('810', 'Chambers, Mrs. Norman Campbell (Bertha Griggs)', '33'),\n ('811', 'Alexander, Mr. William', '26'),\n ('812', 'Lester, Mr. James', '39'),\n ('813', 'Slemen, Mr. Richard James', '35'),\n ('814', 'Andersson, Miss. Ebba Iris Alfrida', '6'),\n ('815', 'Tomlin, Mr. Ernest Portage', '30.5'),\n ('816', 'Fry, Mr. Richard', ''),\n ('817', 'Heininen, Miss. Wendla Maria', '23'),\n ('818', 'Mallet, Mr. Albert', '31'),\n ('819', 'Holm, Mr. John Fredrik Alexander', '43'),\n ('820', 'Skoog, Master. Karl Thorsten', '10'),\n ('821', 'Hays, Mrs. Charles Melville (Clara Jennings Gregg)', '52'),\n ('822', 'Lulic, Mr. Nikola', '27'),\n ('823', 'Reuchlin, Jonkheer. John George', '38'),\n ('824', 'Moor, Mrs. (Beila)', '27'),\n ('825', 'Panula, Master. Urho Abraham', '2'),\n ('826', 'Flynn, Mr. John', ''),\n ('827', 'Lam, Mr. Len', ''),\n ('828', 'Mallet, Master. Andre', '1'),\n ('829', 'McCormack, Mr. Thomas Joseph', ''),\n ('830', 'Stone, Mrs. George Nelson (Martha Evelyn)', '62'),\n ('831', 'Yasbeck, Mrs. Antoni (Selini Alexander)', '15'),\n ('832', 'Richards, Master. George Sibley', '0.83'),\n ('833', 'Saad, Mr. Amin', ''),\n ('834', 'Augustsson, Mr. Albert', '23'),\n ('835', 'Allum, Mr. Owen George', '18'),\n ('836', 'Compton, Miss. Sara Rebecca', '39'),\n ('837', 'Pasic, Mr. Jakob', '21'),\n ('838', 'Sirota, Mr. Maurice', ''),\n ('839', 'Chip, Mr. Chang', '32'),\n ('840', 'Marechal, Mr. Pierre', ''),\n ('841', 'Alhomaki, Mr. Ilmari Rudolf', '20'),\n ('842', 'Mudd, Mr. Thomas Charles', '16'),\n ('843', 'Serepeca, Miss. Augusta', '30'),\n ('844', 'Lemberopolous, Mr. Peter L', '34.5'),\n ('845', 'Culumovic, Mr. Jeso', '17'),\n ('846', 'Abbing, Mr. Anthony', '42'),\n ('847', 'Sage, Mr. Douglas Bullen', ''),\n ('848', 'Markoff, Mr. Marin', '35'),\n ('849', 'Harper, Rev. John', '28'),\n ('850', 'Goldenberg, Mrs. Samuel L (Edwiga Grabowska)', ''),\n ('851', 'Andersson, Master. Sigvard Harald Elias', '4'),\n ('852', 'Svensson, Mr. Johan', '74'),\n ('853', 'Boulos, Miss. Nourelain', '9'),\n ('854', 'Lines, Miss. Mary Conover', '16'),\n ('855', 'Carter, Mrs. Ernest Courtenay (Lilian Hughes)', '44'),\n ('856', 'Aks, Mrs. Sam (Leah Rosen)', '18'),\n ('857', 'Wick, Mrs. George Dennick (Mary Hitchcock)', '45'),\n ('858', 'Daly, Mr. Peter Denis ', '51'),\n ('859', 'Baclini, Mrs. Solomon (Latifa Qurban)', '24'),\n ('860', 'Razi, Mr. Raihed', ''),\n ('861', 'Hansen, Mr. Claus Peter', '41'),\n ('862', 'Giles, Mr. Frederick Edward', '21'),\n ('863', 'Swift, Mrs. Frederick Joel (Margaret Welles Barron)', '48'),\n ('864', 'Sage, Miss. Dorothy Edith \"Dolly\"', ''),\n ('865', 'Gill, Mr. John William', '24'),\n ('866', 'Bystrom, Mrs. (Karolina)', '42'),\n ('867', 'Duran y More, Miss. Asuncion', '27'),\n ('868', 'Roebling, Mr. Washington Augustus II', '31'),\n ('869', 'van Melkebeke, Mr. Philemon', ''),\n ('870', 'Johnson, Master. Harold Theodor', '4'),\n ('871', 'Balkic, Mr. Cerin', '26'),\n ('872', 'Beckwith, Mrs. Richard Leonard (Sallie Monypeny)', '47'),\n ('873', 'Carlsson, Mr. Frans Olof', '33'),\n ('874', 'Vander Cruyssen, Mr. Victor', '47'),\n ('875', 'Abelson, Mrs. Samuel (Hannah Wizosky)', '28'),\n ('876', 'Najib, Miss. Adele Kiamie \"Jane\"', '15'),\n ('877', 'Gustafsson, Mr. Alfred Ossian', '20'),\n ('878', 'Petroff, Mr. Nedelio', '19'),\n ('879', 'Laleff, Mr. Kristo', ''),\n ('880', 'Potter, Mrs. Thomas Jr (Lily Alexenia Wilson)', '56'),\n ('881', 'Shelley, Mrs. William (Imanita Parrish Hall)', '25'),\n ('882', 'Markun, Mr. Johann', '33'),\n ('883', 'Dahlberg, Miss. Gerda Ulrika', '22'),\n ('884', 'Banfield, Mr. Frederick James', '28'),\n ('885', 'Sutehall, Mr. Henry Jr', '25'),\n ('886', 'Rice, Mrs. William (Margaret Norton)', '39'),\n ('887', 'Montvila, Rev. Juozas', '27'),\n ('888', 'Graham, Miss. Margaret Edith', '19'),\n ('889', 'Johnston, Miss. Catherine Helen \"Carrie\"', ''),\n ('890', 'Behr, Mr. Karl Howell', '26'),\n ('891', 'Dooley, Mr. Patrick', '32')]\n"
     ]
    }
   ],
   "source": [
    "import csv\n",
    "import sqlite3\n",
    "import pprint\n",
    "\n",
    "\n",
    "conn = sqlite3.connect(\"Titanic.db\")\n",
    "c = conn.cursor()\n",
    "\n",
    "with open('Titanic.csv','r', newline='') as csv_file:\n",
    "    # print(csv_file.read())\n",
    "    dataPassenger = csv.reader(csv_file)    #each row read is returned as a list of strings. No datatype conversion is automatically performed. \n",
    "    passengerData = []\n",
    "    tupleLi = []\n",
    "    for row in dataPassenger:\n",
    "        tupleLi = (row[0], row[3], row[5])\n",
    "        passengerData.append(tupleLi)\n",
    "\n",
    "passengerData = passengerData[1:]\n",
    "pprint.pp(passengerData)\n",
    "\n",
    "\n",
    "c.executemany('''Insert Into passengers Values(?,?,?)''',passengerData)\n",
    "\n",
    "conn.commit()\n",
    "# print(conn.total_changes) #892 rows added\n",
    "conn.close()\n",
    "\n"
   ]
  },
  {
   "cell_type": "markdown",
   "metadata": {},
   "source": [
    "### Step 4: Find Moran, Mr. James and UPDATE his age to \"50\""
   ]
  },
  {
   "cell_type": "code",
   "execution_count": 1,
   "metadata": {},
   "outputs": [
    {
     "output_type": "stream",
     "name": "stdout",
     "text": [
      "1\n891\n"
     ]
    }
   ],
   "source": [
    "\n",
    "import sqlite3\n",
    "conn = sqlite3.connect(\"Titanic.db\")\n",
    "c = conn.cursor()\n",
    "\n",
    "conn.execute(\"\"\"Update passengers Set \n",
    "Age = '50' \n",
    "Where Name = 'Moran, Mr. James'\"\"\")\n",
    "\n",
    "conn.commit()\n",
    "print(conn.total_changes)\n",
    "rows = c.execute(\"Select * from passengers;\")\n",
    "print(len(rows.fetchall())) #returns revised number or rows in table\n",
    "conn.close()\n"
   ]
  },
  {
   "cell_type": "markdown",
   "metadata": {},
   "source": [
    "### Step 5: Delete the row containing \"Sjostedt, Mr. Ernst Adolf\""
   ]
  },
  {
   "cell_type": "code",
   "execution_count": 6,
   "metadata": {},
   "outputs": [
    {
     "output_type": "stream",
     "name": "stdout",
     "text": [
      "1\n"
     ]
    }
   ],
   "source": [
    "conn = sqlite3.connect(\"Titanic.db\")\n",
    "c = conn.cursor()\n",
    "\n",
    "c.execute(\"\"\"Delete From passengers Where Name = 'Sjostedt, Mr. Ernst Adolf'\"\"\")\n",
    "\n",
    "conn.commit()\n",
    "print(conn.total_changes)\n",
    "conn.close()\n"
   ]
  },
  {
   "cell_type": "markdown",
   "metadata": {},
   "source": [
    "### (Bonus) : Calculate the average age of all the passengers "
   ]
  },
  {
   "cell_type": "code",
   "execution_count": 7,
   "metadata": {},
   "outputs": [
    {
     "output_type": "stream",
     "name": "stdout",
     "text": [
      "(23.789191919191918,)\n"
     ]
    }
   ],
   "source": [
    "conn = sqlite3.connect(\"Titanic.db\")\n",
    "c = conn.cursor()\n",
    "\n",
    "for row in c.execute(\"Select avg(Age) From passengers\"):\n",
    "    print(row)"
   ]
  },
  {
   "cell_type": "code",
   "execution_count": null,
   "metadata": {},
   "outputs": [],
   "source": []
  }
 ],
 "metadata": {
  "kernelspec": {
   "name": "python3",
   "display_name": "Python 3.8.2 64-bit ('usr')"
  },
  "language_info": {
   "codemirror_mode": {
    "name": "ipython",
    "version": 3
   },
   "file_extension": ".py",
   "mimetype": "text/x-python",
   "name": "python",
   "nbconvert_exporter": "python",
   "pygments_lexer": "ipython3",
   "version": "3.8.2"
  },
  "interpreter": {
   "hash": "5edc29c2ed010d6458d71a83433b383a96a8cbd3efe8531bc90c4b8a5b8bcec9"
  }
 },
 "nbformat": 4,
 "nbformat_minor": 4
}