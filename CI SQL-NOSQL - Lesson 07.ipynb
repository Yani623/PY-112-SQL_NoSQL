{
 "cells": [
  {
   "cell_type": "markdown",
   "id": "ddfb7579",
   "metadata": {},
   "source": [
    "# Warm Up exercises"
   ]
  },
  {
   "cell_type": "markdown",
   "id": "77ffa7cf",
   "metadata": {},
   "source": [
    "## Exercise 1\n",
    "Write a function that takes a string of chars, digits and symbols and returns a count of each one. \n",
    "\n",
    "i.e. \n",
    "\n",
    "<code>\n",
    "str1 = \"P@#yn26at^&i5ve\"\n",
    "-> \n",
    "Total counts of chars, digits,and symbols \n",
    "Chars = 8 \n",
    "Digits = 3 \n",
    "Symbol = 4\n",
    "</code>\n"
   ]
  },
  {
   "cell_type": "code",
   "execution_count": 11,
   "id": "349091a2",
   "metadata": {},
   "outputs": [
    {
     "output_type": "execute_result",
     "data": {
      "text/plain": [
       "(6, 2, 3)"
      ]
     },
     "metadata": {},
     "execution_count": 11
    }
   ],
   "source": [
    "def characterCount(str1 = \"as;dlih ## 23\"):\n",
    "    Chars = 0\n",
    "    Digits = 0\n",
    "    Symbol = 0\n",
    "    for x in str1:\n",
    "        if x.isdigit():\n",
    "            Digits += 1\n",
    "        elif x.isalpha():\n",
    "            Chars += 1\n",
    "        elif x == \" \":\n",
    "            continue\n",
    "        else:\n",
    "            Symbol += 1\n",
    "    return Chars, Digits, Symbol\n",
    "\n",
    "characterCount()\n",
    "\n"
   ]
  },
  {
   "cell_type": "markdown",
   "id": "7fe5f494",
   "metadata": {},
   "source": [
    "## Exercise 2\n",
    "Write a function that counts the most common letter in the text \n"
   ]
  },
  {
   "cell_type": "code",
   "execution_count": 26,
   "id": "4f45739d",
   "metadata": {},
   "outputs": [
    {
     "output_type": "stream",
     "name": "stdout",
     "text": [
      "{'C': 1, 'o': 102, 'm': 66, 'p': 47, 'u': 36, 't': 97, 'e': 161, 'r': 106, 'g': 62, 'a': 100, 'i': 102, 'n': 103, 's': 86, 'h': 37, 'c': 64, 'f': 33, 'd': 43, 'b': 13, 'l': 44, 'x': 4, 'k': 5, 'P': 2, 'v': 10, 'y': 10, 'T': 4, 'w': 11, 'q': 3, 'j': 1, 'z': 1, 'S': 1, 'R': 1}\n"
     ]
    },
    {
     "output_type": "execute_result",
     "data": {
      "text/plain": [
       "'e'"
      ]
     },
     "metadata": {},
     "execution_count": 26
    }
   ],
   "source": [
    "text=\"\"\"\n",
    "Computer programming is the process of designing and building an executable computer program to accomplish a specific computing result or to perform a specific task. Programming involves tasks such as: analysis, generating algorithms, profiling algorithms' accuracy and resource consumption, and the implementation of algorithms in a chosen programming language (commonly referred to as coding).[1][2] The source code of a program is written in one or more languages that are intelligible to programmers, rather than machine code, which is directly executed by the central processing unit. The purpose of programming is to find a sequence of instructions that will automate the performance of a task (which can be as complex as an operating system) on a computer, often for solving a given problem. Proficient programming thus often requires expertise in several different subjects, including knowledge of the application domain, specialized algorithms, and formal logic.\n",
    "Tasks accompanying and related to programming include: testing, debugging, source code maintenance, implementation of build systems, and management of derived artifacts, such as the machine code of computer programs. These might be considered part of the programming process, but often the term software development is used for this larger process with the term programming, implementation, or coding reserved for the actual writing of code. Software engineering combines engineering techniques with software development practices. Reverse engineering is a related process used by designers, analysts and programmers to understand and re-create/re-implement\n",
    "\"\"\"\n",
    "# print(list(set(text)))\n",
    "\n",
    "\n",
    "def MaxCommonLetter(str1 = \"\"):\n",
    "    Dict1 = {}\n",
    "    for x in str1:\n",
    "      if x.isalpha():\n",
    "        Dict1 [x] = str1.count(x)\n",
    "    maxLetter = max(Dict1, key = Dict1.get)\n",
    "    print(Dict1)\n",
    "    return maxLetter   \n",
    "\n",
    "MaxCommonLetter(text) \n"
   ]
  },
  {
   "cell_type": "markdown",
   "id": "b66086b4",
   "metadata": {},
   "source": [
    "## Exercise 2a\n",
    "Write a function that counts the most common word in a text\n",
    "\n"
   ]
  },
  {
   "cell_type": "code",
   "execution_count": 53,
   "id": "8b3dbc9d",
   "metadata": {},
   "outputs": [
    {
     "output_type": "stream",
     "name": "stdout",
     "text": [
      "\"'the' is the most common word. It appeared 12 times\"\n\"'of' is the most common word. It appeared 12 times\"\n"
     ]
    }
   ],
   "source": [
    "text=\"\"\"\n",
    "Computer programming is the process of designing and building an executable computer program to accomplish a specific computing result or to perform a specific task. Programming involves tasks such as: analysis, generating algorithms, profiling algorithms' accuracy and resource consumption, and the implementation of algorithms in a chosen programming language (commonly referred to as coding).[1][2] The source code of a program is written in one or more languages that are intelligible to programmers, rather than machine code, which is directly executed by the central processing unit. The purpose of programming is to find a sequence of instructions that will automate the performance of a task (which can be as complex as an operating system) on a computer, often for solving a given problem. Proficient programming thus often requires expertise in several different subjects, including knowledge of the application domain, specialized algorithms, and formal logic.\n",
    "Tasks accompanying and related to programming include: testing, debugging, source code maintenance, implementation of build systems, and management of derived artifacts, such as the machine code of computer programs. These might be considered part of the programming process, but often the term software development is used for this larger process with the term programming, implementation, or coding reserved for the actual writing of code. Software engineering combines engineering techniques with software development practices. Reverse engineering is a related process used by designers, analysts and programmers to understand and re-create/re-implement\n",
    "\"\"\"\n",
    "import string\n",
    "import pprint\n",
    "# text = text.translate(str.maketrans('', '', string.punctuation ))\n",
    "# print(text)\n",
    "\n",
    "def MaxWord(str1=\"\"):\n",
    "    str1 = str1.translate(str.maketrans('', '', string.punctuation )) # Gets rid of all of the punctuation so that every word will be recognized\n",
    "    liStr = str1.lower().split()    # Need to use .lower because casing matters when identifying words in a string. Ex) if 'The' is not changed to 'the' then it will count 2 'The' and 10 'the'.\n",
    "    # print(liStr)\n",
    "    Dict1 = {}\n",
    "    for x in liStr:\n",
    "        if x.isalpha():\n",
    "            Dict1 [x] = liStr.count(x)\n",
    "    wordMax = max(Dict1.values())\n",
    "    for k,v in Dict1.items():\n",
    "        if v == wordMax:\n",
    "            pprint.pp(f\"'{k}' is the most common word. It appeared {v} times\")\n",
    "    # pprint.pp(Dict1)\n",
    "    \n",
    "\n",
    "MaxWord(text)\n",
    "\n"
   ]
  },
  {
   "cell_type": "markdown",
   "id": "30ef276f",
   "metadata": {},
   "source": [
    "## Using Group By"
   ]
  },
  {
   "cell_type": "code",
   "execution_count": 13,
   "id": "7a0e16f3",
   "metadata": {},
   "outputs": [
    {
     "name": "stdout",
     "output_type": "stream",
     "text": [
      "(13, 'USA')\n",
      "(8, 'Canada')\n",
      "(5, 'Brazil')\n",
      "(5, 'France')\n",
      "(4, 'Germany')\n",
      "(3, 'United Kingdom')\n",
      "(2, 'Czech Republic')\n",
      "(2, 'Portugal')\n",
      "(2, 'India')\n",
      "(1, 'Norway')\n",
      "(1, 'Austria')\n",
      "(1, 'Belgium')\n",
      "(1, 'Denmark')\n",
      "(1, 'Finland')\n",
      "(1, 'Hungary')\n",
      "(1, 'Ireland')\n",
      "(1, 'Italy')\n",
      "(1, 'Netherlands')\n",
      "(1, 'Poland')\n",
      "(1, 'Spain')\n",
      "(1, 'Sweden')\n",
      "(1, 'Australia')\n",
      "(1, 'Argentina')\n",
      "(1, 'Chile')\n"
     ]
    }
   ],
   "source": [
    "import mysql.connector\n",
    "from dotenv import dotenv_values\n",
    "\n",
    "config = dotenv_values(\".env\")  # config = {\"USER\": \"foo\", \"EMAIL\": \"foo@example.org\"}\n",
    "\n",
    "mydb = mysql.connector.connect(\n",
    "  host=config['HOST'],\n",
    "  user=config['USER'],\n",
    "  password=config['PASSWORD'],\n",
    "  database=config['DATABASE']\n",
    ")\n",
    "\n",
    "mycursor = mydb.cursor()\n",
    "\n",
    "\"\"\"\n",
    "Lists the number of customers in each country, sorted high to low\n",
    "\"\"\"\n",
    "\n",
    "query = \"\"\" \n",
    "SELECT COUNT(CustomerID), Country\n",
    "FROM Customer\n",
    "GROUP BY Country\n",
    "ORDER BY COUNT(CustomerID) DESC;\n",
    "\"\"\"\n",
    "\n",
    "mycursor.execute(query)\n",
    "\n",
    "for x in mycursor:\n",
    "  print(x)\n",
    "mydb.close()"
   ]
  },
  {
   "cell_type": "markdown",
   "id": "42b8dfbe",
   "metadata": {},
   "source": [
    "## Using HAVING\n",
    "\n"
   ]
  },
  {
   "cell_type": "code",
   "execution_count": 12,
   "id": "3797502b",
   "metadata": {},
   "outputs": [
    {
     "name": "stdout",
     "output_type": "stream",
     "text": [
      "(8, 'Canada')\n",
      "(13, 'USA')\n"
     ]
    }
   ],
   "source": [
    "import mysql.connector\n",
    "from dotenv import dotenv_values\n",
    "\n",
    "config = dotenv_values(\".env\")  # config = {\"USER\": \"foo\", \"EMAIL\": \"foo@example.org\"}\n",
    "\n",
    "mydb = mysql.connector.connect(\n",
    "  host=config['HOST'],\n",
    "  user=config['USER'],\n",
    "  password=config['PASSWORD'],\n",
    "  database=config['DATABASE']\n",
    ")\n",
    "\n",
    "mycursor = mydb.cursor()\n",
    "\n",
    "\"\"\"\n",
    "Lists the number of customers in each country. \n",
    "Only include countries with more than 5 customers\n",
    "\"\"\"\n",
    "\n",
    "query = \"\"\" \n",
    "SELECT COUNT(CustomerID), Country\n",
    "FROM Customer\n",
    "GROUP BY Country\n",
    "HAVING COUNT(CustomerID) > 5;\n",
    "\"\"\"\n",
    "\n",
    "mycursor.execute(query)\n",
    "\n",
    "for x in mycursor:\n",
    "  print(x)\n",
    "mydb.close()"
   ]
  },
  {
   "cell_type": "markdown",
   "id": "2b451cb9",
   "metadata": {},
   "source": [
    "## Using Union"
   ]
  },
  {
   "cell_type": "code",
   "execution_count": 11,
   "id": "da5b70d9",
   "metadata": {},
   "outputs": [
    {
     "name": "stdout",
     "output_type": "stream",
     "text": [
      "('Amsterdam',)\n",
      "('Bangalore',)\n",
      "('Berlin',)\n",
      "('Bordeaux',)\n",
      "('Boston',)\n",
      "('Brasília',)\n",
      "('Brussels',)\n",
      "('Budapest',)\n",
      "('Buenos Aires',)\n",
      "('Calgary',)\n",
      "('Chicago',)\n",
      "('Copenhagen',)\n",
      "('Cupertino',)\n",
      "('Delhi',)\n",
      "('Dijon',)\n",
      "('Dublin',)\n",
      "('Edinburgh ',)\n",
      "('Edmonton',)\n",
      "('Fort Worth',)\n",
      "('Frankfurt',)\n",
      "('Halifax',)\n",
      "('Helsinki',)\n",
      "('Lethbridge',)\n",
      "('Lisbon',)\n",
      "('London',)\n",
      "('Lyon',)\n",
      "('Madison',)\n",
      "('Madrid',)\n",
      "('Montréal',)\n",
      "('Mountain View',)\n",
      "('New York',)\n",
      "('Orlando',)\n",
      "('Oslo',)\n",
      "('Ottawa',)\n",
      "('Paris',)\n",
      "('Porto',)\n",
      "('Prague',)\n",
      "('Redmond',)\n",
      "('Reno',)\n",
      "('Rio de Janeiro',)\n",
      "('Rome',)\n",
      "('Salt Lake City',)\n",
      "('Santiago',)\n",
      "('São José dos Campos',)\n",
      "('São Paulo',)\n",
      "('Sidney',)\n",
      "('Stockholm',)\n",
      "('Stuttgart',)\n",
      "('Toronto',)\n",
      "('Tucson',)\n",
      "('Vancouver',)\n",
      "('Vienne',)\n",
      "('Warsaw',)\n",
      "('Winnipeg',)\n",
      "('Yellowknife',)\n"
     ]
    }
   ],
   "source": [
    "import mysql.connector\n",
    "from dotenv import dotenv_values\n",
    "\n",
    "config = dotenv_values(\".env\")  # config = {\"USER\": \"foo\", \"EMAIL\": \"foo@example.org\"}\n",
    "\n",
    "mydb = mysql.connector.connect(\n",
    "  host=config['HOST'],\n",
    "  user=config['USER'],\n",
    "  password=config['PASSWORD'],\n",
    "  database=config['DATABASE']\n",
    ")\n",
    "\n",
    "mycursor = mydb.cursor()\n",
    "\n",
    "\"\"\"\n",
    "Lists the number of customers in each country. \n",
    "Only include countries with more than 5 customers\n",
    "\"\"\"\n",
    "\n",
    "query = \"\"\" \n",
    "SELECT City FROM Customer\n",
    "UNION\n",
    "SELECT City FROM Employee\n",
    "ORDER BY City\n",
    "\"\"\"\n",
    "# Note that the result is in alphabetical order because of the Order By and eliminated duplicates. No need to use Group By\n",
    "mycursor.execute(query)\n",
    "\n",
    "for x in mycursor:\n",
    "  print(x)\n",
    "mydb.close()"
   ]
  },
  {
   "cell_type": "code",
   "execution_count": 62,
   "id": "4c1f74e6",
   "metadata": {},
   "outputs": [
    {
     "output_type": "stream",
     "name": "stdout",
     "text": [
      "Full Name\n('Gonçalves, Luís',)\n('Köhler, Leonie',)\n('Tremblay, François',)\n('Hansen, Bjørn',)\n('Wichterlová, František',)\n('Holý, Helena',)\n('Gruber, Astrid',)\n('Peeters, Daan',)\n('Nielsen, Kara',)\n('Martins, Eduardo',)\n('Rocha, Alexandre',)\n('Almeida, Roberto',)\n('Ramos, Fernanda',)\n('Philips, Mark',)\n('Peterson, Jennifer',)\n('Harris, Frank',)\n('Smith, Jack',)\n('Brooks, Michelle',)\n('Goyer, Tim',)\n('Miller, Dan',)\n('Chase, Kathy',)\n('Leacock, Heather',)\n('Gordon, John',)\n('Ralston, Frank',)\n('Stevens, Victor',)\n('Cunningham, Richard',)\n('Gray, Patrick',)\n('Barnett, Julia',)\n('Brown, Robert',)\n('Francis, Edward',)\n('Silk, Martha',)\n('Mitchell, Aaron',)\n('Sullivan, Ellie',)\n('Fernandes, João',)\n('Sampaio, Madalena',)\n('Schneider, Hannah',)\n('Zimmermann, Fynn',)\n('Schröder, Niklas',)\n('Bernard, Camille',)\n('Lefebvre, Dominique',)\n('Dubois, Marc',)\n('Girard, Wyatt',)\n('Mercier, Isabelle',)\n('Hämäläinen, Terhi',)\n('Kovács, Ladislav',)\n(\"O'Reilly, Hugh\",)\n('Mancini, Lucas',)\n('Van der Berg, Johannes',)\n('Wójcik, Stanisław',)\n('Muñoz, Enrique',)\n('Johansson, Joakim',)\n('Jones, Emma',)\n('Hughes, Phil',)\n('Murray, Steve',)\n('Taylor, Mark',)\n('Gutiérrez, Diego',)\n('Rojas, Luis',)\n('Pareek, Manoj',)\n('Srivastava, Puja',)\n"
     ]
    }
   ],
   "source": [
    "'''How to Concat fields'''\n",
    "\n",
    "import mysql.connector\n",
    "from dotenv import dotenv_values\n",
    "config = dotenv_values(\".env\")  # config = {\"USER\": \"foo\", \"EMAIL\": \"foo@example.org\"}\n",
    "mydb = mysql.connector.connect(\n",
    "  host=config['HOST'],\n",
    "  user=config['USER'],\n",
    "  password=config['PASSWORD'],\n",
    "  database=config['DATABASE']\n",
    ")\n",
    "mycursor = mydb.cursor()\n",
    "\"\"\"\n",
    "Lists the number of customers in each country. \n",
    "Only include countries with more than 5 customers\n",
    "\"\"\"\n",
    "query = \"\"\" \n",
    "SELECT \n",
    "    CONCAT(lastName, ', ', firstName) as 'Full Name'\n",
    "FROM Customer;\n",
    "\"\"\"\n",
    "mycursor.execute(query)\n",
    "# description accesses headers\n",
    "print(mycursor.description[0][0])\n",
    "for x in mycursor:\n",
    "  print(x)\n",
    "mydb.close()"
   ]
  },
  {
   "cell_type": "code",
   "execution_count": 63,
   "metadata": {},
   "outputs": [
    {
     "output_type": "error",
     "ename": "ProgrammingError",
     "evalue": "1064 (42000): You have an error in your SQL syntax; check the manual that corresponds to your MySQL server version for the right syntax to use near 'Report’\nFROM\n    Employee e\nINNER JOIN Employee m ON\n    m.employeeId = e.Repo' at line 3",
     "traceback": [
      "\u001b[0;31m---------------------------------------------------------------------------\u001b[0m",
      "\u001b[0;31mProgrammingError\u001b[0m                          Traceback (most recent call last)",
      "\u001b[0;32m<ipython-input-63-5ce4a786006e>\u001b[0m in \u001b[0;36m<module>\u001b[0;34m\u001b[0m\n\u001b[1;32m     24\u001b[0m     Manager'''\n\u001b[1;32m     25\u001b[0m \u001b[0;34m\u001b[0m\u001b[0m\n\u001b[0;32m---> 26\u001b[0;31m \u001b[0mmycursor\u001b[0m\u001b[0;34m.\u001b[0m\u001b[0mexecute\u001b[0m\u001b[0;34m(\u001b[0m\u001b[0mquery\u001b[0m\u001b[0;34m)\u001b[0m\u001b[0;34m\u001b[0m\u001b[0;34m\u001b[0m\u001b[0m\n\u001b[0m\u001b[1;32m     27\u001b[0m \u001b[0;31m# description accesses headers\u001b[0m\u001b[0;34m\u001b[0m\u001b[0;34m\u001b[0m\u001b[0;34m\u001b[0m\u001b[0m\n\u001b[1;32m     28\u001b[0m \u001b[0mprint\u001b[0m\u001b[0;34m(\u001b[0m\u001b[0mmycursor\u001b[0m\u001b[0;34m.\u001b[0m\u001b[0mdescription\u001b[0m\u001b[0;34m[\u001b[0m\u001b[0;36m0\u001b[0m\u001b[0;34m]\u001b[0m\u001b[0;34m[\u001b[0m\u001b[0;36m0\u001b[0m\u001b[0;34m]\u001b[0m \u001b[0;34m,\u001b[0m \u001b[0mmycursor\u001b[0m\u001b[0;34m.\u001b[0m\u001b[0mdescription\u001b[0m\u001b[0;34m[\u001b[0m\u001b[0;36m1\u001b[0m\u001b[0;34m]\u001b[0m\u001b[0;34m[\u001b[0m\u001b[0;36m0\u001b[0m\u001b[0;34m]\u001b[0m\u001b[0;34m)\u001b[0m\u001b[0;34m\u001b[0m\u001b[0;34m\u001b[0m\u001b[0m\n",
      "\u001b[0;32m/Library/Python/3.8/site-packages/mysql/connector/cursor.py\u001b[0m in \u001b[0;36mexecute\u001b[0;34m(self, operation, params, multi)\u001b[0m\n\u001b[1;32m    566\u001b[0m \u001b[0;34m\u001b[0m\u001b[0m\n\u001b[1;32m    567\u001b[0m         \u001b[0;32mtry\u001b[0m\u001b[0;34m:\u001b[0m\u001b[0;34m\u001b[0m\u001b[0;34m\u001b[0m\u001b[0m\n\u001b[0;32m--> 568\u001b[0;31m             \u001b[0mself\u001b[0m\u001b[0;34m.\u001b[0m\u001b[0m_handle_result\u001b[0m\u001b[0;34m(\u001b[0m\u001b[0mself\u001b[0m\u001b[0;34m.\u001b[0m\u001b[0m_connection\u001b[0m\u001b[0;34m.\u001b[0m\u001b[0mcmd_query\u001b[0m\u001b[0;34m(\u001b[0m\u001b[0mstmt\u001b[0m\u001b[0;34m)\u001b[0m\u001b[0;34m)\u001b[0m\u001b[0;34m\u001b[0m\u001b[0;34m\u001b[0m\u001b[0m\n\u001b[0m\u001b[1;32m    569\u001b[0m         \u001b[0;32mexcept\u001b[0m \u001b[0merrors\u001b[0m\u001b[0;34m.\u001b[0m\u001b[0mInterfaceError\u001b[0m\u001b[0;34m:\u001b[0m\u001b[0;34m\u001b[0m\u001b[0;34m\u001b[0m\u001b[0m\n\u001b[1;32m    570\u001b[0m             \u001b[0;32mif\u001b[0m \u001b[0mself\u001b[0m\u001b[0;34m.\u001b[0m\u001b[0m_connection\u001b[0m\u001b[0;34m.\u001b[0m\u001b[0m_have_next_result\u001b[0m\u001b[0;34m:\u001b[0m  \u001b[0;31m# pylint: disable=W0212\u001b[0m\u001b[0;34m\u001b[0m\u001b[0;34m\u001b[0m\u001b[0m\n",
      "\u001b[0;32m/Library/Python/3.8/site-packages/mysql/connector/connection.py\u001b[0m in \u001b[0;36mcmd_query\u001b[0;34m(self, query, raw, buffered, raw_as_string)\u001b[0m\n\u001b[1;32m    684\u001b[0m             \u001b[0mquery\u001b[0m \u001b[0;34m=\u001b[0m \u001b[0mquery\u001b[0m\u001b[0;34m.\u001b[0m\u001b[0mencode\u001b[0m\u001b[0;34m(\u001b[0m\u001b[0;34m'utf-8'\u001b[0m\u001b[0;34m)\u001b[0m\u001b[0;34m\u001b[0m\u001b[0;34m\u001b[0m\u001b[0m\n\u001b[1;32m    685\u001b[0m         \u001b[0;32mtry\u001b[0m\u001b[0;34m:\u001b[0m\u001b[0;34m\u001b[0m\u001b[0;34m\u001b[0m\u001b[0m\n\u001b[0;32m--> 686\u001b[0;31m             \u001b[0mresult\u001b[0m \u001b[0;34m=\u001b[0m \u001b[0mself\u001b[0m\u001b[0;34m.\u001b[0m\u001b[0m_handle_result\u001b[0m\u001b[0;34m(\u001b[0m\u001b[0mself\u001b[0m\u001b[0;34m.\u001b[0m\u001b[0m_send_cmd\u001b[0m\u001b[0;34m(\u001b[0m\u001b[0mServerCmd\u001b[0m\u001b[0;34m.\u001b[0m\u001b[0mQUERY\u001b[0m\u001b[0;34m,\u001b[0m \u001b[0mquery\u001b[0m\u001b[0;34m)\u001b[0m\u001b[0;34m)\u001b[0m\u001b[0;34m\u001b[0m\u001b[0;34m\u001b[0m\u001b[0m\n\u001b[0m\u001b[1;32m    687\u001b[0m         \u001b[0;32mexcept\u001b[0m \u001b[0merrors\u001b[0m\u001b[0;34m.\u001b[0m\u001b[0mProgrammingError\u001b[0m \u001b[0;32mas\u001b[0m \u001b[0merr\u001b[0m\u001b[0;34m:\u001b[0m\u001b[0;34m\u001b[0m\u001b[0;34m\u001b[0m\u001b[0m\n\u001b[1;32m    688\u001b[0m             \u001b[0;32mif\u001b[0m \u001b[0merr\u001b[0m\u001b[0;34m.\u001b[0m\u001b[0merrno\u001b[0m \u001b[0;34m==\u001b[0m \u001b[0;36m3948\u001b[0m \u001b[0;32mand\u001b[0m\u001b[0;31m \u001b[0m\u001b[0;31m\\\u001b[0m\u001b[0;34m\u001b[0m\u001b[0;34m\u001b[0m\u001b[0m\n",
      "\u001b[0;32m/Library/Python/3.8/site-packages/mysql/connector/connection.py\u001b[0m in \u001b[0;36m_handle_result\u001b[0;34m(self, packet)\u001b[0m\n\u001b[1;32m    571\u001b[0m             \u001b[0;32mreturn\u001b[0m \u001b[0mself\u001b[0m\u001b[0;34m.\u001b[0m\u001b[0m_handle_eof\u001b[0m\u001b[0;34m(\u001b[0m\u001b[0mpacket\u001b[0m\u001b[0;34m)\u001b[0m\u001b[0;34m\u001b[0m\u001b[0;34m\u001b[0m\u001b[0m\n\u001b[1;32m    572\u001b[0m         \u001b[0;32melif\u001b[0m \u001b[0mpacket\u001b[0m\u001b[0;34m[\u001b[0m\u001b[0;36m4\u001b[0m\u001b[0;34m]\u001b[0m \u001b[0;34m==\u001b[0m \u001b[0;36m255\u001b[0m\u001b[0;34m:\u001b[0m\u001b[0;34m\u001b[0m\u001b[0;34m\u001b[0m\u001b[0m\n\u001b[0;32m--> 573\u001b[0;31m             \u001b[0;32mraise\u001b[0m \u001b[0merrors\u001b[0m\u001b[0;34m.\u001b[0m\u001b[0mget_exception\u001b[0m\u001b[0;34m(\u001b[0m\u001b[0mpacket\u001b[0m\u001b[0;34m)\u001b[0m\u001b[0;34m\u001b[0m\u001b[0;34m\u001b[0m\u001b[0m\n\u001b[0m\u001b[1;32m    574\u001b[0m \u001b[0;34m\u001b[0m\u001b[0m\n\u001b[1;32m    575\u001b[0m         \u001b[0;31m# We have a text result set\u001b[0m\u001b[0;34m\u001b[0m\u001b[0;34m\u001b[0m\u001b[0;34m\u001b[0m\u001b[0m\n",
      "\u001b[0;31mProgrammingError\u001b[0m: 1064 (42000): You have an error in your SQL syntax; check the manual that corresponds to your MySQL server version for the right syntax to use near 'Report’\nFROM\n    Employee e\nINNER JOIN Employee m ON\n    m.employeeId = e.Repo' at line 3"
     ]
    }
   ],
   "source": [
    "import mysql.connector\n",
    "from dotenv import dotenv_values\n",
    "config = dotenv_values(\".env\")  # config = {\"USER\": \"foo\", \"EMAIL\": \"foo@example.org\"}\n",
    "mydb = mysql.connector.connect(\n",
    "  host=config['HOST'],\n",
    "  user=config['USER'],\n",
    "  password=config['PASSWORD'],\n",
    "  database=config['DATABASE']\n",
    ")\n",
    "mycursor = mydb.cursor()\n",
    "'''\n",
    "Lists the number of customers in each country.\n",
    "Only include countries with more than 5 customers\n",
    "'''\n",
    "query =\"SELECT\n",
    "    CONCAT(m.lastName, ‘, ‘, m.firstName) AS Manager,\n",
    "    CONCAT(e.lastName, ‘, ’, e.firstName) AS ‘Direct Report’\n",
    "FROM\n",
    "    Employee e\n",
    "INNER JOIN Employee m ON\n",
    "    m.employeeId = e.ReportsTo\n",
    "ORDER BY\n",
    "    Manager\"\n",
    "\n",
    "mycursor.execute(query)\n",
    "# description accesses headers\n",
    "print(mycursor.description[0][0] , mycursor.description[1][0])\n",
    "for x in mycursor:\n",
    "  print(x)\n",
    "mydb.close()"
   ]
  },
  {
   "cell_type": "code",
   "execution_count": null,
   "metadata": {},
   "outputs": [],
   "source": []
  }
 ],
 "metadata": {
  "kernelspec": {
   "name": "python3",
   "display_name": "Python 3.8.2 64-bit ('usr')"
  },
  "language_info": {
   "codemirror_mode": {
    "name": "ipython",
    "version": 3
   },
   "file_extension": ".py",
   "mimetype": "text/x-python",
   "name": "python",
   "nbconvert_exporter": "python",
   "pygments_lexer": "ipython3",
   "version": "3.8.2"
  },
  "interpreter": {
   "hash": "5edc29c2ed010d6458d71a83433b383a96a8cbd3efe8531bc90c4b8a5b8bcec9"
  }
 },
 "nbformat": 4,
 "nbformat_minor": 5
}