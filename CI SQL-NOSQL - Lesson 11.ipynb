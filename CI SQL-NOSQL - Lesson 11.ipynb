{
 "cells": [
  {
   "cell_type": "markdown",
   "id": "6faffcce",
   "metadata": {},
   "source": [
    "# HW Review"
   ]
  },
  {
   "cell_type": "markdown",
   "id": "3859e4f8",
   "metadata": {},
   "source": []
  },
  {
   "cell_type": "markdown",
   "id": "4d84c1ee",
   "metadata": {},
   "source": [
    "# Warm-Up Exercise For Today"
   ]
  },
  {
   "cell_type": "markdown",
   "id": "e8375e3e",
   "metadata": {},
   "source": [
    "Given the dataset provided MOCK_DATA.csv, do the following: \n",
    "- load the csv using this command \n",
    "```\n",
    "LOAD DATA LOCAL INFILE '/home/myfile.csv'\n",
    "INTO TABLE mock_data FIELDS TERMINATED BY ','\n",
    "ENCLOSED BY '\"' LINES TERMINATED BY '\\n';\n",
    "```\n",
    "- sort the IP addresses by the first three digits (network identifier)\n",
    "- What are all the domains in the emails (domain i.e. : @engadget.com)\n",
    "\n"
   ]
  },
  {
   "cell_type": "code",
   "execution_count": null,
   "id": "02568560",
   "metadata": {},
   "outputs": [],
   "source": [
    "''' Import Data from Database CountryData and format into a dictionary for Mongodb ('''\n",
    "\n",
    "import mysql.connector\n",
    "from dotenv import dotenv_values\n",
    "\n",
    "config = dotenv_values(\".env\")  \n",
    "\n",
    "mydb = mysql.connector.connect(\n",
    "  host=config['HOST'],\n",
    "  user=config['USER'],\n",
    "  password=config['PASSWORD'],\n",
    "  database=config['DATABASE'])\n",
    "\n",
    "mycursor = mydb.cursor()\n",
    "\n",
    "mycursor.execute('Use CountryData;')\n",
    "mycursor.execute('''Alter Table countries\n",
    "Modify Column population_area\tfloat(50,2)\t\t\t\tNot Null\tCheck (population > 0),\n",
    "Modify Column `Area (km^2)`\tfloat(50,2)\tNot Null\tCheck (`Area (km^2)` > 0);''')\n",
    "\n",
    "column_names = []\n",
    "mycursor.execute('''SELECT column_name \n",
    "FROM information_schema.columns \n",
    "WHERE table_name = 'Countries'\n",
    "and column_name like '%%';''')\n",
    "for x in mycursor:\n",
    "  column_names.append(x)\n",
    "\n",
    "column_names2 = []\n",
    "# print(column_names)\n",
    "## >>> [('id',), ('Country',), ('Capital',), ('population',), ('Area (km^2)',), ('Population_Density',)]\n",
    "\n",
    "# mycursor.execute('''Select * From countries;''')\n",
    "column_names2 = ['id', 'Country', 'Capital', 'Population', 'Area (km^2)', 'Population_Density']\n",
    "country_DataLi = []\n",
    "for x in mycursor:\n",
    "    x_li = list(x)\n",
    "    print(x_li)\n",
    "    data_dict = dict(zip(column_names2, x_li))\n",
    "    # for key, value in data_dict.items():\n",
    "    #     value = value.replace('Decimal', '')\n",
    "    country_DataLi.append(data_dict)\n",
    "    \n",
    "# print(country_DataLi[:2])\n",
    "\n",
    "# Taro's Method:\n",
    "mycursor.execute('''Select * From countries;''')\n",
    "all_countries = mycursor.fetchall()\n",
    "print(all_countries[1])\n",
    "\n",
    "\n",
    "\n",
    "\n",
    "\n",
    "\n",
    "\n",
    "# mydb.commit()\n",
    "mydb.close()"
   ]
  },
  {
   "cell_type": "code",
   "execution_count": null,
   "metadata": {},
   "outputs": [],
   "source": []
  }
 ],
 "metadata": {
  "kernelspec": {
   "name": "python3",
   "display_name": "Python 3.8.2 64-bit ('usr')"
  },
  "language_info": {
   "codemirror_mode": {
    "name": "ipython",
    "version": 3
   },
   "file_extension": ".py",
   "mimetype": "text/x-python",
   "name": "python",
   "nbconvert_exporter": "python",
   "pygments_lexer": "ipython3",
   "version": "3.8.2"
  },
  "interpreter": {
   "hash": "5edc29c2ed010d6458d71a83433b383a96a8cbd3efe8531bc90c4b8a5b8bcec9"
  }
 },
 "nbformat": 4,
 "nbformat_minor": 5
}