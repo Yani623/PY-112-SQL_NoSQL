{
 "cells": [
  {
   "cell_type": "markdown",
   "metadata": {},
   "source": [
    "<a href=\"https://codeimmersives.com\"><img src = \"https://www.codeimmersives.com/wp-content/uploads/2019/09/CodeImmersives_Logo_RGB_NYC_BW.png\" width = 400> </a>\n",
    "\n",
    "\n",
    "<h1 align=center><font size = 5>Agenda</font></h1>"
   ]
  },
  {
   "cell_type": "markdown",
   "metadata": {},
   "source": [
    "# SQLite3"
   ]
  },
  {
   "cell_type": "markdown",
   "metadata": {},
   "source": [
    "### Agenda\n",
    "<div class=\"alert alert-block alert-info\" style=\"margin-top: 20px\">\n",
    "\n",
    "1.  [Installation](#0)<br>\n",
    "2.  [Data Definaton Language(DDL)](#2)<br>\n",
    "3.  [CREATE, CREATE TABLE, CREATE VIEW](#4) <br>\n",
    "4.  [DATA TYPES (TEXT, NUMERIC, INTEGER, FLOAT)](#6) <br>     \n",
    "5.  [PRIMARY KEYS](#8) <br> \n",
    "6.  [IF EXISTS, IF NOT EXISTS](#10) <br>\n",
    "7.  [DROP TABLE, DROP INDEX](#12) <br>\n",
    "8.  [TABLES FROM QUERIES]\n",
    "9.  [ALTER TABLES]\n",
    "9.  [Exercise 1](#14) <br>    \n",
    "10. [Exercise 2](#16) <br>\n",
    "11. [Exercise 3](#18) <br>\n",
    "    \n",
    "</div>\n",
    "<hr>"
   ]
  },
  {
   "cell_type": "markdown",
   "metadata": {},
   "source": [
    "# Warm Up Exercises "
   ]
  },
  {
   "cell_type": "code",
   "execution_count": 24,
   "metadata": {},
   "outputs": [
    {
     "output_type": "stream",
     "name": "stdout",
     "text": [
      "abcdefghijklmnopqrstuvwxyzABCDEFGHIJKLMNOPQRSTUVWXYZ\n"
     ]
    }
   ],
   "source": [
    "import string\n",
    "print(string.ascii_letters)"
   ]
  },
  {
   "cell_type": "code",
   "execution_count": null,
   "metadata": {},
   "outputs": [],
   "source": []
  },
  {
   "cell_type": "code",
   "execution_count": 3,
   "metadata": {},
   "outputs": [
    {
     "output_type": "stream",
     "name": "stdout",
     "text": [
      "['__bool__',\n '__class__',\n '__contains__',\n '__delattr__',\n '__dir__',\n '__doc__',\n '__eq__',\n '__format__',\n '__ge__',\n '__getattribute__',\n '__getitem__',\n '__gt__',\n '__hash__',\n '__init__',\n '__init_subclass__',\n '__iter__',\n '__le__',\n '__len__',\n '__lt__',\n '__ne__',\n '__new__',\n '__reduce__',\n '__reduce_ex__',\n '__repr__',\n '__reversed__',\n '__setattr__',\n '__sizeof__',\n '__str__',\n '__subclasshook__',\n 'count',\n 'index',\n 'start',\n 'step',\n 'stop']\n"
     ]
    }
   ],
   "source": [
    "nums = range(5)\n",
    "nums == [i for i  in range(5)] \n",
    "from pprint import pprint\n",
    "pprint(dir(nums))"
   ]
  },
  {
   "cell_type": "code",
   "execution_count": 9,
   "metadata": {},
   "outputs": [
    {
     "output_type": "stream",
     "name": "stdout",
     "text": [
      "Hello World\n"
     ]
    }
   ],
   "source": [
    "import sqlite3\n",
    "import os\n",
    "print(\"Hello World\")"
   ]
  },
  {
   "cell_type": "markdown",
   "metadata": {},
   "source": [
    "# Differences Between Sqlite / mysql\n",
    "https://dzone.com/articles/sqlite-vs-mysql "
   ]
  },
  {
   "cell_type": "markdown",
   "metadata": {},
   "source": [
    "#### Let's create a directory to store all of our data for the course, create a dirctory called 'sql-data'"
   ]
  },
  {
   "cell_type": "markdown",
   "metadata": {},
   "source": [
    "#### Let's determine which directory we are in"
   ]
  },
  {
   "cell_type": "code",
   "execution_count": 25,
   "metadata": {},
   "outputs": [
    {
     "output_type": "stream",
     "name": "stdout",
     "text": [
      "/Users/yani/Desktop/PY-112-MySQL\n/Users/yani/Desktop/PY-112-MySQL\n"
     ]
    }
   ],
   "source": [
    "print(os.getcwd())\n",
    "os.chdir(r'/Users/yani/Desktop/PY-112-MySQL')  \n",
    "print(os.getcwd()) #this gets the working directory"
   ]
  },
  {
   "cell_type": "markdown",
   "metadata": {},
   "source": [
    "#### To create a database and establish a connection to it"
   ]
  },
  {
   "cell_type": "code",
   "execution_count": 26,
   "metadata": {},
   "outputs": [
    {
     "output_type": "stream",
     "name": "stdout",
     "text": [
      "(2, 6, 0)\n"
     ]
    }
   ],
   "source": [
    "conn = sqlite3.connect('customer.db')\n",
    "print(sqlite3.version_info)\n",
    "# If we attempt to connect to a database that does not exist.  It creates it."
   ]
  },
  {
   "cell_type": "code",
   "execution_count": 27,
   "metadata": {},
   "outputs": [
    {
     "output_type": "stream",
     "name": "stdout",
     "text": [
      "['DataError', 'DatabaseError', 'Error', 'IntegrityError', 'InterfaceError', 'InternalError', 'NotSupportedError', 'OperationalError', 'ProgrammingError', 'Warning', 'backup', 'close', 'commit', 'create_aggregate', 'create_collation', 'create_function', 'cursor', 'execute', 'executemany', 'executescript', 'in_transaction', 'interrupt', 'isolation_level', 'iterdump', 'rollback', 'row_factory', 'set_authorizer', 'set_progress_handler', 'set_trace_callback', 'text_factory', 'total_changes']\n"
     ]
    }
   ],
   "source": [
    "#### Let's examine the methods available for the object we just created\n",
    "\n",
    "methods = [x for x in dir(conn) if not x.startswith('_')]\n",
    "print(methods)"
   ]
  },
  {
   "cell_type": "markdown",
   "metadata": {},
   "source": [
    "#### If we check our os we will see that we created a database call 'customer.db'"
   ]
  },
  {
   "cell_type": "code",
   "execution_count": null,
   "metadata": {},
   "outputs": [],
   "source": []
  },
  {
   "cell_type": "markdown",
   "metadata": {},
   "source": [
    "#### A database holds zero or more tables"
   ]
  },
  {
   "cell_type": "code",
   "execution_count": 28,
   "metadata": {},
   "outputs": [
    {
     "output_type": "stream",
     "name": "stdout",
     "text": [
      "['__class__',\n '__delattr__',\n '__dir__',\n '__doc__',\n '__eq__',\n '__format__',\n '__ge__',\n '__getattribute__',\n '__gt__',\n '__hash__',\n '__init__',\n '__init_subclass__',\n '__iter__',\n '__le__',\n '__lt__',\n '__ne__',\n '__new__',\n '__next__',\n '__reduce__',\n '__reduce_ex__',\n '__repr__',\n '__setattr__',\n '__sizeof__',\n '__str__',\n '__subclasshook__',\n 'arraysize',\n 'close',\n 'connection',\n 'description',\n 'execute',\n 'executemany',\n 'executescript',\n 'fetchall',\n 'fetchmany',\n 'fetchone',\n 'lastrowid',\n 'row_factory',\n 'rowcount',\n 'setinputsizes',\n 'setoutputsize']\n-1\n"
     ]
    }
   ],
   "source": [
    "# Create a cursor to access the database\n",
    "c = conn.cursor()\n",
    "pprint(dir(c))\n",
    "print(c.rowcount)\n",
    "# This is equivalent to creating a filehandle when using the 'open' function"
   ]
  },
  {
   "cell_type": "markdown",
   "metadata": {},
   "source": [
    "#### Creating a table"
   ]
  },
  {
   "cell_type": "code",
   "execution_count": 32,
   "metadata": {},
   "outputs": [
    {
     "output_type": "stream",
     "name": "stdout",
     "text": [
      "<class 'sqlite3.Connection'>\n"
     ]
    },
    {
     "output_type": "execute_result",
     "data": {
      "text/plain": [
       "'\\nWARNING !!!! If the table was created previously It will give you \\nan error\\n\\n'"
      ]
     },
     "metadata": {},
     "execution_count": 32
    }
   ],
   "source": [
    "conn = sqlite3.connect('customer.db')\n",
    "print(type(conn))\n",
    "c = conn.cursor()\n",
    "c.execute(\"\"\"CREATE TABLE IF Not Exists customers (\n",
    "    fName TEXT,\n",
    "    lName TEXT,\n",
    "    address1 TEXT,\n",
    "    address2 TEXT,\n",
    "    zip TEXT)\n",
    "\"\"\")\n",
    "conn.commit()  # <=== commit our table to the database\n",
    "conn.close()   # <=== close the connection\n",
    "'''\n",
    "WARNING !!!! If the table was created previously It will give you \n",
    "an error\n",
    "\n",
    "'''\n"
   ]
  },
  {
   "cell_type": "code",
   "execution_count": 31,
   "metadata": {},
   "outputs": [],
   "source": [
    "# Use the IF NOT EXISTS clause if we might have created the table previously\n",
    "conn = sqlite3.connect('customer.db')\n",
    "c = conn.cursor()\n",
    "c.execute(\"\"\"CREATE TABLE IF NOT EXISTS customers (\n",
    "    fName TEXT,\n",
    "    lName TEXT,\n",
    "    address1 TEXT,\n",
    "    address2 TEXT,\n",
    "    zip TEXT)\n",
    "\"\"\")\n",
    "conn.commit()  # <=== commit our table to the database\n",
    "conn.close()"
   ]
  },
  {
   "cell_type": "markdown",
   "metadata": {},
   "source": [
    "#### How can we view the tables already created in a database?"
   ]
  },
  {
   "cell_type": "code",
   "execution_count": 9,
   "metadata": {},
   "outputs": [
    {
     "name": "stdout",
     "output_type": "stream",
     "text": [
      "('customers',)\n",
      "('depts',)\n",
      "('customers',)\n",
      "('depts',)\n"
     ]
    }
   ],
   "source": [
    "'''\n",
    "There are several tools we can use to view our SQLite database and the tables outside of python\n",
    "1. Install full version of SQLite3 - www.sqlite.org\n",
    "2. Install a browser add in - SQLite Manager by Lunu ( PREFERRED)\n",
    "\n",
    "Examine the customer.db file we created\n",
    "Examine the chinook.db file \n",
    "\n",
    "Look at the syntax\n",
    "\n",
    "'''\n",
    "conn = sqlite3.connect('customer.db')\n",
    "c = conn.cursor()\n",
    "for row in c.execute(\"\"\"SELECT name FROM sqlite_master\"\"\"):\n",
    "    print(row)\n",
    "c.execute(\"\"\"CREATE TABLE IF NOT EXISTS depts (\n",
    "    dept_id TEXT,\n",
    "    dept_name TEXT)\n",
    "\"\"\")\n",
    "for row in c.execute(\"\"\"SELECT name FROM sqlite_master\"\"\"):\n",
    "    print(row)\n",
    "conn.commit()  # <=== commit our table to the database\n",
    "conn.close()"
   ]
  },
  {
   "cell_type": "markdown",
   "metadata": {},
   "source": [
    "#### NOTE: CASE MATTERS"
   ]
  },
  {
   "cell_type": "markdown",
   "metadata": {},
   "source": [
    "<H4>The 5 SQLite data types</H4>\n",
    "<H4>NULL<br>\n",
    "    INTEGER<br>\n",
    "    REAL<br>\n",
    "    TEXT<br>\n",
    "    BLOB<br>\n",
    " </H4>"
   ]
  },
  {
   "cell_type": "markdown",
   "metadata": {},
   "source": [
    "#### Inserting data - one record at a time"
   ]
  },
  {
   "cell_type": "code",
   "execution_count": 16,
   "metadata": {},
   "outputs": [],
   "source": [
    "conn = sqlite3.connect('customer.db')\n",
    "c = conn.cursor()\n",
    "print(c.rowcount) #checking rows before inserting data\n",
    "c.execute(\"\"\"INSERT INTO customers VALUES\n",
    "('Mary','Jones','15 Main street','','99995')\"\"\")\n",
    "conn.commit()\n",
    "conn.close()\n",
    "print(c.rowcount) #checking to make sure new row(s) added"
   ]
  },
  {
   "cell_type": "markdown",
   "metadata": {},
   "source": [
    "#### Inserting data - multiple records at once"
   ]
  },
  {
   "cell_type": "code",
   "execution_count": 19,
   "metadata": {},
   "outputs": [],
   "source": [
    "conn = sqlite3.connect('customer.db')\n",
    "c = conn.cursor()\n",
    "all_customers = [\n",
    "    ('Harry','Teague','100 Centre Street','Apt 1A','88888'),\n",
    "    ('Henrietta','Teague','100 Centre Street','Apt 1A','88888'),\n",
    "    ('Larry','Gantt','10 Bond Street','Apt 11C','88000'),\n",
    "    ('Horace','Penn','50 Gansavort Street','Apt 9B','88770'),\n",
    "    ('Patrice','Wright','60 Brooklyn Bridge Park Street','Apt 44M','11234'),\n",
    "]\n",
    "c.executemany(\"\"\"INSERT INTO customers VALUES (?,?,?,?,?)\"\"\", all_customers)\n",
    "conn.commit()\n",
    "conn.close()"
   ]
  },
  {
   "cell_type": "markdown",
   "metadata": {},
   "source": [
    "#### Display your data using the SELECT command"
   ]
  },
  {
   "cell_type": "code",
   "execution_count": 11,
   "metadata": {},
   "outputs": [
    {
     "name": "stdout",
     "output_type": "stream",
     "text": [
      "[('John', 'Smith', '1 Main street', '', '99991'), ('John', 'Smith', '1 Main street', '', '99991'), ('Mary', 'Jones', '15 Main street', '', '99995'), ('Harry', 'Teague', '100 Centre Street', 'Apt 1A', '88888'), ('Henrietta', 'Teague', '100 Centre Street', 'Apt 1A', '88888'), ('Larry', 'Gantt', '10 Bond Street', 'Apt 11C', '88000'), ('Horace', 'Penn', '50 Gansavort Street', 'Apt 9B', '88770'), ('Patrice', 'Wright', '60 Brooklyn Bridge Park Street', 'Apt 44M', '11234')]\n",
      "('John', 'Smith', '1 Main street', '', '99991')\n",
      "John\n"
     ]
    }
   ],
   "source": [
    "conn = sqlite3.connect('customer.db')\n",
    "c = conn.cursor()\n",
    "\n",
    "# The asterick allows you to retreive all of the fields\n",
    "c.execute('SELECT * FROM customers')\n",
    "data = c.fetchall()\n",
    "print(data)\n",
    "\n",
    "# A list of tuples were returned\n",
    "# Check the data type of the elements in the list\n",
    "print(data[0])\n",
    "\n",
    "print(data[0][0]) # Return the first name of the first element in the list\n",
    "conn.commit()\n",
    "conn.close()\n",
    "\n"
   ]
  },
  {
   "cell_type": "markdown",
   "metadata": {},
   "source": [
    "#### fetchone()"
   ]
  },
  {
   "cell_type": "code",
   "execution_count": 19,
   "metadata": {},
   "outputs": [
    {
     "name": "stdout",
     "output_type": "stream",
     "text": [
      "('John', 'Smith', '1 Main street', '', '99991')\n"
     ]
    }
   ],
   "source": [
    "conn = sqlite3.connect('customer.db')\n",
    "c = conn.cursor()\n",
    "\n",
    "c.execute('SELECT * FROM customers')\n",
    "print(c.fetchone())\n",
    "\n",
    "conn.commit()\n",
    "conn.close()\n",
    "# A first record is returned"
   ]
  },
  {
   "cell_type": "markdown",
   "metadata": {},
   "source": [
    "#### fetchmany()"
   ]
  },
  {
   "cell_type": "code",
   "execution_count": 20,
   "metadata": {},
   "outputs": [
    {
     "name": "stdout",
     "output_type": "stream",
     "text": [
      "[('John', 'Smith', '1 Main street', '', '99991'), ('John', 'Smith', '1 Main street', '', '99991'), ('Mary', 'Jones', '15 Main street', '', '99995')]\n"
     ]
    }
   ],
   "source": [
    "conn = sqlite3.connect('customer.db')\n",
    "c = conn.cursor()\n",
    "\n",
    "c.execute('SELECT * FROM customers')\n",
    "print(c.fetchmany(3))\n",
    "\n",
    "conn.commit()\n",
    "conn.close()\n",
    "# The first record is returned"
   ]
  },
  {
   "cell_type": "markdown",
   "metadata": {},
   "source": [
    "#### Examine the elements return by fetchone"
   ]
  },
  {
   "cell_type": "code",
   "execution_count": 26,
   "metadata": {},
   "outputs": [
    {
     "name": "stdout",
     "output_type": "stream",
     "text": [
      "First name: John\n",
      "Last name: Smith\n",
      "Address 1: 1 Main street\n",
      "Address 2: \n",
      "Zip: 99991\n"
     ]
    }
   ],
   "source": [
    "conn = sqlite3.connect('customer.db')\n",
    "c = conn.cursor()\n",
    "\n",
    "c.execute('SELECT * FROM customers')\n",
    "ans = c.fetchone()\n",
    "\n",
    "# Use indexing to return the elements of the tuple\n",
    "print(f'First name: {ans[0]}\\nLast name: {ans[1]}\\nAddress 1: {ans[2]}\\nAddress 2: {ans[3]}\\nZip: {ans[4]}' )\n",
    "\n",
    "conn.commit()\n",
    "conn.close()\n",
    "# A first record is returned"
   ]
  },
  {
   "cell_type": "markdown",
   "metadata": {},
   "source": [
    "#### Iterate over all returned items"
   ]
  },
  {
   "cell_type": "code",
   "execution_count": 32,
   "metadata": {},
   "outputs": [
    {
     "name": "stdout",
     "output_type": "stream",
     "text": [
      "Customer 1\n",
      "First name: John\n",
      "Last name: Smith\n",
      "Address 1: 1 Main street\n",
      "Address 2: \n",
      "Zip: 99991\n",
      "==============================\n",
      "Customer 2\n",
      "First name: John\n",
      "Last name: Smith\n",
      "Address 1: 1 Main street\n",
      "Address 2: \n",
      "Zip: 99991\n",
      "==============================\n",
      "Customer 3\n",
      "First name: Mary\n",
      "Last name: Jones\n",
      "Address 1: 15 Main street\n",
      "Address 2: \n",
      "Zip: 99995\n",
      "==============================\n",
      "Customer 4\n",
      "First name: Harry\n",
      "Last name: Teague\n",
      "Address 1: 100 Centre Street\n",
      "Address 2: Apt 1A\n",
      "Zip: 88888\n",
      "==============================\n",
      "Customer 5\n",
      "First name: Henrietta\n",
      "Last name: Teague\n",
      "Address 1: 100 Centre Street\n",
      "Address 2: Apt 1A\n",
      "Zip: 88888\n",
      "==============================\n",
      "Customer 6\n",
      "First name: Larry\n",
      "Last name: Gantt\n",
      "Address 1: 10 Bond Street\n",
      "Address 2: Apt 11C\n",
      "Zip: 88000\n",
      "==============================\n",
      "Customer 7\n",
      "First name: Horace\n",
      "Last name: Penn\n",
      "Address 1: 50 Gansavort Street\n",
      "Address 2: Apt 9B\n",
      "Zip: 88770\n",
      "==============================\n",
      "Customer 8\n",
      "First name: Patrice\n",
      "Last name: Wright\n",
      "Address 1: 60 Brooklyn Bridge Park Street\n",
      "Address 2: Apt 44M\n",
      "Zip: 11234\n",
      "==============================\n"
     ]
    }
   ],
   "source": [
    "conn = sqlite3.connect('customer.db')\n",
    "c = conn.cursor()\n",
    "\n",
    "c.execute('SELECT * FROM customers')\n",
    "customers = c.fetchall()\n",
    "\n",
    "i = 1\n",
    "for customer in customers:\n",
    "    # Use indexing to return the elements of the tuple\n",
    "    print(f'Customer {i}')\n",
    "    print(f'First name: {customer[0]}\\nLast name: {customer[1]}\\nAddress 1: {customer[2]}\\nAddress 2: {customer[3]}\\nZip: {customer[4]}' )\n",
    "    print('='*30)\n",
    "    i += 1\n",
    "conn.commit()\n",
    "conn.close()"
   ]
  },
  {
   "cell_type": "markdown",
   "metadata": {},
   "source": [
    "#### sqlite primary key is automatically created"
   ]
  },
  {
   "cell_type": "code",
   "execution_count": 13,
   "metadata": {},
   "outputs": [
    {
     "name": "stdout",
     "output_type": "stream",
     "text": [
      "Customer 1\n",
      "First name: John\n",
      "Last name: Smith\n",
      "Address 1: 1 Main street\n",
      "Address 2: \n",
      "Zip: 99991\n",
      "==============================\n",
      "Customer 2\n",
      "First name: John\n",
      "Last name: Smith\n",
      "Address 1: 1 Main street\n",
      "Address 2: \n",
      "Zip: 99991\n",
      "==============================\n",
      "Customer 3\n",
      "First name: Mary\n",
      "Last name: Jones\n",
      "Address 1: 15 Main street\n",
      "Address 2: \n",
      "Zip: 99995\n",
      "==============================\n",
      "Customer 4\n",
      "First name: Harry\n",
      "Last name: Teague\n",
      "Address 1: 100 Centre Street\n",
      "Address 2: Apt 1A\n",
      "Zip: 88888\n",
      "==============================\n",
      "Customer 5\n",
      "First name: Henrietta\n",
      "Last name: Teague\n",
      "Address 1: 100 Centre Street\n",
      "Address 2: Apt 1A\n",
      "Zip: 88888\n",
      "==============================\n",
      "Customer 6\n",
      "First name: Larry\n",
      "Last name: Gantt\n",
      "Address 1: 10 Bond Street\n",
      "Address 2: Apt 11C\n",
      "Zip: 88000\n",
      "==============================\n",
      "Customer 7\n",
      "First name: Horace\n",
      "Last name: Penn\n",
      "Address 1: 50 Gansavort Street\n",
      "Address 2: Apt 9B\n",
      "Zip: 88770\n",
      "==============================\n",
      "Customer 8\n",
      "First name: Patrice\n",
      "Last name: Wright\n",
      "Address 1: 60 Brooklyn Bridge Park Street\n",
      "Address 2: Apt 44M\n",
      "Zip: 11234\n",
      "==============================\n"
     ]
    }
   ],
   "source": [
    "conn = sqlite3.connect('customer.db')\n",
    "c = conn.cursor()\n",
    "\n",
    "c.execute('SELECT rowid,* FROM customers')  # rowid is now the first element in the returned tuple\n",
    "customers = c.fetchall()\n",
    "\n",
    "# i = 1\n",
    "for customer in customers:\n",
    "    # Use indexing to return the elements of the tuple\n",
    "    print(f'Customer {customer[0]}')\n",
    "    print(f'First name: {customer[1]}\\nLast name: {customer[2]}\\nAddress 1: {customer[3]}\\nAddress 2: {customer[4]}\\nZip: {customer[5]}' )\n",
    "    print('='*30)\n",
    "conn.commit()\n",
    "conn.close()"
   ]
  },
  {
   "cell_type": "code",
   "execution_count": null,
   "metadata": {},
   "outputs": [],
   "source": [
    "'''\n",
    "In case of a database locked issue.\n",
    "Recreate your database by running the code again and changing the database name to customer1.db\n",
    "\n",
    "'''"
   ]
  },
  {
   "cell_type": "markdown",
   "metadata": {},
   "source": [
    "This notebook is part of a course at www.codeimmersives.com called SQL-NOSQL. If you accessed this notebook outside the course, you can get more information about this course online by clicking here."
   ]
  },
  {
   "cell_type": "markdown",
   "metadata": {},
   "source": [
    "<hr>\n",
    "\n",
    "Copyright &copy; 2021  Code Immersives"
   ]
  }
 ],
 "metadata": {
  "kernelspec": {
   "name": "python3",
   "display_name": "Python 3.8.2 64-bit ('usr')"
  },
  "language_info": {
   "codemirror_mode": {
    "name": "ipython",
    "version": 3
   },
   "file_extension": ".py",
   "mimetype": "text/x-python",
   "name": "python",
   "nbconvert_exporter": "python",
   "pygments_lexer": "ipython3",
   "version": "3.8.2"
  },
  "interpreter": {
   "hash": "5edc29c2ed010d6458d71a83433b383a96a8cbd3efe8531bc90c4b8a5b8bcec9"
  }
 },
 "nbformat": 4,
 "nbformat_minor": 4
}