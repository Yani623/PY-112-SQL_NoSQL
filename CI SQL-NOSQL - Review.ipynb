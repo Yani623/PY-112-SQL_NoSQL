{
 "cells": [
  {
   "cell_type": "markdown",
   "source": [
    "# Review Exercises"
   ],
   "metadata": {}
  },
  {
   "cell_type": "markdown",
   "source": [],
   "metadata": {}
  },
  {
   "cell_type": "markdown",
   "source": [
    "## python review \n",
    "Write a program that checks if a given year is a leap year \n",
    "\n",
    "A leap year is exactly divisible by 4 except for century years (years ending with 00). The century year is a leap year only if it is perfectly divisible by 400.\n",
    "\n",
    "For example,\n",
    "\n",
    "1999 is not a leap year\n",
    "2000 is a leap year\n",
    "2004 is a leap year\n"
   ],
   "metadata": {}
  },
  {
   "cell_type": "code",
   "execution_count": 4,
   "source": [
    "def is_leap_year(year):\n",
    "    if int(year) % 4 == 0:\n",
    "        print(f'{year} is a leap year')\n",
    "    else:\n",
    "        print(f'{year} is not a leap year')\n",
    "is_leap_year(2001)"
   ],
   "outputs": [
    {
     "output_type": "stream",
     "name": "stdout",
     "text": [
      "2001 is not a leap year\n"
     ]
    }
   ],
   "metadata": {}
  },
  {
   "cell_type": "markdown",
   "source": [
    "# core python review "
   ],
   "metadata": {}
  },
  {
   "cell_type": "markdown",
   "source": [
    "## Exercise 1"
   ],
   "metadata": {}
  },
  {
   "cell_type": "code",
   "execution_count": 40,
   "source": [
    "# Write a program that finds the amount of vowels and consonants across all texts (aggregated total). \n",
    "# Answer the following:\n",
    "# do all the texts together have more consonants or vowels?\n",
    "# consonants: B, C, D, F, G, J, K, L, M, N, P, Q, S, T, V, X, Z and often H, R, W, Y.\n",
    "# vowels: AEIOU\n",
    "\n",
    "text1 = 'A vowel is a syllabic speech sound pronounced without any stricture in the vocal tract. Vowels are one of the two principal classes of speech sounds, the other being the consonant. Vowels vary in quality, in loudness and also in quantity (length). They are usually voiced and are closely involved in prosodic variation such as tone, intonation and stress.\\nThe word vowel comes from the Latin word vocalis, meaning \"vocal\" (i.e. relating to the voice). In English, the word vowel is commonly used to refer both to vowel sounds and to the written symbols that represent them (a, e, i, o, u, and sometimes y).'\n",
    "text2 = 'In articulatory phonetics, a consonant is a speech sound that is articulated with complete or partial closure of the vocal tract. Examples are [p], pronounced with the lips; [t], pronounced with the front of the tongue; [k], pronounced with the back of the tongue; [h], pronounced in the throat; [f] and [s], pronounced by forcing air through a narrow channel (fricatives); and [m] and [n], which have air flowing through the nose (nasals). Contrasting with consonants are vowels.\\nSince the number of speech sounds in the world\\'s languages is much greater than the number of letters in any one alphabet, linguists have devised systems such as the International Phonetic Alphabet (IPA) to assign a unique and unambiguous symbol to each attested consonant. The English alphabet has fewer consonant letters than the English language has consonant sounds, so digraphs like ⟨ch⟩, ⟨sh⟩, ⟨th⟩, and ⟨ng⟩ are used to extend the alphabet, though some letters and digraphs represent more than one consonant. For example, the sound spelled ⟨th⟩ in \"this\" is a different consonant from the ⟨th⟩ sound in \"thin\". (In the IPA, these are [ð] and [θ], respectively.)\\n\\n'\n",
    "text3 = 'An alphabet is a standardized set of basic written symbols or graphemes (called letters) that represent the phonemes of certain spoken languages. Not all writing systems represent language in this way; in a syllabary, each character represents a syllable, for instance, and logographic systems use characters to represent words, morphemes, or other semantic units.The first fully phonemic script, the Proto-Canaanite script, later known as the Phoenician alphabet, is considered to be the first alphabet, and is the ancestor of most modern alphabets, including Arabic, Cyrillic, Greek, Hebrew, Latin, and possibly Brahmic. It was created by Semitic-speaking workers and slaves in the Sinai Peninsula (as the Proto-Sinaitic script), by selecting a small number of hieroglyphs commonly seen in their Egyptian surroundings to describe the sounds, as opposed to the semantic values, of their own Canaanite language. Peter T. Daniels, however, distinguishes an abugida or alphasyllabary, a set of graphemes that represent consonantal base letters which diacritics modify to represent vowels (as in Devanagari and other South Asian scripts), an abjad, in which letters predominantly or exclusively represent consonants (as in the original Phoenician, Hebrew or Arabic), and an \"alphabet\", a set of graphemes that represent both vowels and consonants. In this narrow sense of the word the first true alphabet was the Greek alphabet, which was developed on the basis of the earlier Phoenician alphabet.\\nOf the dozens of alphabets in use today, the most popular is the Latin alphabet, which was derived from the Greek, and which many languages modify by adding letters formed using diacritical marks.  While most alphabets have letters composed of lines (linear writing), there are also exceptions such as the alphabets used in Braille. The Khmer alphabet (for Cambodian) is the longest, with 74 letters.Alphabets are usually associated with a standard ordering of letters. This makes them useful for purposes of collation, specifically by allowing words to be sorted in alphabetical order. It also means that their letters can be used as an alternative method of \"numbering\" ordered items, in such contexts as numbered lists and number placements.'\n",
    "\n",
    "# 1: remove punctuation and make all lower case\n",
    "\n",
    "import string\n",
    "\n",
    "# text1 = text1.translate(str.maketrans('', '', string.punctuation))\n",
    "# # print(text1)\n",
    "\n",
    "# text2 = text2.translate(str.maketrans('', '', string.punctuation))\n",
    "\n",
    "# text3 = text3.translate(str.maketrans('', '', string.punctuation))\n",
    "\n",
    "\n",
    "# 2: Check for Vowels\n",
    "\n",
    "\n",
    "# Write a program that finds the amount of vowels and consonants across all texts (aggregated total). \n",
    "import string\n",
    "def count_vowels_and_consonants(str = '', str2 = '', str3 = ''):\n",
    "    str1 = text1.translate(str.maketrans('', '', string.punctuation)).lower()\n",
    "\n",
    "    str2 = text2.translate(str.maketrans('', '', string.punctuation)).lower()\n",
    "\n",
    "    str3 = text3.translate(str.maketrans('', '', string.punctuation)).lower()\n",
    "\n",
    "    total_str = str + str2 + str3\n",
    "    vowels = ['a', 'e', 'i', 'o', 'u']\n",
    "    vowel_count = 0\n",
    "    consonant_count = 0\n",
    "    for x in total_str:\n",
    "        if x in vowels:\n",
    "            vowel_count += 1\n",
    "        else:\n",
    "            consonant_count += 1\n",
    "    \n",
    "    print(f'There are a total of {consonant_count} consonants, and {vowel_count} vowels')\n",
    "\n",
    "    if consonant_count > vowel_count:\n",
    "        print('There are more consonants than vowels')\n",
    "    elif consonant_count == vowel_count:\n",
    "        print('There are equal amounts of consonants and vowels')\n",
    "    else: \n",
    "        print('There are more vowels than consonants which is really weird')\n",
    "\n",
    "count_vowels_and_consonants(text1, text2, text3)\n",
    "\n",
    "# # Using Set theory to get a list of consonants:\n",
    "# consonants = (set(string.ascii_lowercase).difference('aeiou'))\n",
    "\n",
    "\n",
    "\n",
    "\n"
   ],
   "outputs": [
    {
     "output_type": "stream",
     "name": "stdout",
     "text": [
      "There are a total of 2696 consonants, and 1172 vowels\n",
      "There are more consonants than vowels\n"
     ]
    }
   ],
   "metadata": {}
  },
  {
   "cell_type": "markdown",
   "source": [
    "## Exercise 2 \n",
    "\n",
    "An IPv4 address has the following format: x . x . x . x where x is called an octet and must be a decimal value between 0 and 255. Octets are separated by periods. (0.0.0.0 - 255.255.255.255  (where each decimal point is 1-3 numbers between 0-9))\n",
    "\n",
    "An IPv6 (Normal) address has the following format: y : y : y : y : y : y : y : y where y is called a segment and can be any hexadecimal value between 0 and FFFF. The segments are separated by colons - not periods. (where y is four values that can be 0-9 or a-Z)\n",
    "\n",
    "\n",
    "\n",
    "\n",
    "ipv4 examples: \n",
    "- 19.117.63.126\n",
    "- 127.0.0.1\n",
    "\n",
    "ipv6 examples: \n",
    "- 2001 : db8: 3333 : 4444 : 5555 : 6666 : 7777 : 8888\n",
    "- 2001 : db8 : 3333 : 4444 : CCCC : DDDD : EEEE : FFFF\n",
    "\n",
    "\n",
    "\n",
    "Write a function that takes an ip as a string and determines if it is a valid ipv6\n",
    "write another function that takes an ip as a string and determines if it is a valid ipv4 \n",
    "write a function that uses these two functions to determine if the ip address is a valid ip4 or a valid ip6.\n",
    "\n",
    "```\n",
    "def is_valid_ipv6():\n",
    "    #code here \n",
    "    \n",
    "def is_valid_ipv4():\n",
    "    #code here \n",
    "    \n",
    "def is_valid_ip_address():\n",
    "    is_valid_ipv6()\n",
    "    ....\n",
    "```\n"
   ],
   "metadata": {}
  },
  {
   "cell_type": "code",
   "execution_count": 146,
   "source": [
    "\n",
    "str1 = \"2001 : db8: 3333 : 4444 : 5555 : 6666 : 7777 : 8888\"\n",
    "\n",
    "def is_valid_ipv6(string = ''):\n",
    "    strLi = string.replace(\" \", \"\").lower().split(\":\") # makes a list of each four digit value\n",
    "    if ':' not in string or len(strLi) != 8: \n",
    "            return \"This is not a valid IPv6 address\"\n",
    "    for i in strLi: # for every string in the list\n",
    "        if len(i) not in range(1,5): \n",
    "            return \"This is not a valid IPv6 address\"\n",
    "        for x in i: # for every element in each string\n",
    "            if x.isalpha() or x.isdigit():\n",
    "                continue\n",
    "            else: \n",
    "                return \"This is not a valid IPv6 address\"\n",
    "                \n",
    "    return \"This is a valid IPv6 address\"\n",
    "\n",
    "\n",
    "print(is_valid_ipv6(str1))\n",
    "\n",
    "str2 = \"19.117.63.126\"   \n",
    "def is_valid_ipv4(string = ''):\n",
    "    strLi = string.replace(\" \", \"\").lower().split(\".\") # makes a list of each four digit value\n",
    "    if '.' not in string or len(strLi) != 4:\n",
    "        return \"This is not a valid IPv4 address\"\n",
    "    for i in strLi: # for every string in the list\n",
    "        if 3 < len(i) < 1: \n",
    "            return \"This is not a valid IPv4 address\"\n",
    "        for x in i: # for every letter in each string\n",
    "            if x.isdigit():\n",
    "                continue\n",
    "            else: \n",
    "                return \"This is not a valid IPv4 address\"\n",
    "                \n",
    "    return \"This is a valid IPv4 address\"\n",
    "    \n",
    "# print(is_valid_ipv4(str2))\n",
    "\n",
    "\n",
    "def is_valid_ip_address(string = ''):\n",
    "    print(((is_valid_ipv6(string)+\".\")), (is_valid_ipv4(string)))\n",
    "\n",
    "# is_valid_ip_address(str1)\n",
    "\n"
   ],
   "outputs": [
    {
     "output_type": "error",
     "ename": "TypeError",
     "evalue": "argument of type 'builtin_function_or_method' is not iterable",
     "traceback": [
      "\u001b[0;31m---------------------------------------------------------------------------\u001b[0m",
      "\u001b[0;31mTypeError\u001b[0m                                 Traceback (most recent call last)",
      "\u001b[0;32m<ipython-input-146-2a8b0d86eceb>\u001b[0m in \u001b[0;36m<module>\u001b[0;34m\u001b[0m\n\u001b[1;32m     17\u001b[0m \u001b[0;34m\u001b[0m\u001b[0m\n\u001b[1;32m     18\u001b[0m \u001b[0;34m\u001b[0m\u001b[0m\n\u001b[0;32m---> 19\u001b[0;31m \u001b[0mprint\u001b[0m\u001b[0;34m(\u001b[0m\u001b[0mis_valid_ipv6\u001b[0m\u001b[0;34m(\u001b[0m\u001b[0mstr1\u001b[0m\u001b[0;34m)\u001b[0m\u001b[0;34m)\u001b[0m\u001b[0;34m\u001b[0m\u001b[0;34m\u001b[0m\u001b[0m\n\u001b[0m\u001b[1;32m     20\u001b[0m \u001b[0;34m\u001b[0m\u001b[0m\n\u001b[1;32m     21\u001b[0m \u001b[0mstr2\u001b[0m \u001b[0;34m=\u001b[0m \u001b[0;34m\"19.117.63.126\"\u001b[0m\u001b[0;34m\u001b[0m\u001b[0;34m\u001b[0m\u001b[0m\n",
      "\u001b[0;32m<ipython-input-146-2a8b0d86eceb>\u001b[0m in \u001b[0;36mis_valid_ipv6\u001b[0;34m(string)\u001b[0m\n\u001b[1;32m      9\u001b[0m             \u001b[0;32mreturn\u001b[0m \u001b[0;34m\"This is not a valid IPv6 address\"\u001b[0m\u001b[0;34m\u001b[0m\u001b[0;34m\u001b[0m\u001b[0m\n\u001b[1;32m     10\u001b[0m         \u001b[0;32mfor\u001b[0m \u001b[0mx\u001b[0m \u001b[0;32min\u001b[0m \u001b[0mi\u001b[0m\u001b[0;34m:\u001b[0m \u001b[0;31m# for every letter in each string\u001b[0m\u001b[0;34m\u001b[0m\u001b[0;34m\u001b[0m\u001b[0m\n\u001b[0;32m---> 11\u001b[0;31m             \u001b[0;32mif\u001b[0m \u001b[0mx\u001b[0m \u001b[0;32min\u001b[0m \u001b[0mhex\u001b[0m \u001b[0;32mor\u001b[0m \u001b[0mx\u001b[0m\u001b[0;34m.\u001b[0m\u001b[0misdigit\u001b[0m\u001b[0;34m(\u001b[0m\u001b[0;34m)\u001b[0m\u001b[0;34m:\u001b[0m\u001b[0;34m\u001b[0m\u001b[0;34m\u001b[0m\u001b[0m\n\u001b[0m\u001b[1;32m     12\u001b[0m                 \u001b[0;32mcontinue\u001b[0m\u001b[0;34m\u001b[0m\u001b[0;34m\u001b[0m\u001b[0m\n\u001b[1;32m     13\u001b[0m             \u001b[0;32melse\u001b[0m\u001b[0;34m:\u001b[0m\u001b[0;34m\u001b[0m\u001b[0;34m\u001b[0m\u001b[0m\n",
      "\u001b[0;31mTypeError\u001b[0m: argument of type 'builtin_function_or_method' is not iterable"
     ]
    }
   ],
   "metadata": {}
  },
  {
   "cell_type": "markdown",
   "source": [
    "## Country Data scraping exercise: \n",
    "https://www.scrapethissite.com/pages/simple  (Country data) \n",
    "\n",
    "Scrape this site for it's country data and create a database/ table from the data. \n",
    "\n",
    "Calculate the population density for each country and add that as a column in your table along with the other information provided on each country\n",
    "\n",
    "population density = population / km^2\n",
    "\n",
    "\n",
    "### Additionally Determine the following: \n",
    "\n",
    "- Which country has the largest population ( using sql)\n",
    "- Which country has the longest name (using sql)\n",
    "- Which countries have a population between 30,000 and 500,000? (using sql)\n",
    "- Which countries have a population greater than 500,000 and start with the letter A? (using sql)"
   ],
   "metadata": {}
  },
  {
   "cell_type": "code",
   "execution_count": 1,
   "source": [
    "import requests # Requests is an HTTP library that allows you to send HTTP/1.1 requests extremely easily. \n",
    "from bs4 import BeautifulSoup \n",
    "\n",
    "url = 'https://www.scrapethissite.com/pages/simple' \n",
    "result = requests.get(url)\n",
    "soup = BeautifulSoup(result.content, 'html.parser')\n",
    "\n",
    "all_countries = soup.find_all(\"div\", {\"class\": \"col-md-4 country\"})\n",
    "# print(all_countries[0].prettify())\n",
    "\n",
    "\n",
    "country_data = []\n",
    "for entry in all_countries:\n",
    "    country = entry.find('h3').get_text().strip()\n",
    "    capital = entry.find('span', {\"class\": \"country-capital\"}).get_text()\n",
    "    population = int(entry.find('span', class_= \"country-population\").get_text())\n",
    "    # print(population)\n",
    "    area = int(round(float((entry.find(\"span\", class_ = \"country-area\").get_text()))))\n",
    "    # print(area)\n",
    "    if population <= 0 or area <= 0:\n",
    "        population_density = 0\n",
    "    else:\n",
    "        population_density = population/int(round(area))\n",
    "    country_data.append((country, capital, population, area, population_density))\n",
    "\n",
    "\n",
    "print(country_data[0])\n",
    "\n",
    "\n"
   ],
   "outputs": [
    {
     "output_type": "stream",
     "name": "stdout",
     "text": [
      "('Andorra', 'Andorra la Vella', 84000, 468, 179.48717948717947)\n"
     ]
    }
   ],
   "metadata": {}
  },
  {
   "cell_type": "code",
   "execution_count": 2,
   "source": [
    "''' Creating Database and Table'''\n",
    "\n",
    "\n",
    "import mysql.connector\n",
    "from dotenv import dotenv_values\n",
    "\n",
    "config = dotenv_values(\".env\")  \n",
    "\n",
    "mydb = mysql.connector.connect(\n",
    "host=config['HOST'],\n",
    "user=config['USER'],\n",
    "password=config['PASSWORD'],\n",
    "database=config['DATABASE'])\n",
    "\n",
    "mycursor = mydb.cursor()\n",
    "\n",
    "mycursor.execute('Create Database If Not Exists CountryData;')\n",
    "mycursor.execute('Use CountryData;')\n",
    "\n",
    "mycursor.execute('Drop Table If Exists Countries;')\n",
    "mycursor.execute('''Create Table If Not Exists Countries\n",
    "(\n",
    "id                  int             Not Null  Auto_Increment  Primary Key,\n",
    "Country             varchar(250)    Not Null,\n",
    "Capital             varchar(250)    Not Null,\n",
    "Population          int             Not Null,\n",
    "`Area (km^2)`       decimal(50, 2)  Not Null,\n",
    "Population_Density  decimal(50, 2)   Not Null);\n",
    "''')\n",
    "\n",
    "mycursor.executemany('''Insert Into Countries (Country, Capital, Population, `Area (km^2)`, Population_Density) Values (%s, %s, %s, %s, %s)''', country_data)\n",
    "\n",
    "\n",
    "mydb.commit()\n",
    "# mycursor.executemany('Select * From \"list_name\"')\n",
    "# for x in mycursor:\n",
    "#   print(x)\n",
    "mydb.close()"
   ],
   "outputs": [],
   "metadata": {}
  },
  {
   "cell_type": "markdown",
   "source": [
    "## MySQL Workbench Query's"
   ],
   "metadata": {}
  },
  {
   "cell_type": "markdown",
   "source": [],
   "metadata": {}
  },
  {
   "cell_type": "markdown",
   "source": [
    "Use CountryData;\n",
    "-- Which country has the largest population ( using sql)\n",
    "Select *\n",
    "From Countries\n",
    "Order By population DESC\n",
    "Limit 1;\n",
    "\n",
    "-- Which country has the longest name (using sql)\n",
    "SELECT \n",
    "    Country, LENGTH(country) AS NameLength\n",
    "FROM\n",
    "    Countries\n",
    "GROUP BY country\n",
    "ORDER BY NameLength DESC\n",
    "LIMIT 1;\n",
    "\n",
    "-- Which countries have a population between 30,000 and 500,000? (using sql)\n",
    "Select Country, Population\n",
    "From Countries\n",
    "Where Population Between 30000 and 500000\n",
    "Order By Population DESC;\n",
    "\n",
    "\n",
    "-- Which countries have a population greater than 500,000 and start with the letter A? (using sql)\n",
    "Select Country, Population\n",
    "From Countries\n",
    "Where Population > 500000 And INSTR(country, 'a') = 1\n",
    "Order By Population DESC;"
   ],
   "metadata": {}
  }
 ],
 "metadata": {
  "kernelspec": {
   "name": "python3",
   "display_name": "Python 3.8.2 64-bit"
  },
  "language_info": {
   "codemirror_mode": {
    "name": "ipython",
    "version": 3
   },
   "file_extension": ".py",
   "mimetype": "text/x-python",
   "name": "python",
   "nbconvert_exporter": "python",
   "pygments_lexer": "ipython3",
   "version": "3.8.2"
  },
  "interpreter": {
   "hash": "31f2aee4e71d21fbe5cf8b01ff0e069b9275f58929596ceb00d14d90e3e16cd6"
  }
 },
 "nbformat": 4,
 "nbformat_minor": 5
}